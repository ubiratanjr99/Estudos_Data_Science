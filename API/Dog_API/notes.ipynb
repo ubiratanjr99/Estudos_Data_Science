{
 "cells": [
  {
   "cell_type": "code",
   "execution_count": 41,
   "id": "5a59d9b9",
   "metadata": {},
   "outputs": [],
   "source": [
    "import requests\n",
    "import json\n",
    "import pandas as pd\n",
    "import os"
   ]
  },
  {
   "cell_type": "code",
   "execution_count": 107,
   "id": "51eba332",
   "metadata": {},
   "outputs": [],
   "source": [
    "url = 'https://dogapi.dog/api/v2/facts'\n",
    "response = requests.get(url)\n",
    "dados = response.json()"
   ]
  },
  {
   "cell_type": "code",
   "execution_count": 108,
   "id": "9ba388d4",
   "metadata": {},
   "outputs": [
    {
     "name": "stdout",
     "output_type": "stream",
     "text": [
      "{\n",
      "   \"data\": [\n",
      "      {\n",
      "         \"id\": \"5ebe029b-b4e8-4c90-8c03-8623ba2c0b9a\",\n",
      "         \"type\": \"fact\",\n",
      "         \"attributes\": {\n",
      "            \"body\": \"Puppies\\u2019 eyes do not fully open until they\\u2019re about 12 days old.\"\n",
      "         }\n",
      "      }\n",
      "   ]\n",
      "}\n"
     ]
    }
   ],
   "source": [
    "print(json.dumps(dados, indent=3))"
   ]
  },
  {
   "cell_type": "code",
   "execution_count": 109,
   "id": "263c0a03",
   "metadata": {},
   "outputs": [
    {
     "data": {
      "text/plain": [
       "'Puppies’ eyes do not fully open until they’re about 12 days old.'"
      ]
     },
     "execution_count": 109,
     "metadata": {},
     "output_type": "execute_result"
    }
   ],
   "source": [
    "body = dados['data'][0]['attributes']['body']\n",
    "body"
   ]
  },
  {
   "cell_type": "code",
   "execution_count": 110,
   "id": "b5248959",
   "metadata": {},
   "outputs": [
    {
     "data": {
      "text/plain": [
       "'5ebe029b-b4e8-4c90-8c03-8623ba2c0b9a'"
      ]
     },
     "execution_count": 110,
     "metadata": {},
     "output_type": "execute_result"
    }
   ],
   "source": [
    "id = dados['data'][0]['id']\n",
    "id"
   ]
  },
  {
   "cell_type": "code",
   "execution_count": 111,
   "id": "1c6b5122",
   "metadata": {},
   "outputs": [
    {
     "name": "stdout",
     "output_type": "stream",
     "text": [
      "{\n",
      "    \"id\": \"5ebe029b-b4e8-4c90-8c03-8623ba2c0b9a\",\n",
      "    \"type\": \"fact\",\n",
      "    \"attributes\": {\n",
      "        \"body\": \"Puppies\\u2019 eyes do not fully open until they\\u2019re about 12 days old.\"\n",
      "    }\n",
      "}\n"
     ]
    }
   ],
   "source": [
    "geral = dados['data'][0]\n",
    "print(json.dumps(geral, indent=4))"
   ]
  },
  {
   "cell_type": "code",
   "execution_count": 112,
   "id": "b3fe142e",
   "metadata": {},
   "outputs": [],
   "source": [
    "contador = 0\n",
    "jsonCompleto = []\n",
    "\n",
    "while contador < 3:\n",
    "    response = requests.get(url)\n",
    "    data = response.json()\n",
    "    fact = data['data'][0]\n",
    "    jsonCompleto.append(fact)\n",
    "    contador += 1"
   ]
  },
  {
   "cell_type": "code",
   "execution_count": 113,
   "id": "9302d762",
   "metadata": {},
   "outputs": [
    {
     "name": "stdout",
     "output_type": "stream",
     "text": [
      "[\n",
      "    {\n",
      "        \"id\": \"9dfd100d-47da-4b24-b712-9889ac1bee85\",\n",
      "        \"type\": \"fact\",\n",
      "        \"attributes\": {\n",
      "            \"body\": \"When \\\"Bobbie,\\\" a Collie/Shepherd mix, was accidentally abandoned on a family vacation, he traveled 2,551 miles over six months to return to his home.\"\n",
      "        }\n",
      "    },\n",
      "    {\n",
      "        \"id\": \"a9b11a26-82cb-4fb7-aa7a-9ef556ad4712\",\n",
      "        \"type\": \"fact\",\n",
      "        \"attributes\": {\n",
      "            \"body\": \"Chocolate is poisonous to dogs because it contains theobromine.\"\n",
      "        }\n",
      "    },\n",
      "    {\n",
      "        \"id\": \"e2e12e01-43cc-44c9-b6e6-d942d2805b43\",\n",
      "        \"type\": \"fact\",\n",
      "        \"attributes\": {\n",
      "            \"body\": \"Greyhounds can reach a speed of up to 45 miles per hour.\"\n",
      "        }\n",
      "    }\n",
      "]\n"
     ]
    }
   ],
   "source": [
    "print(json.dumps(jsonCompleto, indent=4))"
   ]
  },
  {
   "cell_type": "code",
   "execution_count": 114,
   "id": "6d29d062",
   "metadata": {},
   "outputs": [],
   "source": [
    "df = pd.json_normalize(jsonCompleto)"
   ]
  },
  {
   "cell_type": "code",
   "execution_count": 115,
   "id": "6a7075ef",
   "metadata": {},
   "outputs": [],
   "source": [
    "df.rename(columns={'type': 'Tipo', 'attributes.body': 'Descrição'}, inplace=True)"
   ]
  },
  {
   "cell_type": "code",
   "execution_count": 123,
   "id": "435436bb",
   "metadata": {},
   "outputs": [],
   "source": [
    "path = 'relatorio.xlsx'\n",
    "\n",
    "if os.path.exists(path):\n",
    "    df_existente = pd.read_excel(path)\n",
    "    novos_dados = df[~df['id'].isin(df_existente['id'])]\n",
    "    df_concatenado = pd.concat([df_existente, novos_dados], ignore_index=True)\n",
    "else:\n",
    "    df_concatenado = df\n",
    "\n",
    "df_concatenado.to_excel(path, index=False)"
   ]
  },
  {
   "cell_type": "code",
   "execution_count": 62,
   "id": "e2791a46",
   "metadata": {},
   "outputs": [
    {
     "data": {
      "text/html": [
       "<div>\n",
       "<style scoped>\n",
       "    .dataframe tbody tr th:only-of-type {\n",
       "        vertical-align: middle;\n",
       "    }\n",
       "\n",
       "    .dataframe tbody tr th {\n",
       "        vertical-align: top;\n",
       "    }\n",
       "\n",
       "    .dataframe thead th {\n",
       "        text-align: right;\n",
       "    }\n",
       "</style>\n",
       "<table border=\"1\" class=\"dataframe\">\n",
       "  <thead>\n",
       "    <tr style=\"text-align: right;\">\n",
       "      <th></th>\n",
       "      <th>id</th>\n",
       "      <th>type</th>\n",
       "      <th>attributes.body</th>\n",
       "    </tr>\n",
       "  </thead>\n",
       "  <tbody>\n",
       "    <tr>\n",
       "      <th>0</th>\n",
       "      <td>7f8a117c-4652-4ce8-a3c9-a01e70fe796d</td>\n",
       "      <td>fact</td>\n",
       "      <td>Dog noses are also very cute and easy to boop.</td>\n",
       "    </tr>\n",
       "    <tr>\n",
       "      <th>1</th>\n",
       "      <td>1a4fd08d-88ec-4bc2-95cd-262870e22eab</td>\n",
       "      <td>fact</td>\n",
       "      <td>Cerberus was the tri-headed dog that guarded t...</td>\n",
       "    </tr>\n",
       "    <tr>\n",
       "      <th>2</th>\n",
       "      <td>035c13e1-fcd3-4cc0-b181-b2a4d79732b6</td>\n",
       "      <td>fact</td>\n",
       "      <td>Irish Wolfhounds, the tallest breed, are 30 to...</td>\n",
       "    </tr>\n",
       "  </tbody>\n",
       "</table>\n",
       "</div>"
      ],
      "text/plain": [
       "                                     id  type  \\\n",
       "0  7f8a117c-4652-4ce8-a3c9-a01e70fe796d  fact   \n",
       "1  1a4fd08d-88ec-4bc2-95cd-262870e22eab  fact   \n",
       "2  035c13e1-fcd3-4cc0-b181-b2a4d79732b6  fact   \n",
       "\n",
       "                                     attributes.body  \n",
       "0     Dog noses are also very cute and easy to boop.  \n",
       "1  Cerberus was the tri-headed dog that guarded t...  \n",
       "2  Irish Wolfhounds, the tallest breed, are 30 to...  "
      ]
     },
     "execution_count": 62,
     "metadata": {},
     "output_type": "execute_result"
    }
   ],
   "source": [
    "df_existente"
   ]
  },
  {
   "cell_type": "code",
   "execution_count": 88,
   "id": "defcfd41",
   "metadata": {},
   "outputs": [
    {
     "name": "stdout",
     "output_type": "stream",
     "text": [
      "id                     7f8a117c-4652-4ce8-a3c9-a01e70fe796d\n",
      "Tipo                                                   fact\n",
      "Descrição    Dog noses are also very cute and easy to boop.\n",
      "Name: 0, dtype: object\n",
      "id                        1a4fd08d-88ec-4bc2-95cd-262870e22eab\n",
      "Tipo                                                      fact\n",
      "Descrição    Cerberus was the tri-headed dog that guarded t...\n",
      "Name: 1, dtype: object\n",
      "id                        035c13e1-fcd3-4cc0-b181-b2a4d79732b6\n",
      "Tipo                                                      fact\n",
      "Descrição    Irish Wolfhounds, the tallest breed, are 30 to...\n",
      "Name: 2, dtype: object\n"
     ]
    }
   ],
   "source": [
    "linhas = len(df)\n",
    "contador = 0\n",
    "\n",
    "while contador < linhas:\n",
    "    print(df.iloc[contador])\n",
    "    contador += 1"
   ]
  }
 ],
 "metadata": {
  "kernelspec": {
   "display_name": "Python 3",
   "language": "python",
   "name": "python3"
  },
  "language_info": {
   "codemirror_mode": {
    "name": "ipython",
    "version": 3
   },
   "file_extension": ".py",
   "mimetype": "text/x-python",
   "name": "python",
   "nbconvert_exporter": "python",
   "pygments_lexer": "ipython3",
   "version": "3.13.1"
  }
 },
 "nbformat": 4,
 "nbformat_minor": 5
}
