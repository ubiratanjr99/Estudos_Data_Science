{
 "cells": [
  {
   "cell_type": "markdown",
   "id": "9bb9e53c",
   "metadata": {},
   "source": [
    "**Dia 2: Lendo Dados:** A função mais importante! pd.read_csv() e pd.read_excel(). \n",
    "<br>\n",
    "<br>\n",
    "Explore os parâmetros essenciais como sep, header e decimal."
   ]
  },
  {
   "cell_type": "code",
   "execution_count": 1,
   "id": "5eb45e56",
   "metadata": {},
   "outputs": [],
   "source": [
    "import pandas as pd"
   ]
  },
  {
   "cell_type": "markdown",
   "id": "b5a1b33c",
   "metadata": {},
   "source": [
    "### Lendo CSV (read_csv)"
   ]
  },
  {
   "cell_type": "code",
   "execution_count": null,
   "id": "8b02f370",
   "metadata": {},
   "outputs": [
    {
     "data": {
      "text/html": [
       "<div>\n",
       "<style scoped>\n",
       "    .dataframe tbody tr th:only-of-type {\n",
       "        vertical-align: middle;\n",
       "    }\n",
       "\n",
       "    .dataframe tbody tr th {\n",
       "        vertical-align: top;\n",
       "    }\n",
       "\n",
       "    .dataframe thead th {\n",
       "        text-align: right;\n",
       "    }\n",
       "</style>\n",
       "<table border=\"1\" class=\"dataframe\">\n",
       "  <thead>\n",
       "    <tr style=\"text-align: right;\">\n",
       "      <th></th>\n",
       "      <th>data</th>\n",
       "      <th>produto</th>\n",
       "      <th>categoria</th>\n",
       "      <th>quantidade</th>\n",
       "      <th>preco_unitario</th>\n",
       "      <th>valor_total</th>\n",
       "    </tr>\n",
       "  </thead>\n",
       "  <tbody>\n",
       "    <tr>\n",
       "      <th>0</th>\n",
       "      <td>2025-07-30</td>\n",
       "      <td>Fone de Ouvido</td>\n",
       "      <td>Periféricos</td>\n",
       "      <td>4</td>\n",
       "      <td>4589.94</td>\n",
       "      <td>18359.76</td>\n",
       "    </tr>\n",
       "    <tr>\n",
       "      <th>1</th>\n",
       "      <td>2025-07-08</td>\n",
       "      <td>Laptop</td>\n",
       "      <td>Eletrônicos</td>\n",
       "      <td>4</td>\n",
       "      <td>3526.15</td>\n",
       "      <td>14104.60</td>\n",
       "    </tr>\n",
       "    <tr>\n",
       "      <th>2</th>\n",
       "      <td>2025-06-01</td>\n",
       "      <td>Fone de Ouvido</td>\n",
       "      <td>Periféricos</td>\n",
       "      <td>3</td>\n",
       "      <td>1068.22</td>\n",
       "      <td>3204.66</td>\n",
       "    </tr>\n",
       "    <tr>\n",
       "      <th>3</th>\n",
       "      <td>2025-06-28</td>\n",
       "      <td>Fone de Ouvido</td>\n",
       "      <td>Periféricos</td>\n",
       "      <td>2</td>\n",
       "      <td>933.85</td>\n",
       "      <td>1867.70</td>\n",
       "    </tr>\n",
       "    <tr>\n",
       "      <th>4</th>\n",
       "      <td>2025-07-21</td>\n",
       "      <td>SSD Externo</td>\n",
       "      <td>Periféricos</td>\n",
       "      <td>3</td>\n",
       "      <td>2390.20</td>\n",
       "      <td>7170.60</td>\n",
       "    </tr>\n",
       "  </tbody>\n",
       "</table>\n",
       "</div>"
      ],
      "text/plain": [
       "         data         produto    categoria  quantidade  preco_unitario  \\\n",
       "0  2025-07-30  Fone de Ouvido  Periféricos           4         4589.94   \n",
       "1  2025-07-08          Laptop  Eletrônicos           4         3526.15   \n",
       "2  2025-06-01  Fone de Ouvido  Periféricos           3         1068.22   \n",
       "3  2025-06-28  Fone de Ouvido  Periféricos           2          933.85   \n",
       "4  2025-07-21     SSD Externo  Periféricos           3         2390.20   \n",
       "\n",
       "   valor_total  \n",
       "0     18359.76  \n",
       "1     14104.60  \n",
       "2      3204.66  \n",
       "3      1867.70  \n",
       "4      7170.60  "
      ]
     },
     "execution_count": 18,
     "metadata": {},
     "output_type": "execute_result"
    }
   ],
   "source": [
    "# sep=',' -> delimitador do csv\n",
    "# decimal=',' -> quer dizer que os valores decimais estão separados por ',', ex: R$10,50.\n",
    "df = pd.read_csv('vendas_loja.csv', sep=';', decimal=',')\n",
    "df.head()\n"
   ]
  },
  {
   "cell_type": "markdown",
   "id": "b3ddc3e1",
   "metadata": {},
   "source": [
    "### Lendo EXCEL (read_excel)"
   ]
  },
  {
   "cell_type": "code",
   "execution_count": null,
   "id": "4c1334cf",
   "metadata": {},
   "outputs": [
    {
     "data": {
      "text/html": [
       "<div>\n",
       "<style scoped>\n",
       "    .dataframe tbody tr th:only-of-type {\n",
       "        vertical-align: middle;\n",
       "    }\n",
       "\n",
       "    .dataframe tbody tr th {\n",
       "        vertical-align: top;\n",
       "    }\n",
       "\n",
       "    .dataframe thead th {\n",
       "        text-align: right;\n",
       "    }\n",
       "</style>\n",
       "<table border=\"1\" class=\"dataframe\">\n",
       "  <thead>\n",
       "    <tr style=\"text-align: right;\">\n",
       "      <th></th>\n",
       "      <th>titulo</th>\n",
       "      <th>genero</th>\n",
       "      <th>servico_streaming</th>\n",
       "      <th>ano_lancamento</th>\n",
       "      <th>episodios</th>\n",
       "      <th>nota_imdb</th>\n",
       "    </tr>\n",
       "  </thead>\n",
       "  <tbody>\n",
       "    <tr>\n",
       "      <th>0</th>\n",
       "      <td>A Maldição de Volkov</td>\n",
       "      <td>Comédia</td>\n",
       "      <td>Disney+</td>\n",
       "      <td>2021</td>\n",
       "      <td>20</td>\n",
       "      <td>9.2</td>\n",
       "    </tr>\n",
       "    <tr>\n",
       "      <th>1</th>\n",
       "      <td>O Jogo das Sombras</td>\n",
       "      <td>Ficção Científica</td>\n",
       "      <td>Amazon Prime Video</td>\n",
       "      <td>2019</td>\n",
       "      <td>10</td>\n",
       "      <td>7.7</td>\n",
       "    </tr>\n",
       "    <tr>\n",
       "      <th>2</th>\n",
       "      <td>O Jogo das Sombras</td>\n",
       "      <td>Fantasia</td>\n",
       "      <td>Amazon Prime Video</td>\n",
       "      <td>2016</td>\n",
       "      <td>30</td>\n",
       "      <td>6.9</td>\n",
       "    </tr>\n",
       "    <tr>\n",
       "      <th>3</th>\n",
       "      <td>A Ilha dos Desafios</td>\n",
       "      <td>Suspense</td>\n",
       "      <td>HBO Max</td>\n",
       "      <td>2015</td>\n",
       "      <td>18</td>\n",
       "      <td>8.1</td>\n",
       "    </tr>\n",
       "    <tr>\n",
       "      <th>4</th>\n",
       "      <td>Código Secreto</td>\n",
       "      <td>Fantasia</td>\n",
       "      <td>Netflix</td>\n",
       "      <td>2021</td>\n",
       "      <td>41</td>\n",
       "      <td>7.5</td>\n",
       "    </tr>\n",
       "  </tbody>\n",
       "</table>\n",
       "</div>"
      ],
      "text/plain": [
       "                 titulo             genero   servico_streaming  \\\n",
       "0  A Maldição de Volkov            Comédia             Disney+   \n",
       "1    O Jogo das Sombras  Ficção Científica  Amazon Prime Video   \n",
       "2    O Jogo das Sombras           Fantasia  Amazon Prime Video   \n",
       "3   A Ilha dos Desafios           Suspense             HBO Max   \n",
       "4        Código Secreto           Fantasia             Netflix   \n",
       "\n",
       "   ano_lancamento  episodios  nota_imdb  \n",
       "0            2021         20        9.2  \n",
       "1            2019         10        7.7  \n",
       "2            2016         30        6.9  \n",
       "3            2015         18        8.1  \n",
       "4            2021         41        7.5  "
      ]
     },
     "execution_count": 21,
     "metadata": {},
     "output_type": "execute_result"
    }
   ],
   "source": [
    "# sheet_name='Nome' -> especifica a aba que você quer abrir do Excel\n",
    "df = pd.read_excel('filmes_series.xlsx', sheet_name='Series de TV')\n",
    "df.head()"
   ]
  }
 ],
 "metadata": {
  "kernelspec": {
   "display_name": "Python 3",
   "language": "python",
   "name": "python3"
  },
  "language_info": {
   "codemirror_mode": {
    "name": "ipython",
    "version": 3
   },
   "file_extension": ".py",
   "mimetype": "text/x-python",
   "name": "python",
   "nbconvert_exporter": "python",
   "pygments_lexer": "ipython3",
   "version": "3.13.1"
  }
 },
 "nbformat": 4,
 "nbformat_minor": 5
}
