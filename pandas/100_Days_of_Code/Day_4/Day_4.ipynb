{
 "cells": [
  {
   "cell_type": "code",
   "execution_count": 3,
   "id": "7e06511e",
   "metadata": {},
   "outputs": [],
   "source": [
    "import pandas as pd"
   ]
  },
  {
   "cell_type": "code",
   "execution_count": 4,
   "id": "ff9ddf2b",
   "metadata": {},
   "outputs": [],
   "source": [
    "df = pd.DataFrame({\n",
    "    'Produto': [\n",
    "        'Produto_1', 'Produto_2', 'Produto_3', 'Produto_4', 'Produto_5',\n",
    "        'Produto_6', 'Produto_7', 'Produto_8', 'Produto_9', 'Produto_10',\n",
    "        'Produto_11', 'Produto_12', 'Produto_13', 'Produto_14', 'Produto_15',\n",
    "        'Produto_16', 'Produto_17', 'Produto_18', 'Produto_19', 'Produto_20'\n",
    "    ],\n",
    "    'Preco': [\n",
    "        10.50, 23.90, 5.75, 48.00, 12.99,\n",
    "        75.00, 34.50, 8.99, 19.99, 55.55,\n",
    "        27.40, 66.60, 42.00, 7.80, 9.90,\n",
    "        15.00, 39.99, 22.50, 60.00, 11.25\n",
    "    ],\n",
    "    'Quantidade': [\n",
    "        10, 5, 8, 12, 6,\n",
    "        15, 7, 3, 9, 4,\n",
    "        11, 14, 2, 13, 8,\n",
    "        16, 5, 6, 12, 7\n",
    "    ],\n",
    "    'Categoria': [\n",
    "        'A', 'B', 'A', 'C', 'B',\n",
    "        'A', 'B', 'C', 'A', 'C',\n",
    "        'B', 'A', 'C', 'B', 'A',\n",
    "        'C', 'B', 'A', 'C', 'B'\n",
    "    ],\n",
    "    'Desconto(%)': [\n",
    "        5, 10, 0, 15, 20,\n",
    "        5, 25, 0, 10, 30,\n",
    "        5, 0, 20, 15, 10,\n",
    "        5, 0, 25, 15, 5\n",
    "    ]\n",
    "})\n"
   ]
  },
  {
   "cell_type": "markdown",
   "id": "04b94062",
   "metadata": {},
   "source": [
    "Média de preço"
   ]
  },
  {
   "cell_type": "code",
   "execution_count": 5,
   "id": "60017040",
   "metadata": {},
   "outputs": [],
   "source": [
    "preco_medio = df['Preco'].mean().round(2)"
   ]
  },
  {
   "cell_type": "markdown",
   "id": "3df11ce6",
   "metadata": {},
   "source": [
    "Maior preço"
   ]
  },
  {
   "cell_type": "code",
   "execution_count": 6,
   "id": "9874fb70",
   "metadata": {},
   "outputs": [],
   "source": [
    "maior_preco = df['Preco'].max()"
   ]
  },
  {
   "cell_type": "markdown",
   "id": "3862d723",
   "metadata": {},
   "source": [
    "Menor preço"
   ]
  },
  {
   "cell_type": "code",
   "execution_count": 7,
   "id": "0931b695",
   "metadata": {},
   "outputs": [],
   "source": [
    "menor_preco = df['Preco'].min()"
   ]
  },
  {
   "cell_type": "markdown",
   "id": "895c38d3",
   "metadata": {},
   "source": [
    "Verificando os produtos únicos"
   ]
  },
  {
   "cell_type": "code",
   "execution_count": 8,
   "id": "54f6b69f",
   "metadata": {},
   "outputs": [
    {
     "name": "stdout",
     "output_type": "stream",
     "text": [
      "0      Produto_1\n",
      "1      Produto_2\n",
      "2      Produto_3\n",
      "3      Produto_4\n",
      "4      Produto_5\n",
      "5      Produto_6\n",
      "6      Produto_7\n",
      "7      Produto_8\n",
      "8      Produto_9\n",
      "9     Produto_10\n",
      "10    Produto_11\n",
      "11    Produto_12\n",
      "12    Produto_13\n",
      "13    Produto_14\n",
      "14    Produto_15\n",
      "15    Produto_16\n",
      "16    Produto_17\n",
      "17    Produto_18\n",
      "18    Produto_19\n",
      "19    Produto_20\n",
      "Name: Produto, dtype: object\n"
     ]
    }
   ],
   "source": [
    "unicos = df['Produto'].drop_duplicates()\n",
    "print(unicos)"
   ]
  },
  {
   "cell_type": "markdown",
   "id": "55ecd8cb",
   "metadata": {},
   "source": [
    "Contando os valores únicos"
   ]
  },
  {
   "cell_type": "code",
   "execution_count": 9,
   "id": "c7fc913c",
   "metadata": {},
   "outputs": [
    {
     "data": {
      "text/plain": [
       "20"
      ]
     },
     "execution_count": 9,
     "metadata": {},
     "output_type": "execute_result"
    }
   ],
   "source": [
    "qtd_unicos = df['Produto'].nunique()\n",
    "qtd_unicos"
   ]
  },
  {
   "cell_type": "markdown",
   "id": "4b9345c4",
   "metadata": {},
   "source": [
    "Contando a quantidade de colunas"
   ]
  },
  {
   "cell_type": "code",
   "execution_count": 10,
   "id": "685ed333",
   "metadata": {},
   "outputs": [
    {
     "data": {
      "text/plain": [
       "5"
      ]
     },
     "execution_count": 10,
     "metadata": {},
     "output_type": "execute_result"
    }
   ],
   "source": [
    "colunas = df.columns\n",
    "qtd_colunas = colunas.nunique()\n",
    "qtd_colunas"
   ]
  },
  {
   "cell_type": "markdown",
   "id": "edfe01c1",
   "metadata": {},
   "source": [
    "Pegando o nome do produto mais barato"
   ]
  },
  {
   "cell_type": "code",
   "execution_count": 11,
   "id": "afc0d549",
   "metadata": {},
   "outputs": [
    {
     "name": "stdout",
     "output_type": "stream",
     "text": [
      "Produto_3\n"
     ]
    }
   ],
   "source": [
    "produto_mais_barato = df.loc[df['Preco'] == menor_preco, 'Produto'].values[0]\n",
    "print(produto_mais_barato)"
   ]
  },
  {
   "cell_type": "markdown",
   "id": "63988a97",
   "metadata": {},
   "source": [
    "Pegando o nome do produto com maior desconto"
   ]
  },
  {
   "cell_type": "code",
   "execution_count": 18,
   "id": "43f909b2",
   "metadata": {},
   "outputs": [
    {
     "data": {
      "text/plain": [
       "'Produto_10'"
      ]
     },
     "execution_count": 18,
     "metadata": {},
     "output_type": "execute_result"
    }
   ],
   "source": [
    "maior_desconto = df['Desconto(%)'].max()\n",
    "produto_maior_desconto = df.loc[df['Desconto(%)'] == maior_desconto, 'Produto'].values[0]\n",
    "produto_maior_desconto"
   ]
  },
  {
   "cell_type": "markdown",
   "id": "04d35aac",
   "metadata": {},
   "source": [
    "Pegando o nome do produto mais caro"
   ]
  },
  {
   "cell_type": "code",
   "execution_count": 19,
   "id": "16df42d5",
   "metadata": {},
   "outputs": [
    {
     "data": {
      "text/plain": [
       "'Produto_6'"
      ]
     },
     "execution_count": 19,
     "metadata": {},
     "output_type": "execute_result"
    }
   ],
   "source": [
    "produto_mais_caro = df.loc[df['Preco'] == maior_preco, 'Produto'].values[0]\n",
    "produto_mais_caro"
   ]
  },
  {
   "cell_type": "markdown",
   "id": "eef15193",
   "metadata": {},
   "source": [
    "Criando uma coluna de valor agredado (Quantidade x Preco)"
   ]
  },
  {
   "cell_type": "code",
   "execution_count": 14,
   "id": "fd2af6f1",
   "metadata": {},
   "outputs": [
    {
     "data": {
      "text/html": [
       "<div>\n",
       "<style scoped>\n",
       "    .dataframe tbody tr th:only-of-type {\n",
       "        vertical-align: middle;\n",
       "    }\n",
       "\n",
       "    .dataframe tbody tr th {\n",
       "        vertical-align: top;\n",
       "    }\n",
       "\n",
       "    .dataframe thead th {\n",
       "        text-align: right;\n",
       "    }\n",
       "</style>\n",
       "<table border=\"1\" class=\"dataframe\">\n",
       "  <thead>\n",
       "    <tr style=\"text-align: right;\">\n",
       "      <th></th>\n",
       "      <th>Produto</th>\n",
       "      <th>Preco</th>\n",
       "      <th>Quantidade</th>\n",
       "      <th>Categoria</th>\n",
       "      <th>Desconto(%)</th>\n",
       "      <th>Valor_Agregado</th>\n",
       "    </tr>\n",
       "  </thead>\n",
       "  <tbody>\n",
       "    <tr>\n",
       "      <th>5</th>\n",
       "      <td>Produto_6</td>\n",
       "      <td>75.00</td>\n",
       "      <td>15</td>\n",
       "      <td>A</td>\n",
       "      <td>5</td>\n",
       "      <td>1125.00</td>\n",
       "    </tr>\n",
       "    <tr>\n",
       "      <th>11</th>\n",
       "      <td>Produto_12</td>\n",
       "      <td>66.60</td>\n",
       "      <td>14</td>\n",
       "      <td>A</td>\n",
       "      <td>0</td>\n",
       "      <td>932.40</td>\n",
       "    </tr>\n",
       "    <tr>\n",
       "      <th>18</th>\n",
       "      <td>Produto_19</td>\n",
       "      <td>60.00</td>\n",
       "      <td>12</td>\n",
       "      <td>C</td>\n",
       "      <td>15</td>\n",
       "      <td>720.00</td>\n",
       "    </tr>\n",
       "    <tr>\n",
       "      <th>3</th>\n",
       "      <td>Produto_4</td>\n",
       "      <td>48.00</td>\n",
       "      <td>12</td>\n",
       "      <td>C</td>\n",
       "      <td>15</td>\n",
       "      <td>576.00</td>\n",
       "    </tr>\n",
       "    <tr>\n",
       "      <th>10</th>\n",
       "      <td>Produto_11</td>\n",
       "      <td>27.40</td>\n",
       "      <td>11</td>\n",
       "      <td>B</td>\n",
       "      <td>5</td>\n",
       "      <td>301.40</td>\n",
       "    </tr>\n",
       "    <tr>\n",
       "      <th>6</th>\n",
       "      <td>Produto_7</td>\n",
       "      <td>34.50</td>\n",
       "      <td>7</td>\n",
       "      <td>B</td>\n",
       "      <td>25</td>\n",
       "      <td>241.50</td>\n",
       "    </tr>\n",
       "    <tr>\n",
       "      <th>15</th>\n",
       "      <td>Produto_16</td>\n",
       "      <td>15.00</td>\n",
       "      <td>16</td>\n",
       "      <td>C</td>\n",
       "      <td>5</td>\n",
       "      <td>240.00</td>\n",
       "    </tr>\n",
       "    <tr>\n",
       "      <th>9</th>\n",
       "      <td>Produto_10</td>\n",
       "      <td>55.55</td>\n",
       "      <td>4</td>\n",
       "      <td>C</td>\n",
       "      <td>30</td>\n",
       "      <td>222.20</td>\n",
       "    </tr>\n",
       "    <tr>\n",
       "      <th>16</th>\n",
       "      <td>Produto_17</td>\n",
       "      <td>39.99</td>\n",
       "      <td>5</td>\n",
       "      <td>B</td>\n",
       "      <td>0</td>\n",
       "      <td>199.95</td>\n",
       "    </tr>\n",
       "    <tr>\n",
       "      <th>8</th>\n",
       "      <td>Produto_9</td>\n",
       "      <td>19.99</td>\n",
       "      <td>9</td>\n",
       "      <td>A</td>\n",
       "      <td>10</td>\n",
       "      <td>179.91</td>\n",
       "    </tr>\n",
       "    <tr>\n",
       "      <th>17</th>\n",
       "      <td>Produto_18</td>\n",
       "      <td>22.50</td>\n",
       "      <td>6</td>\n",
       "      <td>A</td>\n",
       "      <td>25</td>\n",
       "      <td>135.00</td>\n",
       "    </tr>\n",
       "    <tr>\n",
       "      <th>1</th>\n",
       "      <td>Produto_2</td>\n",
       "      <td>23.90</td>\n",
       "      <td>5</td>\n",
       "      <td>B</td>\n",
       "      <td>10</td>\n",
       "      <td>119.50</td>\n",
       "    </tr>\n",
       "    <tr>\n",
       "      <th>0</th>\n",
       "      <td>Produto_1</td>\n",
       "      <td>10.50</td>\n",
       "      <td>10</td>\n",
       "      <td>A</td>\n",
       "      <td>5</td>\n",
       "      <td>105.00</td>\n",
       "    </tr>\n",
       "    <tr>\n",
       "      <th>13</th>\n",
       "      <td>Produto_14</td>\n",
       "      <td>7.80</td>\n",
       "      <td>13</td>\n",
       "      <td>B</td>\n",
       "      <td>15</td>\n",
       "      <td>101.40</td>\n",
       "    </tr>\n",
       "    <tr>\n",
       "      <th>12</th>\n",
       "      <td>Produto_13</td>\n",
       "      <td>42.00</td>\n",
       "      <td>2</td>\n",
       "      <td>C</td>\n",
       "      <td>20</td>\n",
       "      <td>84.00</td>\n",
       "    </tr>\n",
       "    <tr>\n",
       "      <th>14</th>\n",
       "      <td>Produto_15</td>\n",
       "      <td>9.90</td>\n",
       "      <td>8</td>\n",
       "      <td>A</td>\n",
       "      <td>10</td>\n",
       "      <td>79.20</td>\n",
       "    </tr>\n",
       "    <tr>\n",
       "      <th>19</th>\n",
       "      <td>Produto_20</td>\n",
       "      <td>11.25</td>\n",
       "      <td>7</td>\n",
       "      <td>B</td>\n",
       "      <td>5</td>\n",
       "      <td>78.75</td>\n",
       "    </tr>\n",
       "    <tr>\n",
       "      <th>4</th>\n",
       "      <td>Produto_5</td>\n",
       "      <td>12.99</td>\n",
       "      <td>6</td>\n",
       "      <td>B</td>\n",
       "      <td>20</td>\n",
       "      <td>77.94</td>\n",
       "    </tr>\n",
       "    <tr>\n",
       "      <th>2</th>\n",
       "      <td>Produto_3</td>\n",
       "      <td>5.75</td>\n",
       "      <td>8</td>\n",
       "      <td>A</td>\n",
       "      <td>0</td>\n",
       "      <td>46.00</td>\n",
       "    </tr>\n",
       "    <tr>\n",
       "      <th>7</th>\n",
       "      <td>Produto_8</td>\n",
       "      <td>8.99</td>\n",
       "      <td>3</td>\n",
       "      <td>C</td>\n",
       "      <td>0</td>\n",
       "      <td>26.97</td>\n",
       "    </tr>\n",
       "  </tbody>\n",
       "</table>\n",
       "</div>"
      ],
      "text/plain": [
       "       Produto  Preco  Quantidade Categoria  Desconto(%)  Valor_Agregado\n",
       "5    Produto_6  75.00          15         A            5         1125.00\n",
       "11  Produto_12  66.60          14         A            0          932.40\n",
       "18  Produto_19  60.00          12         C           15          720.00\n",
       "3    Produto_4  48.00          12         C           15          576.00\n",
       "10  Produto_11  27.40          11         B            5          301.40\n",
       "6    Produto_7  34.50           7         B           25          241.50\n",
       "15  Produto_16  15.00          16         C            5          240.00\n",
       "9   Produto_10  55.55           4         C           30          222.20\n",
       "16  Produto_17  39.99           5         B            0          199.95\n",
       "8    Produto_9  19.99           9         A           10          179.91\n",
       "17  Produto_18  22.50           6         A           25          135.00\n",
       "1    Produto_2  23.90           5         B           10          119.50\n",
       "0    Produto_1  10.50          10         A            5          105.00\n",
       "13  Produto_14   7.80          13         B           15          101.40\n",
       "12  Produto_13  42.00           2         C           20           84.00\n",
       "14  Produto_15   9.90           8         A           10           79.20\n",
       "19  Produto_20  11.25           7         B            5           78.75\n",
       "4    Produto_5  12.99           6         B           20           77.94\n",
       "2    Produto_3   5.75           8         A            0           46.00\n",
       "7    Produto_8   8.99           3         C            0           26.97"
      ]
     },
     "execution_count": 14,
     "metadata": {},
     "output_type": "execute_result"
    }
   ],
   "source": [
    "valor_agredado = df.eval('Valor_Agregado = Quantidade * Preco', inplace=False).sort_values(by='Valor_Agregado', ascending=False)\n",
    "estoque_mais_caro = valor_agredado['Valor_Agregado'].max()\n",
    "valor_agredado"
   ]
  },
  {
   "cell_type": "markdown",
   "id": "afe9602a",
   "metadata": {},
   "source": [
    "Somando o valor agregado total do estoque"
   ]
  },
  {
   "cell_type": "code",
   "execution_count": 21,
   "id": "3c08b81a",
   "metadata": {},
   "outputs": [
    {
     "name": "stdout",
     "output_type": "stream",
     "text": [
      "5592.12\n"
     ]
    }
   ],
   "source": [
    "valor_total_estoque = valor_agredado['Valor_Agregado'].sum()\n",
    "print(valor_total_estoque)"
   ]
  },
  {
   "cell_type": "markdown",
   "id": "0c4b2615",
   "metadata": {},
   "source": [
    "Pegando o nome do produto com maior valor agredado no estoque."
   ]
  },
  {
   "cell_type": "code",
   "execution_count": 16,
   "id": "613bda5c",
   "metadata": {},
   "outputs": [
    {
     "data": {
      "text/plain": [
       "'Produto_6'"
      ]
     },
     "execution_count": 16,
     "metadata": {},
     "output_type": "execute_result"
    }
   ],
   "source": [
    "maior_valor_de_estoque = df.loc[valor_agredado['Valor_Agregado'] == estoque_mais_caro, 'Produto'].values[0]\n",
    "maior_valor_de_estoque"
   ]
  },
  {
   "cell_type": "markdown",
   "id": "0d32b13c",
   "metadata": {},
   "source": [
    "Resumo da análise"
   ]
  },
  {
   "cell_type": "code",
   "execution_count": 17,
   "id": "66cf8519",
   "metadata": {},
   "outputs": [
    {
     "name": "stdout",
     "output_type": "stream",
     "text": [
      "A base de dados tem 20 linhas e 5 colunas.\n",
      "O produto mais caro é o \"Produto_6\" que custa R$75.0\n",
      "O mais barato é o \"Produto_3\" que custa R$5.75.\n",
      "O produto com maior desconto é o Produto_10, tendo 30% de desconto.\n",
      "O ticket médio da base de dados é de R$29.88.\n",
      "Temos um valor total de estoque de R$5592.12, onde o Produto_6 tem o maior valor agregado (R$1125.0)\n"
     ]
    }
   ],
   "source": [
    "print(f'A base de dados tem {qtd_unicos} linhas e {qtd_colunas} colunas.\\n' +\n",
    "      f'O produto mais caro é o \"{produto_mais_caro}\" que custa R${maior_preco}\\n' +\n",
    "      f'O mais barato é o \"{produto_mais_barato}\" que custa R${menor_preco}.\\n' +\n",
    "      f'O produto com maior desconto é o {produto_maior_desconto}, tendo {maior_desconto}% de desconto.\\n'\n",
    "      f'O ticket médio da base de dados é de R${preco_medio}.\\n'\n",
    "      f'Temos um valor total de estoque de R${valor_total_estoque}, onde o {maior_valor_de_estoque} tem o maior valor agregado (R${estoque_mais_caro})')"
   ]
  }
 ],
 "metadata": {
  "kernelspec": {
   "display_name": "Python 3",
   "language": "python",
   "name": "python3"
  },
  "language_info": {
   "codemirror_mode": {
    "name": "ipython",
    "version": 3
   },
   "file_extension": ".py",
   "mimetype": "text/x-python",
   "name": "python",
   "nbconvert_exporter": "python",
   "pygments_lexer": "ipython3",
   "version": "3.10.12"
  }
 },
 "nbformat": 4,
 "nbformat_minor": 5
}
