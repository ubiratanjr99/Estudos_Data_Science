{
 "cells": [
  {
   "cell_type": "markdown",
   "id": "bd624d22",
   "metadata": {},
   "source": [
    "**Dia 5: Selecionando Linhas com .loc[] e .iloc[]:** Entenda a diferença crucial entre selecionar por rótulo (.loc) e por posição numérica (.iloc)."
   ]
  },
  {
   "cell_type": "code",
   "execution_count": 1,
   "id": "f8dc21fd",
   "metadata": {},
   "outputs": [],
   "source": [
    "import pandas as pd"
   ]
  },
  {
   "cell_type": "code",
   "execution_count": 11,
   "id": "aa380a64",
   "metadata": {},
   "outputs": [],
   "source": [
    "df = pd.DataFrame({\n",
    "    'Produto': [\n",
    "        'Produto_1', 'Produto_2', 'Produto_3', 'Produto_4', 'Produto_5',\n",
    "        'Produto_6', 'Produto_7', 'Produto_8', 'Produto_9', 'Produto_10',\n",
    "        'Produto_11', 'Produto_12', 'Produto_13', 'Produto_14', 'Produto_15',\n",
    "        'Produto_16', 'Produto_17', 'Produto_18', 'Produto_19', 'Produto_20'\n",
    "    ],\n",
    "    'Preco': [\n",
    "        10.50, 23.90, 5.75, 48.00, 12.99,\n",
    "        75.00, 34.50, 8.99, 19.99, 55.55,\n",
    "        27.40, 66.60, 42.00, 7.80, 9.90,\n",
    "        15.00, 39.99, 22.50, 60.00, 11.25\n",
    "    ],\n",
    "    'Quantidade': [\n",
    "        10, 5, 8, 12, 6,\n",
    "        15, 7, 3, 9, 4,\n",
    "        11, 14, 2, 13, 8,\n",
    "        16, 5, 6, 12, 7\n",
    "    ],\n",
    "    'Categoria': [\n",
    "        'A', 'B', 'A', 'C', 'B',\n",
    "        'A', 'B', 'C', 'A', 'C',\n",
    "        'B', 'A', 'C', 'B', 'A',\n",
    "        'C', 'B', 'A', 'C', 'B'\n",
    "    ],\n",
    "    'Desconto(%)': [\n",
    "        5, 10, 0, 15, 20,\n",
    "        5, 25, 0, 10, 30,\n",
    "        5, 0, 20, 15, 10,\n",
    "        5, 0, 25, 15, 5\n",
    "    ]\n",
    "})\n"
   ]
  },
  {
   "cell_type": "markdown",
   "id": "07f93ae9",
   "metadata": {},
   "source": [
    "**loc[]:** vai localizar a coluna pelo rótulo do dataframe, ou seja, o nome da coluna."
   ]
  },
  {
   "cell_type": "code",
   "execution_count": 14,
   "id": "501a61fe",
   "metadata": {},
   "outputs": [
    {
     "data": {
      "text/plain": [
       "0     A\n",
       "1     B\n",
       "2     A\n",
       "3     C\n",
       "4     B\n",
       "5     A\n",
       "6     B\n",
       "7     C\n",
       "8     A\n",
       "9     C\n",
       "10    B\n",
       "11    A\n",
       "12    C\n",
       "13    B\n",
       "14    A\n",
       "15    C\n",
       "16    B\n",
       "17    A\n",
       "18    C\n",
       "19    B\n",
       "Name: Categoria, dtype: object"
      ]
     },
     "execution_count": 14,
     "metadata": {},
     "output_type": "execute_result"
    }
   ],
   "source": [
    "df['Categoria']"
   ]
  },
  {
   "cell_type": "markdown",
   "id": "d3d51130",
   "metadata": {},
   "source": [
    "**iloc[]:** vai localizar a linha pelo índice do dataframe."
   ]
  },
  {
   "cell_type": "code",
   "execution_count": 29,
   "id": "ca34098a",
   "metadata": {},
   "outputs": [
    {
     "data": {
      "text/html": [
       "<div>\n",
       "<style scoped>\n",
       "    .dataframe tbody tr th:only-of-type {\n",
       "        vertical-align: middle;\n",
       "    }\n",
       "\n",
       "    .dataframe tbody tr th {\n",
       "        vertical-align: top;\n",
       "    }\n",
       "\n",
       "    .dataframe thead th {\n",
       "        text-align: right;\n",
       "    }\n",
       "</style>\n",
       "<table border=\"1\" class=\"dataframe\">\n",
       "  <thead>\n",
       "    <tr style=\"text-align: right;\">\n",
       "      <th></th>\n",
       "      <th>Produto</th>\n",
       "      <th>Preco</th>\n",
       "      <th>Quantidade</th>\n",
       "      <th>Categoria</th>\n",
       "      <th>Desconto(%)</th>\n",
       "    </tr>\n",
       "  </thead>\n",
       "  <tbody>\n",
       "    <tr>\n",
       "      <th>0</th>\n",
       "      <td>Produto_1</td>\n",
       "      <td>10.5</td>\n",
       "      <td>10</td>\n",
       "      <td>A</td>\n",
       "      <td>5</td>\n",
       "    </tr>\n",
       "  </tbody>\n",
       "</table>\n",
       "</div>"
      ],
      "text/plain": [
       "     Produto  Preco  Quantidade Categoria  Desconto(%)\n",
       "0  Produto_1   10.5          10         A            5"
      ]
     },
     "execution_count": 29,
     "metadata": {},
     "output_type": "execute_result"
    }
   ],
   "source": [
    "# Localiza a linha de índice 1 inteira\n",
    "df.iloc[[0]]"
   ]
  },
  {
   "cell_type": "code",
   "execution_count": 24,
   "id": "44f471fa",
   "metadata": {},
   "outputs": [
    {
     "data": {
      "text/html": [
       "<div>\n",
       "<style scoped>\n",
       "    .dataframe tbody tr th:only-of-type {\n",
       "        vertical-align: middle;\n",
       "    }\n",
       "\n",
       "    .dataframe tbody tr th {\n",
       "        vertical-align: top;\n",
       "    }\n",
       "\n",
       "    .dataframe thead th {\n",
       "        text-align: right;\n",
       "    }\n",
       "</style>\n",
       "<table border=\"1\" class=\"dataframe\">\n",
       "  <thead>\n",
       "    <tr style=\"text-align: right;\">\n",
       "      <th></th>\n",
       "      <th>Produto</th>\n",
       "      <th>Preco</th>\n",
       "      <th>Quantidade</th>\n",
       "      <th>Categoria</th>\n",
       "      <th>Desconto(%)</th>\n",
       "    </tr>\n",
       "  </thead>\n",
       "  <tbody>\n",
       "    <tr>\n",
       "      <th>0</th>\n",
       "      <td>Produto_1</td>\n",
       "      <td>10.50</td>\n",
       "      <td>10</td>\n",
       "      <td>A</td>\n",
       "      <td>5</td>\n",
       "    </tr>\n",
       "    <tr>\n",
       "      <th>1</th>\n",
       "      <td>Produto_2</td>\n",
       "      <td>23.90</td>\n",
       "      <td>5</td>\n",
       "      <td>B</td>\n",
       "      <td>10</td>\n",
       "    </tr>\n",
       "    <tr>\n",
       "      <th>2</th>\n",
       "      <td>Produto_3</td>\n",
       "      <td>5.75</td>\n",
       "      <td>8</td>\n",
       "      <td>A</td>\n",
       "      <td>0</td>\n",
       "    </tr>\n",
       "    <tr>\n",
       "      <th>3</th>\n",
       "      <td>Produto_4</td>\n",
       "      <td>48.00</td>\n",
       "      <td>12</td>\n",
       "      <td>C</td>\n",
       "      <td>15</td>\n",
       "    </tr>\n",
       "    <tr>\n",
       "      <th>4</th>\n",
       "      <td>Produto_5</td>\n",
       "      <td>12.99</td>\n",
       "      <td>6</td>\n",
       "      <td>B</td>\n",
       "      <td>20</td>\n",
       "    </tr>\n",
       "  </tbody>\n",
       "</table>\n",
       "</div>"
      ],
      "text/plain": [
       "     Produto  Preco  Quantidade Categoria  Desconto(%)\n",
       "0  Produto_1  10.50          10         A            5\n",
       "1  Produto_2  23.90           5         B           10\n",
       "2  Produto_3   5.75           8         A            0\n",
       "3  Produto_4  48.00          12         C           15\n",
       "4  Produto_5  12.99           6         B           20"
      ]
     },
     "execution_count": 24,
     "metadata": {},
     "output_type": "execute_result"
    }
   ],
   "source": [
    "# Localiza o range de linhas da 0 até a 5\n",
    "df.iloc[0:5]"
   ]
  },
  {
   "cell_type": "code",
   "execution_count": 31,
   "id": "976eef58",
   "metadata": {},
   "outputs": [
    {
     "data": {
      "text/plain": [
       "'B'"
      ]
     },
     "execution_count": 31,
     "metadata": {},
     "output_type": "execute_result"
    }
   ],
   "source": [
    "# Localiza a linha pelo índice referente a coluna especificada. (df.loc[linha, coluna])\n",
    "df.loc[1, 'Categoria']"
   ]
  },
  {
   "cell_type": "code",
   "execution_count": 34,
   "id": "b60aeade",
   "metadata": {},
   "outputs": [
    {
     "data": {
      "text/plain": [
       "'Produto_1'"
      ]
     },
     "execution_count": 34,
     "metadata": {},
     "output_type": "execute_result"
    }
   ],
   "source": [
    "# Localiza a linha e a coluna. df.iloc[linha, coluna]\n",
    "df.iloc[0, 0]"
   ]
  },
  {
   "cell_type": "markdown",
   "id": "de5acb2e",
   "metadata": {},
   "source": [
    "### Exercícios"
   ]
  },
  {
   "cell_type": "code",
   "execution_count": 36,
   "id": "3918bf99",
   "metadata": {},
   "outputs": [
    {
     "data": {
      "text/html": [
       "<div>\n",
       "<style scoped>\n",
       "    .dataframe tbody tr th:only-of-type {\n",
       "        vertical-align: middle;\n",
       "    }\n",
       "\n",
       "    .dataframe tbody tr th {\n",
       "        vertical-align: top;\n",
       "    }\n",
       "\n",
       "    .dataframe thead th {\n",
       "        text-align: right;\n",
       "    }\n",
       "</style>\n",
       "<table border=\"1\" class=\"dataframe\">\n",
       "  <thead>\n",
       "    <tr style=\"text-align: right;\">\n",
       "      <th></th>\n",
       "      <th>Produto</th>\n",
       "      <th>Preco</th>\n",
       "      <th>Quantidade</th>\n",
       "      <th>Categoria</th>\n",
       "      <th>Desconto(%)</th>\n",
       "    </tr>\n",
       "  </thead>\n",
       "  <tbody>\n",
       "    <tr>\n",
       "      <th>0</th>\n",
       "      <td>Produto_1</td>\n",
       "      <td>10.50</td>\n",
       "      <td>10</td>\n",
       "      <td>A</td>\n",
       "      <td>5</td>\n",
       "    </tr>\n",
       "    <tr>\n",
       "      <th>1</th>\n",
       "      <td>Produto_2</td>\n",
       "      <td>23.90</td>\n",
       "      <td>5</td>\n",
       "      <td>B</td>\n",
       "      <td>10</td>\n",
       "    </tr>\n",
       "    <tr>\n",
       "      <th>2</th>\n",
       "      <td>Produto_3</td>\n",
       "      <td>5.75</td>\n",
       "      <td>8</td>\n",
       "      <td>A</td>\n",
       "      <td>0</td>\n",
       "    </tr>\n",
       "    <tr>\n",
       "      <th>3</th>\n",
       "      <td>Produto_4</td>\n",
       "      <td>48.00</td>\n",
       "      <td>12</td>\n",
       "      <td>C</td>\n",
       "      <td>15</td>\n",
       "    </tr>\n",
       "    <tr>\n",
       "      <th>4</th>\n",
       "      <td>Produto_5</td>\n",
       "      <td>12.99</td>\n",
       "      <td>6</td>\n",
       "      <td>B</td>\n",
       "      <td>20</td>\n",
       "    </tr>\n",
       "  </tbody>\n",
       "</table>\n",
       "</div>"
      ],
      "text/plain": [
       "     Produto  Preco  Quantidade Categoria  Desconto(%)\n",
       "0  Produto_1  10.50          10         A            5\n",
       "1  Produto_2  23.90           5         B           10\n",
       "2  Produto_3   5.75           8         A            0\n",
       "3  Produto_4  48.00          12         C           15\n",
       "4  Produto_5  12.99           6         B           20"
      ]
     },
     "execution_count": 36,
     "metadata": {},
     "output_type": "execute_result"
    }
   ],
   "source": [
    "df.head()"
   ]
  },
  {
   "cell_type": "markdown",
   "id": "075b286d",
   "metadata": {},
   "source": [
    "Exercício 1:\n",
    "<br>\n",
    "Usando .loc, qual é o Preco e a Categoria do produto que está no índice 3?"
   ]
  },
  {
   "cell_type": "code",
   "execution_count": 93,
   "id": "2afbcdae",
   "metadata": {},
   "outputs": [
    {
     "data": {
      "text/html": [
       "<div>\n",
       "<style scoped>\n",
       "    .dataframe tbody tr th:only-of-type {\n",
       "        vertical-align: middle;\n",
       "    }\n",
       "\n",
       "    .dataframe tbody tr th {\n",
       "        vertical-align: top;\n",
       "    }\n",
       "\n",
       "    .dataframe thead th {\n",
       "        text-align: right;\n",
       "    }\n",
       "</style>\n",
       "<table border=\"1\" class=\"dataframe\">\n",
       "  <thead>\n",
       "    <tr style=\"text-align: right;\">\n",
       "      <th></th>\n",
       "      <th>Preco</th>\n",
       "      <th>Categoria</th>\n",
       "    </tr>\n",
       "  </thead>\n",
       "  <tbody>\n",
       "    <tr>\n",
       "      <th>3</th>\n",
       "      <td>48.0</td>\n",
       "      <td>C</td>\n",
       "    </tr>\n",
       "  </tbody>\n",
       "</table>\n",
       "</div>"
      ],
      "text/plain": [
       "   Preco Categoria\n",
       "3   48.0         C"
      ]
     },
     "execution_count": 93,
     "metadata": {},
     "output_type": "execute_result"
    }
   ],
   "source": [
    "df.loc[[df.index[3]], ['Preco', 'Categoria']]"
   ]
  },
  {
   "cell_type": "markdown",
   "id": "d6cf3563",
   "metadata": {},
   "source": [
    "Exercício 2:\n",
    "<br>\n",
    "Usando .iloc, encontre a mesma informação do exercício anterior. Para isso, selecione a quarta linha (posição 3) e a segunda e quarta colunas (posições 1 e 3)."
   ]
  },
  {
   "cell_type": "code",
   "execution_count": 92,
   "id": "f97d3c08",
   "metadata": {},
   "outputs": [
    {
     "data": {
      "text/html": [
       "<div>\n",
       "<style scoped>\n",
       "    .dataframe tbody tr th:only-of-type {\n",
       "        vertical-align: middle;\n",
       "    }\n",
       "\n",
       "    .dataframe tbody tr th {\n",
       "        vertical-align: top;\n",
       "    }\n",
       "\n",
       "    .dataframe thead th {\n",
       "        text-align: right;\n",
       "    }\n",
       "</style>\n",
       "<table border=\"1\" class=\"dataframe\">\n",
       "  <thead>\n",
       "    <tr style=\"text-align: right;\">\n",
       "      <th></th>\n",
       "      <th>Preco</th>\n",
       "      <th>Categoria</th>\n",
       "    </tr>\n",
       "  </thead>\n",
       "  <tbody>\n",
       "    <tr>\n",
       "      <th>3</th>\n",
       "      <td>48.0</td>\n",
       "      <td>C</td>\n",
       "    </tr>\n",
       "  </tbody>\n",
       "</table>\n",
       "</div>"
      ],
      "text/plain": [
       "   Preco Categoria\n",
       "3   48.0         C"
      ]
     },
     "execution_count": 92,
     "metadata": {},
     "output_type": "execute_result"
    }
   ],
   "source": [
    "df.iloc[[3], [1, 3]]"
   ]
  },
  {
   "cell_type": "markdown",
   "id": "286bd72b",
   "metadata": {},
   "source": [
    "Exercício 3:\n",
    "<br>\n",
    "Com .loc, mostre as colunas Produto e Preco para o intervalo de produtos do índice 5 até o 8 (inclusive)."
   ]
  },
  {
   "cell_type": "code",
   "execution_count": 86,
   "id": "ccca2f24",
   "metadata": {},
   "outputs": [
    {
     "data": {
      "text/html": [
       "<div>\n",
       "<style scoped>\n",
       "    .dataframe tbody tr th:only-of-type {\n",
       "        vertical-align: middle;\n",
       "    }\n",
       "\n",
       "    .dataframe tbody tr th {\n",
       "        vertical-align: top;\n",
       "    }\n",
       "\n",
       "    .dataframe thead th {\n",
       "        text-align: right;\n",
       "    }\n",
       "</style>\n",
       "<table border=\"1\" class=\"dataframe\">\n",
       "  <thead>\n",
       "    <tr style=\"text-align: right;\">\n",
       "      <th></th>\n",
       "      <th>Produto</th>\n",
       "      <th>Preco</th>\n",
       "    </tr>\n",
       "  </thead>\n",
       "  <tbody>\n",
       "    <tr>\n",
       "      <th>5</th>\n",
       "      <td>Produto_6</td>\n",
       "      <td>75.00</td>\n",
       "    </tr>\n",
       "    <tr>\n",
       "      <th>6</th>\n",
       "      <td>Produto_7</td>\n",
       "      <td>34.50</td>\n",
       "    </tr>\n",
       "    <tr>\n",
       "      <th>7</th>\n",
       "      <td>Produto_8</td>\n",
       "      <td>8.99</td>\n",
       "    </tr>\n",
       "  </tbody>\n",
       "</table>\n",
       "</div>"
      ],
      "text/plain": [
       "     Produto  Preco\n",
       "5  Produto_6  75.00\n",
       "6  Produto_7  34.50\n",
       "7  Produto_8   8.99"
      ]
     },
     "execution_count": 86,
     "metadata": {},
     "output_type": "execute_result"
    }
   ],
   "source": [
    "# Por ser um iloc, deve-se usar o .index antes de indicar o range de linhas desejado.\n",
    "df.loc[df.index[5:8], ['Produto', 'Preco']]"
   ]
  },
  {
   "cell_type": "markdown",
   "id": "cd5b7f43",
   "metadata": {},
   "source": [
    "Exercício 4:\n",
    "<br>\n",
    "Um dos usos mais poderosos do .loc é a filtragem por condição. Selecione todos os produtos que pertencem à Categoria 'A'. Para esses produtos, mostre apenas as colunas Produto, Preco e Quantidade."
   ]
  },
  {
   "cell_type": "code",
   "execution_count": 96,
   "id": "a5eb0c13",
   "metadata": {},
   "outputs": [
    {
     "data": {
      "text/html": [
       "<div>\n",
       "<style scoped>\n",
       "    .dataframe tbody tr th:only-of-type {\n",
       "        vertical-align: middle;\n",
       "    }\n",
       "\n",
       "    .dataframe tbody tr th {\n",
       "        vertical-align: top;\n",
       "    }\n",
       "\n",
       "    .dataframe thead th {\n",
       "        text-align: right;\n",
       "    }\n",
       "</style>\n",
       "<table border=\"1\" class=\"dataframe\">\n",
       "  <thead>\n",
       "    <tr style=\"text-align: right;\">\n",
       "      <th></th>\n",
       "      <th>Produto</th>\n",
       "      <th>Preco</th>\n",
       "      <th>Quantidade</th>\n",
       "    </tr>\n",
       "  </thead>\n",
       "  <tbody>\n",
       "    <tr>\n",
       "      <th>0</th>\n",
       "      <td>Produto_1</td>\n",
       "      <td>10.50</td>\n",
       "      <td>10</td>\n",
       "    </tr>\n",
       "    <tr>\n",
       "      <th>2</th>\n",
       "      <td>Produto_3</td>\n",
       "      <td>5.75</td>\n",
       "      <td>8</td>\n",
       "    </tr>\n",
       "    <tr>\n",
       "      <th>5</th>\n",
       "      <td>Produto_6</td>\n",
       "      <td>75.00</td>\n",
       "      <td>15</td>\n",
       "    </tr>\n",
       "    <tr>\n",
       "      <th>8</th>\n",
       "      <td>Produto_9</td>\n",
       "      <td>19.99</td>\n",
       "      <td>9</td>\n",
       "    </tr>\n",
       "    <tr>\n",
       "      <th>11</th>\n",
       "      <td>Produto_12</td>\n",
       "      <td>66.60</td>\n",
       "      <td>14</td>\n",
       "    </tr>\n",
       "    <tr>\n",
       "      <th>14</th>\n",
       "      <td>Produto_15</td>\n",
       "      <td>9.90</td>\n",
       "      <td>8</td>\n",
       "    </tr>\n",
       "    <tr>\n",
       "      <th>17</th>\n",
       "      <td>Produto_18</td>\n",
       "      <td>22.50</td>\n",
       "      <td>6</td>\n",
       "    </tr>\n",
       "  </tbody>\n",
       "</table>\n",
       "</div>"
      ],
      "text/plain": [
       "       Produto  Preco  Quantidade\n",
       "0    Produto_1  10.50          10\n",
       "2    Produto_3   5.75           8\n",
       "5    Produto_6  75.00          15\n",
       "8    Produto_9  19.99           9\n",
       "11  Produto_12  66.60          14\n",
       "14  Produto_15   9.90           8\n",
       "17  Produto_18  22.50           6"
      ]
     },
     "execution_count": 96,
     "metadata": {},
     "output_type": "execute_result"
    }
   ],
   "source": [
    "df.loc[df['Categoria'] == 'A', ['Produto', 'Preco', 'Quantidade']]"
   ]
  },
  {
   "cell_type": "markdown",
   "id": "9844c2b4",
   "metadata": {},
   "source": [
    "Exercício 5:\n",
    "<br>\n",
    "Usando .iloc, selecione as 5 primeiras linhas do DataFrame (posições 0 a 5, lembrando que o final é exclusivo) e, para essas linhas, mostre apenas as 3 últimas colunas (Quantidade, Categoria e Desconto(%))."
   ]
  },
  {
   "cell_type": "code",
   "execution_count": 95,
   "id": "249eadcb",
   "metadata": {},
   "outputs": [
    {
     "data": {
      "text/html": [
       "<div>\n",
       "<style scoped>\n",
       "    .dataframe tbody tr th:only-of-type {\n",
       "        vertical-align: middle;\n",
       "    }\n",
       "\n",
       "    .dataframe tbody tr th {\n",
       "        vertical-align: top;\n",
       "    }\n",
       "\n",
       "    .dataframe thead th {\n",
       "        text-align: right;\n",
       "    }\n",
       "</style>\n",
       "<table border=\"1\" class=\"dataframe\">\n",
       "  <thead>\n",
       "    <tr style=\"text-align: right;\">\n",
       "      <th></th>\n",
       "      <th>Quantidade</th>\n",
       "      <th>Categoria</th>\n",
       "      <th>Desconto(%)</th>\n",
       "    </tr>\n",
       "  </thead>\n",
       "  <tbody>\n",
       "    <tr>\n",
       "      <th>0</th>\n",
       "      <td>10</td>\n",
       "      <td>A</td>\n",
       "      <td>5</td>\n",
       "    </tr>\n",
       "    <tr>\n",
       "      <th>1</th>\n",
       "      <td>5</td>\n",
       "      <td>B</td>\n",
       "      <td>10</td>\n",
       "    </tr>\n",
       "    <tr>\n",
       "      <th>2</th>\n",
       "      <td>8</td>\n",
       "      <td>A</td>\n",
       "      <td>0</td>\n",
       "    </tr>\n",
       "    <tr>\n",
       "      <th>3</th>\n",
       "      <td>12</td>\n",
       "      <td>C</td>\n",
       "      <td>15</td>\n",
       "    </tr>\n",
       "    <tr>\n",
       "      <th>4</th>\n",
       "      <td>6</td>\n",
       "      <td>B</td>\n",
       "      <td>20</td>\n",
       "    </tr>\n",
       "  </tbody>\n",
       "</table>\n",
       "</div>"
      ],
      "text/plain": [
       "   Quantidade Categoria  Desconto(%)\n",
       "0          10         A            5\n",
       "1           5         B           10\n",
       "2           8         A            0\n",
       "3          12         C           15\n",
       "4           6         B           20"
      ]
     },
     "execution_count": 95,
     "metadata": {},
     "output_type": "execute_result"
    }
   ],
   "source": [
    "# Primeiro define o range (linha 0 à 4) e depois as colunas desejadas. Como é iloc, as colunas devem ser definidas pelo seu índice.\n",
    "df.iloc[0:5, [2, 3, 4]]"
   ]
  }
 ],
 "metadata": {
  "kernelspec": {
   "display_name": "Python 3",
   "language": "python",
   "name": "python3"
  },
  "language_info": {
   "codemirror_mode": {
    "name": "ipython",
    "version": 3
   },
   "file_extension": ".py",
   "mimetype": "text/x-python",
   "name": "python",
   "nbconvert_exporter": "python",
   "pygments_lexer": "ipython3",
   "version": "3.11.9"
  }
 },
 "nbformat": 4,
 "nbformat_minor": 5
}
