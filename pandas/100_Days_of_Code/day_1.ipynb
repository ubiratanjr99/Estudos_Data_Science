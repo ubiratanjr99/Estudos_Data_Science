{
 "cells": [
  {
   "cell_type": "code",
   "execution_count": 1,
   "id": "8eb44e09",
   "metadata": {},
   "outputs": [],
   "source": [
    "import pandas as pd"
   ]
  },
  {
   "cell_type": "markdown",
   "id": "b48ccef2",
   "metadata": {},
   "source": [
    "### SERIES"
   ]
  },
  {
   "cell_type": "markdown",
   "id": "e37bb1dd",
   "metadata": {},
   "source": [
    "Entenda como uma \"coluna\" com índice.\n",
    "<br>\n",
    "<br>\n",
    "Geralmente armazena um único tipo de dado (int, string, etc).\n",
    "<br>\n",
    "<br>\n",
    "É uma estrutura unidimensional."
   ]
  },
  {
   "cell_type": "code",
   "execution_count": 4,
   "id": "9d1aa719",
   "metadata": {},
   "outputs": [
    {
     "name": "stdout",
     "output_type": "stream",
     "text": [
      "0    1\n",
      "1    2\n",
      "2    3\n",
      "3    4\n",
      "4    5\n",
      "dtype: int64\n"
     ]
    }
   ],
   "source": [
    "notas = pd.Series([1,2,3,4,5])\n",
    "print(notas)"
   ]
  },
  {
   "cell_type": "markdown",
   "id": "f5edda15",
   "metadata": {},
   "source": [
    "### DATAFRAME"
   ]
  },
  {
   "cell_type": "markdown",
   "id": "e4222b4e",
   "metadata": {},
   "source": [
    "É como se fosse uma junção de várias series (matriz). Visualize como se fosse uma planilha do Excel ou o output de um SELECT em um banco de dados.\n",
    "<br>\n",
    "<br>\n",
    "Pode ter várias colunas e cada coluna é uma \"Series\" do pandas.\n",
    "<br>\n",
    "<br>\n",
    "Pode armazenar diferentes tipos de dados. Em uma coluna pode ter inteiros, na outra strings e assim por diante.\n",
    "<br>\n",
    "<br>\n",
    "É uma estrutura bidimensional. \n",
    "<br>\n",
    "<br>\n",
    "**P.S.:** todas as colunas devem ser do mesmo tamanho. Se colocar uma coluna com 5 nomes e outra com 6 notas vai dar erro."
   ]
  },
  {
   "cell_type": "code",
   "execution_count": 7,
   "id": "18db35b4",
   "metadata": {},
   "outputs": [
    {
     "name": "stdout",
     "output_type": "stream",
     "text": [
      "    Nome  Idade  Nota\n",
      "0   João     18   9.8\n",
      "1    Ana     19  10.0\n",
      "2  Maria     21   6.5\n"
     ]
    }
   ],
   "source": [
    "alunos = pd.DataFrame({\n",
    "    'Nome': ['João', 'Ana', 'Maria'],\n",
    "    'Idade': [18, 19, 21],\n",
    "    'Nota': [9.8, 10, 6.5]\n",
    "})\n",
    "\n",
    "print(alunos)"
   ]
  },
  {
   "cell_type": "markdown",
   "id": "081810b4",
   "metadata": {},
   "source": [
    "# Exercícios "
   ]
  },
  {
   "cell_type": "markdown",
   "id": "5d43430c",
   "metadata": {},
   "source": [
    "**Exercício 1: Criando uma Series**\n",
    "<br>\n",
    "<br>\n",
    "Objetivo: Criar uma Series em Pandas para armazenar a quantidade de vendas de 5 produtos diferentes, usando o nome dos produtos como índice."
   ]
  },
  {
   "cell_type": "code",
   "execution_count": 17,
   "id": "e7fce0eb",
   "metadata": {},
   "outputs": [
    {
     "name": "stdout",
     "output_type": "stream",
     "text": [
      "copo         5\n",
      "celular      2\n",
      "caderno      5\n",
      "caneta       7\n",
      "televisão    3\n",
      "dtype: int64\n"
     ]
    }
   ],
   "source": [
    "# Criação dos arrays\n",
    "produtos = ['copo','celular','caderno','caneta','televisão']\n",
    "qtd_vendas = [5, 2, 5, 7, 3]\n",
    "\n",
    "# Criação da Series (juntando os arrays)\n",
    "vendas = pd.Series(data=qtd_vendas, index=produtos)\n",
    "print(vendas)"
   ]
  },
  {
   "cell_type": "markdown",
   "id": "2104565d",
   "metadata": {},
   "source": [
    "**Exercício 2: Criar um DataFrame Básico**\n",
    "<br>\n",
    "<br>\n",
    "Objetivo: Criar um DataFrame para guardar o nome e a idade de três animais de estimação."
   ]
  },
  {
   "cell_type": "code",
   "execution_count": 39,
   "id": "c43f9933",
   "metadata": {},
   "outputs": [
    {
     "name": "stdout",
     "output_type": "stream",
     "text": [
      "     Nome  Idade\n",
      "0  Apollo      4\n",
      "1   Bella      1\n",
      "2     Mel      3\n"
     ]
    }
   ],
   "source": [
    "animais = pd.DataFrame({\n",
    "    'Nome': ['Apollo', 'Bella', 'Mel'],\n",
    "    'Idade': [4, 1, 3]\n",
    "})\n",
    "\n",
    "df = animais\n",
    "print(df)"
   ]
  },
  {
   "cell_type": "markdown",
   "id": "ee863099",
   "metadata": {},
   "source": [
    "**Exercício 3: Selecionar uma Única Coluna**\n",
    "<br>\n",
    "<br>\n",
    "Objetivo: A partir do DataFrame de animais de estimação do exercício anterior, selecionar e exibir apenas a coluna 'Nome'."
   ]
  },
  {
   "cell_type": "code",
   "execution_count": 40,
   "id": "8311c37f",
   "metadata": {},
   "outputs": [
    {
     "data": {
      "text/plain": [
       "0    Apollo\n",
       "1     Bella\n",
       "2       Mel\n",
       "Name: Nome, dtype: object"
      ]
     },
     "execution_count": 40,
     "metadata": {},
     "output_type": "execute_result"
    }
   ],
   "source": [
    "df['Nome']"
   ]
  },
  {
   "cell_type": "markdown",
   "id": "5c31e209",
   "metadata": {},
   "source": [
    "**Exercício 4: Selecionar a Primeira Linha**\n",
    "<br>\n",
    "<br>\n",
    "Objetivo: A partir do DataFrame de animais de estimação, selecionar e exibir apenas a primeira linha completa."
   ]
  },
  {
   "cell_type": "code",
   "execution_count": 41,
   "id": "af712785",
   "metadata": {},
   "outputs": [
    {
     "data": {
      "text/plain": [
       "Nome     Apollo\n",
       "Idade         4\n",
       "Name: 0, dtype: object"
      ]
     },
     "execution_count": 41,
     "metadata": {},
     "output_type": "execute_result"
    }
   ],
   "source": [
    "df.iloc[0]"
   ]
  },
  {
   "cell_type": "markdown",
   "id": "f7d8e31e",
   "metadata": {},
   "source": [
    "**Exercício 5: Filtragem Simples por Valor**\n",
    "<br>\n",
    "<br>\n",
    "Objetivo: Criar um DataFrame com uma lista de produtos e seus preços. Em seguida, filtrar e mostrar apenas os produtos que custam mais de R$ 10,00."
   ]
  },
  {
   "cell_type": "code",
   "execution_count": 48,
   "id": "4207099d",
   "metadata": {},
   "outputs": [
    {
     "name": "stdout",
     "output_type": "stream",
     "text": [
      "  Produto  Preco\n",
      "0   Carne   35.0\n",
      "1   Arroz   15.7\n"
     ]
    }
   ],
   "source": [
    "produtos = pd.DataFrame({\n",
    "    'Produto': ['Carne', 'Arroz', 'Macarrão'],\n",
    "    'Preco': [35, 15.7, 6]\n",
    "})\n",
    "\n",
    "df = produtos.query('Preco > 10')\n",
    "print(df)"
   ]
  },
  {
   "cell_type": "markdown",
   "id": "cc5dbe11",
   "metadata": {},
   "source": [
    "**Exercício 6: Selecionar Múltiplas Colunas**\n",
    "<br>\n",
    "<br>\n",
    "Objetivo: A partir de um DataFrame contendo produtos, preços e quantidade em estoque, selecionar e exibir apenas as colunas 'Produto' e 'Estoque'."
   ]
  },
  {
   "cell_type": "code",
   "execution_count": 54,
   "id": "04811004",
   "metadata": {},
   "outputs": [
    {
     "data": {
      "text/html": [
       "<div>\n",
       "<style scoped>\n",
       "    .dataframe tbody tr th:only-of-type {\n",
       "        vertical-align: middle;\n",
       "    }\n",
       "\n",
       "    .dataframe tbody tr th {\n",
       "        vertical-align: top;\n",
       "    }\n",
       "\n",
       "    .dataframe thead th {\n",
       "        text-align: right;\n",
       "    }\n",
       "</style>\n",
       "<table border=\"1\" class=\"dataframe\">\n",
       "  <thead>\n",
       "    <tr style=\"text-align: right;\">\n",
       "      <th></th>\n",
       "      <th>Produto</th>\n",
       "      <th>Estoque</th>\n",
       "    </tr>\n",
       "  </thead>\n",
       "  <tbody>\n",
       "    <tr>\n",
       "      <th>0</th>\n",
       "      <td>Carne</td>\n",
       "      <td>17</td>\n",
       "    </tr>\n",
       "    <tr>\n",
       "      <th>1</th>\n",
       "      <td>Arroz</td>\n",
       "      <td>195</td>\n",
       "    </tr>\n",
       "    <tr>\n",
       "      <th>2</th>\n",
       "      <td>Macarrão</td>\n",
       "      <td>87</td>\n",
       "    </tr>\n",
       "  </tbody>\n",
       "</table>\n",
       "</div>"
      ],
      "text/plain": [
       "    Produto  Estoque\n",
       "0     Carne       17\n",
       "1     Arroz      195\n",
       "2  Macarrão       87"
      ]
     },
     "execution_count": 54,
     "metadata": {},
     "output_type": "execute_result"
    }
   ],
   "source": [
    "produtos_2 = pd.DataFrame({\n",
    "    'Produto': ['Carne', 'Arroz', 'Macarrão'],\n",
    "    'Preco': [35, 15.7, 6],\n",
    "    'Estoque': [17, 195, 87]\n",
    "})\n",
    "\n",
    "produtos_2[['Produto', 'Estoque']]"
   ]
  },
  {
   "cell_type": "markdown",
   "id": "3c2ce4f9",
   "metadata": {},
   "source": [
    "**Exercício 7: Adicionar uma Nova Coluna**\n",
    "<br>\n",
    "<br>\n",
    "Objetivo: Criar um DataFrame com o nome de alunos e suas notas. Em seguida, adicionar uma nova coluna chamada 'Situacao' com os valores 'Aprovado' ou 'Reprovado'."
   ]
  },
  {
   "cell_type": "code",
   "execution_count": 65,
   "id": "b1fb967b",
   "metadata": {},
   "outputs": [
    {
     "data": {
      "text/html": [
       "<div>\n",
       "<style scoped>\n",
       "    .dataframe tbody tr th:only-of-type {\n",
       "        vertical-align: middle;\n",
       "    }\n",
       "\n",
       "    .dataframe tbody tr th {\n",
       "        vertical-align: top;\n",
       "    }\n",
       "\n",
       "    .dataframe thead th {\n",
       "        text-align: right;\n",
       "    }\n",
       "</style>\n",
       "<table border=\"1\" class=\"dataframe\">\n",
       "  <thead>\n",
       "    <tr style=\"text-align: right;\">\n",
       "      <th></th>\n",
       "      <th>Nome</th>\n",
       "      <th>Nota</th>\n",
       "      <th>Situacao</th>\n",
       "      <th>Ano</th>\n",
       "    </tr>\n",
       "  </thead>\n",
       "  <tbody>\n",
       "    <tr>\n",
       "      <th>0</th>\n",
       "      <td>João</td>\n",
       "      <td>9</td>\n",
       "      <td>Aprovado</td>\n",
       "      <td>2°</td>\n",
       "    </tr>\n",
       "    <tr>\n",
       "      <th>1</th>\n",
       "      <td>Ana</td>\n",
       "      <td>5</td>\n",
       "      <td>Reprovado</td>\n",
       "      <td>3°</td>\n",
       "    </tr>\n",
       "    <tr>\n",
       "      <th>2</th>\n",
       "      <td>Maria</td>\n",
       "      <td>7</td>\n",
       "      <td>Aprovado</td>\n",
       "      <td>2°</td>\n",
       "    </tr>\n",
       "  </tbody>\n",
       "</table>\n",
       "</div>"
      ],
      "text/plain": [
       "    Nome  Nota   Situacao Ano\n",
       "0   João     9   Aprovado  2°\n",
       "1    Ana     5  Reprovado  3°\n",
       "2  Maria     7   Aprovado  2°"
      ]
     },
     "execution_count": 65,
     "metadata": {},
     "output_type": "execute_result"
    }
   ],
   "source": [
    "alunos = pd.DataFrame({\n",
    "    'Nome': ['João', 'Ana', 'Maria'],\n",
    "    'Nota': [9, 5, 7]\n",
    "})\n",
    "\n",
    "# Atribuindo uma nova coluna (forma \"simples\")\n",
    "alunos['Situacao'] = ['Aprovado', 'Reprovado', 'Aprovado']\n",
    "\n",
    "# Atribuindo uma nova coluna usando \"insert\"\n",
    "alunos.insert(loc = 3, column='Ano', value=['2°', '3°', '2°'])\n",
    "df = alunos\n",
    "df"
   ]
  },
  {
   "cell_type": "markdown",
   "id": "0d276e78",
   "metadata": {},
   "source": [
    "**Exercício 8: Usar .shape e .dtypes**\n",
    "<br>\n",
    "<br>\n",
    "Objetivo: A partir de um DataFrame com diferentes tipos de dados, usar os atributos .shape e .dtypes para descobrir o número de linhas/colunas e os tipos de dados de cada coluna, respectivamente."
   ]
  },
  {
   "cell_type": "code",
   "execution_count": 66,
   "id": "a16b4e34",
   "metadata": {},
   "outputs": [
    {
     "data": {
      "text/plain": [
       "(3, 4)"
      ]
     },
     "execution_count": 66,
     "metadata": {},
     "output_type": "execute_result"
    }
   ],
   "source": [
    "df.shape"
   ]
  },
  {
   "cell_type": "code",
   "execution_count": 70,
   "id": "81556f41",
   "metadata": {},
   "outputs": [
    {
     "data": {
      "text/plain": [
       "Nome        object\n",
       "Nota         int64\n",
       "Situacao    object\n",
       "Ano         object\n",
       "dtype: object"
      ]
     },
     "execution_count": 70,
     "metadata": {},
     "output_type": "execute_result"
    }
   ],
   "source": [
    "df.dtypes"
   ]
  },
  {
   "cell_type": "markdown",
   "id": "fa721f5e",
   "metadata": {},
   "source": [
    "**Exercício 9: Filtragem com Múltiplas Condições**\n",
    "<br>\n",
    "<br>\n",
    "Objetivo: A partir de um DataFrame de funcionários, filtrar e exibir apenas os que trabalham no setor 'Vendas' E que têm idade superior a 30 anos."
   ]
  },
  {
   "cell_type": "code",
   "execution_count": 80,
   "id": "fef2ae38",
   "metadata": {},
   "outputs": [
    {
     "data": {
      "text/html": [
       "<div>\n",
       "<style scoped>\n",
       "    .dataframe tbody tr th:only-of-type {\n",
       "        vertical-align: middle;\n",
       "    }\n",
       "\n",
       "    .dataframe tbody tr th {\n",
       "        vertical-align: top;\n",
       "    }\n",
       "\n",
       "    .dataframe thead th {\n",
       "        text-align: right;\n",
       "    }\n",
       "</style>\n",
       "<table border=\"1\" class=\"dataframe\">\n",
       "  <thead>\n",
       "    <tr style=\"text-align: right;\">\n",
       "      <th></th>\n",
       "      <th>Nome</th>\n",
       "      <th>Idade</th>\n",
       "      <th>Setor</th>\n",
       "    </tr>\n",
       "  </thead>\n",
       "  <tbody>\n",
       "    <tr>\n",
       "      <th>1</th>\n",
       "      <td>Roberto</td>\n",
       "      <td>35</td>\n",
       "      <td>Vendas</td>\n",
       "    </tr>\n",
       "    <tr>\n",
       "      <th>4</th>\n",
       "      <td>Lurdes</td>\n",
       "      <td>31</td>\n",
       "      <td>Vendas</td>\n",
       "    </tr>\n",
       "  </tbody>\n",
       "</table>\n",
       "</div>"
      ],
      "text/plain": [
       "      Nome  Idade   Setor\n",
       "1  Roberto     35  Vendas\n",
       "4   Lurdes     31  Vendas"
      ]
     },
     "execution_count": 80,
     "metadata": {},
     "output_type": "execute_result"
    }
   ],
   "source": [
    "funcionarios = pd.DataFrame({\n",
    "    'Nome': ['Marcio', 'Roberto', 'Rafaela', 'Jurandir', 'Lurdes'],\n",
    "    'Idade': [25, 35, 23, 41, 31],\n",
    "    'Setor': ['Vendas', 'Vendas', 'Logistica', 'TI', 'Vendas']\n",
    "})\n",
    "\n",
    "funcionarios.query('Setor == \"Vendas\" and Idade > 30')"
   ]
  },
  {
   "cell_type": "markdown",
   "id": "9393c19f",
   "metadata": {},
   "source": [
    "**Exercício 10: Ordenar Dados com .sort_values()**\n",
    "<br>\n",
    "<br>\n",
    "Objetivo: A partir de um DataFrame de pontuações de jogadores, ordenar os dados pela coluna 'Pontos' em ordem decrescente (do maior para o menor) para criar um ranking."
   ]
  },
  {
   "cell_type": "code",
   "execution_count": 86,
   "id": "75c0bc22",
   "metadata": {},
   "outputs": [
    {
     "data": {
      "text/html": [
       "<div>\n",
       "<style scoped>\n",
       "    .dataframe tbody tr th:only-of-type {\n",
       "        vertical-align: middle;\n",
       "    }\n",
       "\n",
       "    .dataframe tbody tr th {\n",
       "        vertical-align: top;\n",
       "    }\n",
       "\n",
       "    .dataframe thead th {\n",
       "        text-align: right;\n",
       "    }\n",
       "</style>\n",
       "<table border=\"1\" class=\"dataframe\">\n",
       "  <thead>\n",
       "    <tr style=\"text-align: right;\">\n",
       "      <th></th>\n",
       "      <th>Nome</th>\n",
       "      <th>Pontuacao</th>\n",
       "    </tr>\n",
       "  </thead>\n",
       "  <tbody>\n",
       "    <tr>\n",
       "      <th>0</th>\n",
       "      <td>Romário</td>\n",
       "      <td>10</td>\n",
       "    </tr>\n",
       "    <tr>\n",
       "      <th>1</th>\n",
       "      <td>Adriano</td>\n",
       "      <td>9</td>\n",
       "    </tr>\n",
       "    <tr>\n",
       "      <th>2</th>\n",
       "      <td>Roberto</td>\n",
       "      <td>4</td>\n",
       "    </tr>\n",
       "  </tbody>\n",
       "</table>\n",
       "</div>"
      ],
      "text/plain": [
       "      Nome  Pontuacao\n",
       "0  Romário         10\n",
       "1  Adriano          9\n",
       "2  Roberto          4"
      ]
     },
     "execution_count": 86,
     "metadata": {},
     "output_type": "execute_result"
    }
   ],
   "source": [
    "pontuacao_jogadores = pd.DataFrame({\n",
    "    'Nome': ['Romário', 'Adriano', 'Roberto'],\n",
    "    'Pontuacao': [10, 9, 4]\n",
    "})\n",
    "\n",
    "df = pontuacao_jogadores\n",
    "df.sort_values(by='Pontuacao', ascending=False)"
   ]
  }
 ],
 "metadata": {
  "kernelspec": {
   "display_name": "Python 3",
   "language": "python",
   "name": "python3"
  },
  "language_info": {
   "codemirror_mode": {
    "name": "ipython",
    "version": 3
   },
   "file_extension": ".py",
   "mimetype": "text/x-python",
   "name": "python",
   "nbconvert_exporter": "python",
   "pygments_lexer": "ipython3",
   "version": "3.13.1"
  }
 },
 "nbformat": 4,
 "nbformat_minor": 5
}
