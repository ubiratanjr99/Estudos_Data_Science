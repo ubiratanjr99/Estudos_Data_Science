{
 "cells": [
  {
   "cell_type": "code",
   "execution_count": 5,
   "id": "f6f58ae9",
   "metadata": {},
   "outputs": [],
   "source": [
    "import pandas as pd"
   ]
  },
  {
   "cell_type": "code",
   "execution_count": 2,
   "id": "35968b22",
   "metadata": {},
   "outputs": [],
   "source": [
    "caminho = 'arquivos/filmes_series.xlsx'"
   ]
  },
  {
   "cell_type": "code",
   "execution_count": 3,
   "id": "ef170bfc",
   "metadata": {},
   "outputs": [],
   "source": [
    "df = pd.read_excel(caminho, sheet_name='Series de TV')"
   ]
  },
  {
   "cell_type": "code",
   "execution_count": 15,
   "id": "1d2ee233",
   "metadata": {},
   "outputs": [
    {
     "data": {
      "text/html": [
       "<div>\n",
       "<style scoped>\n",
       "    .dataframe tbody tr th:only-of-type {\n",
       "        vertical-align: middle;\n",
       "    }\n",
       "\n",
       "    .dataframe tbody tr th {\n",
       "        vertical-align: top;\n",
       "    }\n",
       "\n",
       "    .dataframe thead th {\n",
       "        text-align: right;\n",
       "    }\n",
       "</style>\n",
       "<table border=\"1\" class=\"dataframe\">\n",
       "  <thead>\n",
       "    <tr style=\"text-align: right;\">\n",
       "      <th></th>\n",
       "      <th>titulo</th>\n",
       "      <th>genero</th>\n",
       "      <th>servico_streaming</th>\n",
       "      <th>ano_lancamento</th>\n",
       "      <th>episodios</th>\n",
       "      <th>nota_imdb</th>\n",
       "    </tr>\n",
       "  </thead>\n",
       "  <tbody>\n",
       "    <tr>\n",
       "      <th>0</th>\n",
       "      <td>A Maldição de Volkov</td>\n",
       "      <td>Comédia</td>\n",
       "      <td>Disney+</td>\n",
       "      <td>2021</td>\n",
       "      <td>20</td>\n",
       "      <td>9.2</td>\n",
       "    </tr>\n",
       "    <tr>\n",
       "      <th>1</th>\n",
       "      <td>O Jogo das Sombras</td>\n",
       "      <td>Ficção Científica</td>\n",
       "      <td>Amazon Prime Video</td>\n",
       "      <td>2019</td>\n",
       "      <td>10</td>\n",
       "      <td>7.7</td>\n",
       "    </tr>\n",
       "    <tr>\n",
       "      <th>2</th>\n",
       "      <td>O Jogo das Sombras</td>\n",
       "      <td>Fantasia</td>\n",
       "      <td>Amazon Prime Video</td>\n",
       "      <td>2016</td>\n",
       "      <td>30</td>\n",
       "      <td>6.9</td>\n",
       "    </tr>\n",
       "    <tr>\n",
       "      <th>3</th>\n",
       "      <td>A Ilha dos Desafios</td>\n",
       "      <td>Suspense</td>\n",
       "      <td>HBO Max</td>\n",
       "      <td>2015</td>\n",
       "      <td>18</td>\n",
       "      <td>8.1</td>\n",
       "    </tr>\n",
       "    <tr>\n",
       "      <th>4</th>\n",
       "      <td>Código Secreto</td>\n",
       "      <td>Fantasia</td>\n",
       "      <td>Netflix</td>\n",
       "      <td>2021</td>\n",
       "      <td>41</td>\n",
       "      <td>7.5</td>\n",
       "    </tr>\n",
       "  </tbody>\n",
       "</table>\n",
       "</div>"
      ],
      "text/plain": [
       "                 titulo             genero   servico_streaming  \\\n",
       "0  A Maldição de Volkov            Comédia             Disney+   \n",
       "1    O Jogo das Sombras  Ficção Científica  Amazon Prime Video   \n",
       "2    O Jogo das Sombras           Fantasia  Amazon Prime Video   \n",
       "3   A Ilha dos Desafios           Suspense             HBO Max   \n",
       "4        Código Secreto           Fantasia             Netflix   \n",
       "\n",
       "   ano_lancamento  episodios  nota_imdb  \n",
       "0            2021         20        9.2  \n",
       "1            2019         10        7.7  \n",
       "2            2016         30        6.9  \n",
       "3            2015         18        8.1  \n",
       "4            2021         41        7.5  "
      ]
     },
     "execution_count": 15,
     "metadata": {},
     "output_type": "execute_result"
    }
   ],
   "source": [
    "df.head()"
   ]
  },
  {
   "cell_type": "markdown",
   "id": "ce04a9b7",
   "metadata": {},
   "source": [
    "Série com mais episódios"
   ]
  },
  {
   "cell_type": "code",
   "execution_count": 14,
   "id": "cb5943e2",
   "metadata": {},
   "outputs": [
    {
     "data": {
      "text/html": [
       "<div>\n",
       "<style scoped>\n",
       "    .dataframe tbody tr th:only-of-type {\n",
       "        vertical-align: middle;\n",
       "    }\n",
       "\n",
       "    .dataframe tbody tr th {\n",
       "        vertical-align: top;\n",
       "    }\n",
       "\n",
       "    .dataframe thead th {\n",
       "        text-align: right;\n",
       "    }\n",
       "</style>\n",
       "<table border=\"1\" class=\"dataframe\">\n",
       "  <thead>\n",
       "    <tr style=\"text-align: right;\">\n",
       "      <th></th>\n",
       "      <th>titulo</th>\n",
       "      <th>genero</th>\n",
       "      <th>servico_streaming</th>\n",
       "      <th>ano_lancamento</th>\n",
       "      <th>episodios</th>\n",
       "      <th>nota_imdb</th>\n",
       "    </tr>\n",
       "  </thead>\n",
       "  <tbody>\n",
       "    <tr>\n",
       "      <th>27</th>\n",
       "      <td>A Maldição de Volkov</td>\n",
       "      <td>Comédia</td>\n",
       "      <td>HBO Max</td>\n",
       "      <td>2024</td>\n",
       "      <td>48</td>\n",
       "      <td>9.5</td>\n",
       "    </tr>\n",
       "  </tbody>\n",
       "</table>\n",
       "</div>"
      ],
      "text/plain": [
       "                  titulo   genero servico_streaming  ano_lancamento  \\\n",
       "27  A Maldição de Volkov  Comédia           HBO Max            2024   \n",
       "\n",
       "    episodios  nota_imdb  \n",
       "27         48        9.5  "
      ]
     },
     "execution_count": 14,
     "metadata": {},
     "output_type": "execute_result"
    }
   ],
   "source": [
    "df.sort_values(by='episodios', ascending=False).head(1)"
   ]
  },
  {
   "cell_type": "markdown",
   "id": "7e690a3a",
   "metadata": {},
   "source": [
    "Agrupar por genero"
   ]
  },
  {
   "cell_type": "code",
   "execution_count": 29,
   "id": "ef55956b",
   "metadata": {},
   "outputs": [
    {
     "data": {
      "text/html": [
       "<div>\n",
       "<style scoped>\n",
       "    .dataframe tbody tr th:only-of-type {\n",
       "        vertical-align: middle;\n",
       "    }\n",
       "\n",
       "    .dataframe tbody tr th {\n",
       "        vertical-align: top;\n",
       "    }\n",
       "\n",
       "    .dataframe thead th {\n",
       "        text-align: right;\n",
       "    }\n",
       "</style>\n",
       "<table border=\"1\" class=\"dataframe\">\n",
       "  <thead>\n",
       "    <tr style=\"text-align: right;\">\n",
       "      <th></th>\n",
       "      <th>titulo</th>\n",
       "    </tr>\n",
       "    <tr>\n",
       "      <th>genero</th>\n",
       "      <th></th>\n",
       "    </tr>\n",
       "  </thead>\n",
       "  <tbody>\n",
       "    <tr>\n",
       "      <th>Suspense</th>\n",
       "      <td>24</td>\n",
       "    </tr>\n",
       "    <tr>\n",
       "      <th>Comédia</th>\n",
       "      <td>21</td>\n",
       "    </tr>\n",
       "    <tr>\n",
       "      <th>Drama</th>\n",
       "      <td>20</td>\n",
       "    </tr>\n",
       "    <tr>\n",
       "      <th>Fantasia</th>\n",
       "      <td>19</td>\n",
       "    </tr>\n",
       "    <tr>\n",
       "      <th>Ficção Científica</th>\n",
       "      <td>16</td>\n",
       "    </tr>\n",
       "  </tbody>\n",
       "</table>\n",
       "</div>"
      ],
      "text/plain": [
       "                   titulo\n",
       "genero                   \n",
       "Suspense               24\n",
       "Comédia                21\n",
       "Drama                  20\n",
       "Fantasia               19\n",
       "Ficção Científica      16"
      ]
     },
     "execution_count": 29,
     "metadata": {},
     "output_type": "execute_result"
    }
   ],
   "source": [
    "genero = df.groupby(by='genero').count().sort_values(by='titulo', ascending=False)\n",
    "genero[['titulo']]"
   ]
  },
  {
   "cell_type": "markdown",
   "id": "620d721e",
   "metadata": {},
   "source": [
    "Streaming com mais séries"
   ]
  },
  {
   "cell_type": "code",
   "execution_count": 34,
   "id": "af2eaf07",
   "metadata": {},
   "outputs": [
    {
     "data": {
      "text/html": [
       "<div>\n",
       "<style scoped>\n",
       "    .dataframe tbody tr th:only-of-type {\n",
       "        vertical-align: middle;\n",
       "    }\n",
       "\n",
       "    .dataframe tbody tr th {\n",
       "        vertical-align: top;\n",
       "    }\n",
       "\n",
       "    .dataframe thead th {\n",
       "        text-align: right;\n",
       "    }\n",
       "</style>\n",
       "<table border=\"1\" class=\"dataframe\">\n",
       "  <thead>\n",
       "    <tr style=\"text-align: right;\">\n",
       "      <th></th>\n",
       "      <th>titulo</th>\n",
       "    </tr>\n",
       "    <tr>\n",
       "      <th>servico_streaming</th>\n",
       "      <th></th>\n",
       "    </tr>\n",
       "  </thead>\n",
       "  <tbody>\n",
       "    <tr>\n",
       "      <th>Star+</th>\n",
       "      <td>20</td>\n",
       "    </tr>\n",
       "    <tr>\n",
       "      <th>Netflix</th>\n",
       "      <td>20</td>\n",
       "    </tr>\n",
       "    <tr>\n",
       "      <th>HBO Max</th>\n",
       "      <td>25</td>\n",
       "    </tr>\n",
       "    <tr>\n",
       "      <th>Disney+</th>\n",
       "      <td>17</td>\n",
       "    </tr>\n",
       "    <tr>\n",
       "      <th>Amazon Prime Video</th>\n",
       "      <td>18</td>\n",
       "    </tr>\n",
       "  </tbody>\n",
       "</table>\n",
       "</div>"
      ],
      "text/plain": [
       "                    titulo\n",
       "servico_streaming         \n",
       "Star+                   20\n",
       "Netflix                 20\n",
       "HBO Max                 25\n",
       "Disney+                 17\n",
       "Amazon Prime Video      18"
      ]
     },
     "execution_count": 34,
     "metadata": {},
     "output_type": "execute_result"
    }
   ],
   "source": [
    "streaming = df.groupby(by='servico_streaming').count().sort_values(by='servico_streaming', ascending=False)\n",
    "streaming[['titulo']]"
   ]
  }
 ],
 "metadata": {
  "kernelspec": {
   "display_name": "Python 3",
   "language": "python",
   "name": "python3"
  },
  "language_info": {
   "codemirror_mode": {
    "name": "ipython",
    "version": 3
   },
   "file_extension": ".py",
   "mimetype": "text/x-python",
   "name": "python",
   "nbconvert_exporter": "python",
   "pygments_lexer": "ipython3",
   "version": "3.11.9"
  }
 },
 "nbformat": 4,
 "nbformat_minor": 5
}
