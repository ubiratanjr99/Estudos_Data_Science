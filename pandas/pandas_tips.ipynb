{
 "cells": [
  {
   "cell_type": "markdown",
   "id": "ed873dac",
   "metadata": {},
   "source": [
    "## Comandos Essenciais do Pandas"
   ]
  },
  {
   "cell_type": "markdown",
   "id": "3092897e",
   "metadata": {},
   "source": [
    "## Básicos"
   ]
  },
  {
   "cell_type": "code",
   "execution_count": null,
   "id": "8a0977a6",
   "metadata": {},
   "outputs": [],
   "source": [
    "import pandas as pd  # Importar pandas\n",
    "df = pd.read_csv('file.csv')  # Carregar CSV"
   ]
  },
  {
   "cell_type": "markdown",
   "id": "da7db65b",
   "metadata": {},
   "source": [
    "## Visualizar Dados"
   ]
  },
  {
   "cell_type": "code",
   "execution_count": null,
   "id": "c67cf6b6",
   "metadata": {},
   "outputs": [],
   "source": [
    "df.head()          # Primeiras 5 linhas\n",
    "df.tail()          # Últimas 5 linhas\n",
    "df.info()          # Estrutura e tipos\n",
    "df.describe()      # Estatísticas resumidas\n",
    "df.shape           # Linhas, colunas\n",
    "df.columns         # Nomes das colunas\n",
    "df.dtypes          # Tipos de dados"
   ]
  },
  {
   "cell_type": "markdown",
   "id": "03655bf3",
   "metadata": {},
   "source": [
    "## Selecionar e Acessar"
   ]
  },
  {
   "cell_type": "code",
   "execution_count": null,
   "id": "7ca9a7ed",
   "metadata": {},
   "outputs": [],
   "source": [
    "df['col']              # Coluna única\n",
    "df[['col1', 'col2']]   # Múltiplas colunas\n",
    "df.iloc[0]             # Linha por posição\n",
    "df.loc[0]              # Linha por rótulo\n",
    "df.loc[0, 'col']       # Célula específica"
   ]
  },
  {
   "cell_type": "markdown",
   "id": "ecb9949c",
   "metadata": {},
   "source": [
    "## Filtrar e Ordenar"
   ]
  },
  {
   "cell_type": "code",
   "execution_count": null,
   "id": "ea78b7a7",
   "metadata": {},
   "outputs": [],
   "source": [
    "df[df['Age'] > 30]                     # Filtrar linhas\n",
    "df.sort_values('Age')                  # Ordenar ascendente\n",
    "df.sort_values('Age', ascending=False) # Ordenar descendente"
   ]
  },
  {
   "cell_type": "markdown",
   "id": "22f41a05",
   "metadata": {},
   "source": [
    "## Limpar Dados"
   ]
  },
  {
   "cell_type": "code",
   "execution_count": null,
   "id": "6c781970",
   "metadata": {},
   "outputs": [],
   "source": [
    "df.isnull().sum()                     # Verificar nulos\n",
    "df.dropna()                           # Remover NaNs\n",
    "df.fillna(0)                          # Substituir NaNs\n",
    "df.drop('col', axis=1)                # Remover coluna\n",
    "df.rename(columns={'old': 'new'})     # Renomear\n",
    "df['Age'] = df['Age'].astype(int)     # Mudar tipo"
   ]
  },
  {
   "cell_type": "markdown",
   "id": "ab0f937e",
   "metadata": {},
   "source": [
    "## Modificar Dados"
   ]
  },
  {
   "cell_type": "code",
   "execution_count": null,
   "id": "b79bded9",
   "metadata": {},
   "outputs": [],
   "source": [
    "df['new'] = df['col1'] + df['col2']                  # Adicionar coluna\n",
    "df.groupby('col').mean()                             # Agrupar e agregar\n",
    "df.pivot_table(index='A', columns='B', values='C')   # Tabela dinâmica\n",
    "df.merge(df2, on='key')                              # Juntar dataframes"
   ]
  },
  {
   "cell_type": "markdown",
   "id": "170feec4",
   "metadata": {},
   "source": [
    "## Aplicar Funções"
   ]
  },
  {
   "cell_type": "code",
   "execution_count": null,
   "id": "00fbc23c",
   "metadata": {},
   "outputs": [],
   "source": [
    "df['col'].apply(len)                          # Aplicar função\n",
    "df['col'].map({'A': 1})                       # Mapear valores\n",
    "df.apply(lambda r: r['A'] + r['B'], axis=1)   # Por linha"
   ]
  },
  {
   "cell_type": "markdown",
   "id": "87f1b29f",
   "metadata": {},
   "source": [
    "## Plotar (Visualização Rápida)"
   ]
  },
  {
   "cell_type": "code",
   "execution_count": null,
   "id": "330e7df1",
   "metadata": {},
   "outputs": [],
   "source": [
    "df['col'].hist()                   # Histograma\n",
    "df.plot(x='A', y='B')              # Gráfico de linha\n",
    "sns.boxplot(x='col', data=df)      # Boxplot"
   ]
  },
  {
   "cell_type": "markdown",
   "id": "30471aee",
   "metadata": {},
   "source": [
    "## Salvar / Carregar"
   ]
  },
  {
   "cell_type": "code",
   "execution_count": null,
   "id": "43861423",
   "metadata": {},
   "outputs": [],
   "source": [
    "df.to_csv('file.csv')      # Salvar como CSV\n",
    "df.to_pickle('df.pkl')     # Salvar como pickle"
   ]
  }
 ],
 "metadata": {
  "language_info": {
   "name": "python"
  }
 },
 "nbformat": 4,
 "nbformat_minor": 5
}
