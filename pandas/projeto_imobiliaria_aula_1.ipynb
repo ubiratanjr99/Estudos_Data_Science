{
  "cells": [
    {
      "cell_type": "markdown",
      "metadata": {
        "id": "po_EJXY_WTZ6"
      },
      "source": [
        "# Conhecendo a base de dados"
      ]
    },
    {
      "cell_type": "markdown",
      "metadata": {
        "id": "Yg7As1VwWnTw"
      },
      "source": [
        "## Importando os dados\n"
      ]
    },
    {
      "cell_type": "code",
      "execution_count": 1,
      "metadata": {
        "id": "A0m9bw60V9Uj"
      },
      "outputs": [],
      "source": [
        "import pandas as pd"
      ]
    },
    {
      "cell_type": "code",
      "execution_count": 2,
      "metadata": {
        "colab": {
          "base_uri": "https://localhost:8080/",
          "height": 423
        },
        "id": "-8GmBuLzWlnS",
        "outputId": "8832cc14-7c60-47f1-f38f-bda73912e1f1"
      },
      "outputs": [
        {
          "data": {
            "text/html": [
              "<div>\n",
              "<style scoped>\n",
              "    .dataframe tbody tr th:only-of-type {\n",
              "        vertical-align: middle;\n",
              "    }\n",
              "\n",
              "    .dataframe tbody tr th {\n",
              "        vertical-align: top;\n",
              "    }\n",
              "\n",
              "    .dataframe thead th {\n",
              "        text-align: right;\n",
              "    }\n",
              "</style>\n",
              "<table border=\"1\" class=\"dataframe\">\n",
              "  <thead>\n",
              "    <tr style=\"text-align: right;\">\n",
              "      <th></th>\n",
              "      <th>Tipo;Bairro;Quartos;Vagas;Suites;Area;Valor;Condominio;IPTU</th>\n",
              "    </tr>\n",
              "  </thead>\n",
              "  <tbody>\n",
              "    <tr>\n",
              "      <th>0</th>\n",
              "      <td>Quitinete;Copacabana;1;0;0;40;1700;500;60</td>\n",
              "    </tr>\n",
              "    <tr>\n",
              "      <th>1</th>\n",
              "      <td>Casa;Jardim Botânico;2;0;1;100;7000;;</td>\n",
              "    </tr>\n",
              "    <tr>\n",
              "      <th>2</th>\n",
              "      <td>Conjunto Comercial/Sala;Barra da Tijuca;0;4;0;...</td>\n",
              "    </tr>\n",
              "    <tr>\n",
              "      <th>3</th>\n",
              "      <td>Apartamento;Centro;1;0;0;15;800;390;20</td>\n",
              "    </tr>\n",
              "    <tr>\n",
              "      <th>4</th>\n",
              "      <td>Apartamento;Higienópolis;1;0;0;48;800;230;</td>\n",
              "    </tr>\n",
              "    <tr>\n",
              "      <th>...</th>\n",
              "      <td>...</td>\n",
              "    </tr>\n",
              "    <tr>\n",
              "      <th>32955</th>\n",
              "      <td>Quitinete;Centro;0;0;0;27;800;350;25</td>\n",
              "    </tr>\n",
              "    <tr>\n",
              "      <th>32956</th>\n",
              "      <td>Apartamento;Jacarepaguá;3;1;2;78;1800;800;40</td>\n",
              "    </tr>\n",
              "    <tr>\n",
              "      <th>32957</th>\n",
              "      <td>Apartamento;São Francisco Xavier;2;1;0;48;1400...</td>\n",
              "    </tr>\n",
              "    <tr>\n",
              "      <th>32958</th>\n",
              "      <td>Apartamento;Leblon;2;0;0;70;3000;760;</td>\n",
              "    </tr>\n",
              "    <tr>\n",
              "      <th>32959</th>\n",
              "      <td>Conjunto Comercial/Sala;Centro;0;0;0;250;6500;...</td>\n",
              "    </tr>\n",
              "  </tbody>\n",
              "</table>\n",
              "<p>32960 rows × 1 columns</p>\n",
              "</div>"
            ],
            "text/plain": [
              "      Tipo;Bairro;Quartos;Vagas;Suites;Area;Valor;Condominio;IPTU\n",
              "0              Quitinete;Copacabana;1;0;0;40;1700;500;60         \n",
              "1                  Casa;Jardim Botânico;2;0;1;100;7000;;         \n",
              "2      Conjunto Comercial/Sala;Barra da Tijuca;0;4;0;...         \n",
              "3                 Apartamento;Centro;1;0;0;15;800;390;20         \n",
              "4             Apartamento;Higienópolis;1;0;0;48;800;230;         \n",
              "...                                                  ...         \n",
              "32955               Quitinete;Centro;0;0;0;27;800;350;25         \n",
              "32956       Apartamento;Jacarepaguá;3;1;2;78;1800;800;40         \n",
              "32957  Apartamento;São Francisco Xavier;2;1;0;48;1400...         \n",
              "32958              Apartamento;Leblon;2;0;0;70;3000;760;         \n",
              "32959  Conjunto Comercial/Sala;Centro;0;0;0;250;6500;...         \n",
              "\n",
              "[32960 rows x 1 columns]"
            ]
          },
          "execution_count": 2,
          "metadata": {},
          "output_type": "execute_result"
        }
      ],
      "source": [
        "url = 'https://raw.githubusercontent.com/alura-cursos/pandas-conhecendo-a-biblioteca/main/base-de-dados/aluguel.csv'\n",
        "pd.read_csv(url)"
      ]
    },
    {
      "cell_type": "code",
      "execution_count": 3,
      "metadata": {
        "colab": {
          "base_uri": "https://localhost:8080/",
          "height": 423
        },
        "id": "Af6xejuuWli2",
        "outputId": "a61ada88-b63a-46dc-9ab4-63230458efba"
      },
      "outputs": [
        {
          "data": {
            "text/html": [
              "<div>\n",
              "<style scoped>\n",
              "    .dataframe tbody tr th:only-of-type {\n",
              "        vertical-align: middle;\n",
              "    }\n",
              "\n",
              "    .dataframe tbody tr th {\n",
              "        vertical-align: top;\n",
              "    }\n",
              "\n",
              "    .dataframe thead th {\n",
              "        text-align: right;\n",
              "    }\n",
              "</style>\n",
              "<table border=\"1\" class=\"dataframe\">\n",
              "  <thead>\n",
              "    <tr style=\"text-align: right;\">\n",
              "      <th></th>\n",
              "      <th>Tipo</th>\n",
              "      <th>Bairro</th>\n",
              "      <th>Quartos</th>\n",
              "      <th>Vagas</th>\n",
              "      <th>Suites</th>\n",
              "      <th>Area</th>\n",
              "      <th>Valor</th>\n",
              "      <th>Condominio</th>\n",
              "      <th>IPTU</th>\n",
              "    </tr>\n",
              "  </thead>\n",
              "  <tbody>\n",
              "    <tr>\n",
              "      <th>0</th>\n",
              "      <td>Quitinete</td>\n",
              "      <td>Copacabana</td>\n",
              "      <td>1</td>\n",
              "      <td>0</td>\n",
              "      <td>0</td>\n",
              "      <td>40</td>\n",
              "      <td>1700.0</td>\n",
              "      <td>500.0</td>\n",
              "      <td>60.0</td>\n",
              "    </tr>\n",
              "    <tr>\n",
              "      <th>1</th>\n",
              "      <td>Casa</td>\n",
              "      <td>Jardim Botânico</td>\n",
              "      <td>2</td>\n",
              "      <td>0</td>\n",
              "      <td>1</td>\n",
              "      <td>100</td>\n",
              "      <td>7000.0</td>\n",
              "      <td>NaN</td>\n",
              "      <td>NaN</td>\n",
              "    </tr>\n",
              "    <tr>\n",
              "      <th>2</th>\n",
              "      <td>Conjunto Comercial/Sala</td>\n",
              "      <td>Barra da Tijuca</td>\n",
              "      <td>0</td>\n",
              "      <td>4</td>\n",
              "      <td>0</td>\n",
              "      <td>150</td>\n",
              "      <td>5200.0</td>\n",
              "      <td>4020.0</td>\n",
              "      <td>1111.0</td>\n",
              "    </tr>\n",
              "    <tr>\n",
              "      <th>3</th>\n",
              "      <td>Apartamento</td>\n",
              "      <td>Centro</td>\n",
              "      <td>1</td>\n",
              "      <td>0</td>\n",
              "      <td>0</td>\n",
              "      <td>15</td>\n",
              "      <td>800.0</td>\n",
              "      <td>390.0</td>\n",
              "      <td>20.0</td>\n",
              "    </tr>\n",
              "    <tr>\n",
              "      <th>4</th>\n",
              "      <td>Apartamento</td>\n",
              "      <td>Higienópolis</td>\n",
              "      <td>1</td>\n",
              "      <td>0</td>\n",
              "      <td>0</td>\n",
              "      <td>48</td>\n",
              "      <td>800.0</td>\n",
              "      <td>230.0</td>\n",
              "      <td>NaN</td>\n",
              "    </tr>\n",
              "    <tr>\n",
              "      <th>...</th>\n",
              "      <td>...</td>\n",
              "      <td>...</td>\n",
              "      <td>...</td>\n",
              "      <td>...</td>\n",
              "      <td>...</td>\n",
              "      <td>...</td>\n",
              "      <td>...</td>\n",
              "      <td>...</td>\n",
              "      <td>...</td>\n",
              "    </tr>\n",
              "    <tr>\n",
              "      <th>32955</th>\n",
              "      <td>Quitinete</td>\n",
              "      <td>Centro</td>\n",
              "      <td>0</td>\n",
              "      <td>0</td>\n",
              "      <td>0</td>\n",
              "      <td>27</td>\n",
              "      <td>800.0</td>\n",
              "      <td>350.0</td>\n",
              "      <td>25.0</td>\n",
              "    </tr>\n",
              "    <tr>\n",
              "      <th>32956</th>\n",
              "      <td>Apartamento</td>\n",
              "      <td>Jacarepaguá</td>\n",
              "      <td>3</td>\n",
              "      <td>1</td>\n",
              "      <td>2</td>\n",
              "      <td>78</td>\n",
              "      <td>1800.0</td>\n",
              "      <td>800.0</td>\n",
              "      <td>40.0</td>\n",
              "    </tr>\n",
              "    <tr>\n",
              "      <th>32957</th>\n",
              "      <td>Apartamento</td>\n",
              "      <td>São Francisco Xavier</td>\n",
              "      <td>2</td>\n",
              "      <td>1</td>\n",
              "      <td>0</td>\n",
              "      <td>48</td>\n",
              "      <td>1400.0</td>\n",
              "      <td>509.0</td>\n",
              "      <td>37.0</td>\n",
              "    </tr>\n",
              "    <tr>\n",
              "      <th>32958</th>\n",
              "      <td>Apartamento</td>\n",
              "      <td>Leblon</td>\n",
              "      <td>2</td>\n",
              "      <td>0</td>\n",
              "      <td>0</td>\n",
              "      <td>70</td>\n",
              "      <td>3000.0</td>\n",
              "      <td>760.0</td>\n",
              "      <td>NaN</td>\n",
              "    </tr>\n",
              "    <tr>\n",
              "      <th>32959</th>\n",
              "      <td>Conjunto Comercial/Sala</td>\n",
              "      <td>Centro</td>\n",
              "      <td>0</td>\n",
              "      <td>0</td>\n",
              "      <td>0</td>\n",
              "      <td>250</td>\n",
              "      <td>6500.0</td>\n",
              "      <td>4206.0</td>\n",
              "      <td>1109.0</td>\n",
              "    </tr>\n",
              "  </tbody>\n",
              "</table>\n",
              "<p>32960 rows × 9 columns</p>\n",
              "</div>"
            ],
            "text/plain": [
              "                          Tipo                Bairro  Quartos  Vagas  Suites  \\\n",
              "0                    Quitinete            Copacabana        1      0       0   \n",
              "1                         Casa       Jardim Botânico        2      0       1   \n",
              "2      Conjunto Comercial/Sala       Barra da Tijuca        0      4       0   \n",
              "3                  Apartamento                Centro        1      0       0   \n",
              "4                  Apartamento          Higienópolis        1      0       0   \n",
              "...                        ...                   ...      ...    ...     ...   \n",
              "32955                Quitinete                Centro        0      0       0   \n",
              "32956              Apartamento           Jacarepaguá        3      1       2   \n",
              "32957              Apartamento  São Francisco Xavier        2      1       0   \n",
              "32958              Apartamento                Leblon        2      0       0   \n",
              "32959  Conjunto Comercial/Sala                Centro        0      0       0   \n",
              "\n",
              "       Area   Valor  Condominio    IPTU  \n",
              "0        40  1700.0       500.0    60.0  \n",
              "1       100  7000.0         NaN     NaN  \n",
              "2       150  5200.0      4020.0  1111.0  \n",
              "3        15   800.0       390.0    20.0  \n",
              "4        48   800.0       230.0     NaN  \n",
              "...     ...     ...         ...     ...  \n",
              "32955    27   800.0       350.0    25.0  \n",
              "32956    78  1800.0       800.0    40.0  \n",
              "32957    48  1400.0       509.0    37.0  \n",
              "32958    70  3000.0       760.0     NaN  \n",
              "32959   250  6500.0      4206.0  1109.0  \n",
              "\n",
              "[32960 rows x 9 columns]"
            ]
          },
          "execution_count": 3,
          "metadata": {},
          "output_type": "execute_result"
        }
      ],
      "source": [
        "pd.read_csv(url, sep=';')"
      ]
    },
    {
      "cell_type": "code",
      "execution_count": 4,
      "metadata": {
        "colab": {
          "base_uri": "https://localhost:8080/",
          "height": 423
        },
        "id": "1EjEmItCWleQ",
        "outputId": "5e6b8dad-38fd-4968-e134-6396fb62907c"
      },
      "outputs": [
        {
          "data": {
            "text/html": [
              "<div>\n",
              "<style scoped>\n",
              "    .dataframe tbody tr th:only-of-type {\n",
              "        vertical-align: middle;\n",
              "    }\n",
              "\n",
              "    .dataframe tbody tr th {\n",
              "        vertical-align: top;\n",
              "    }\n",
              "\n",
              "    .dataframe thead th {\n",
              "        text-align: right;\n",
              "    }\n",
              "</style>\n",
              "<table border=\"1\" class=\"dataframe\">\n",
              "  <thead>\n",
              "    <tr style=\"text-align: right;\">\n",
              "      <th></th>\n",
              "      <th>Tipo</th>\n",
              "      <th>Bairro</th>\n",
              "      <th>Quartos</th>\n",
              "      <th>Vagas</th>\n",
              "      <th>Suites</th>\n",
              "      <th>Area</th>\n",
              "      <th>Valor</th>\n",
              "      <th>Condominio</th>\n",
              "      <th>IPTU</th>\n",
              "    </tr>\n",
              "  </thead>\n",
              "  <tbody>\n",
              "    <tr>\n",
              "      <th>0</th>\n",
              "      <td>Quitinete</td>\n",
              "      <td>Copacabana</td>\n",
              "      <td>1</td>\n",
              "      <td>0</td>\n",
              "      <td>0</td>\n",
              "      <td>40</td>\n",
              "      <td>1700.0</td>\n",
              "      <td>500.0</td>\n",
              "      <td>60.0</td>\n",
              "    </tr>\n",
              "    <tr>\n",
              "      <th>1</th>\n",
              "      <td>Casa</td>\n",
              "      <td>Jardim Botânico</td>\n",
              "      <td>2</td>\n",
              "      <td>0</td>\n",
              "      <td>1</td>\n",
              "      <td>100</td>\n",
              "      <td>7000.0</td>\n",
              "      <td>NaN</td>\n",
              "      <td>NaN</td>\n",
              "    </tr>\n",
              "    <tr>\n",
              "      <th>2</th>\n",
              "      <td>Conjunto Comercial/Sala</td>\n",
              "      <td>Barra da Tijuca</td>\n",
              "      <td>0</td>\n",
              "      <td>4</td>\n",
              "      <td>0</td>\n",
              "      <td>150</td>\n",
              "      <td>5200.0</td>\n",
              "      <td>4020.0</td>\n",
              "      <td>1111.0</td>\n",
              "    </tr>\n",
              "    <tr>\n",
              "      <th>3</th>\n",
              "      <td>Apartamento</td>\n",
              "      <td>Centro</td>\n",
              "      <td>1</td>\n",
              "      <td>0</td>\n",
              "      <td>0</td>\n",
              "      <td>15</td>\n",
              "      <td>800.0</td>\n",
              "      <td>390.0</td>\n",
              "      <td>20.0</td>\n",
              "    </tr>\n",
              "    <tr>\n",
              "      <th>4</th>\n",
              "      <td>Apartamento</td>\n",
              "      <td>Higienópolis</td>\n",
              "      <td>1</td>\n",
              "      <td>0</td>\n",
              "      <td>0</td>\n",
              "      <td>48</td>\n",
              "      <td>800.0</td>\n",
              "      <td>230.0</td>\n",
              "      <td>NaN</td>\n",
              "    </tr>\n",
              "    <tr>\n",
              "      <th>...</th>\n",
              "      <td>...</td>\n",
              "      <td>...</td>\n",
              "      <td>...</td>\n",
              "      <td>...</td>\n",
              "      <td>...</td>\n",
              "      <td>...</td>\n",
              "      <td>...</td>\n",
              "      <td>...</td>\n",
              "      <td>...</td>\n",
              "    </tr>\n",
              "    <tr>\n",
              "      <th>32955</th>\n",
              "      <td>Quitinete</td>\n",
              "      <td>Centro</td>\n",
              "      <td>0</td>\n",
              "      <td>0</td>\n",
              "      <td>0</td>\n",
              "      <td>27</td>\n",
              "      <td>800.0</td>\n",
              "      <td>350.0</td>\n",
              "      <td>25.0</td>\n",
              "    </tr>\n",
              "    <tr>\n",
              "      <th>32956</th>\n",
              "      <td>Apartamento</td>\n",
              "      <td>Jacarepaguá</td>\n",
              "      <td>3</td>\n",
              "      <td>1</td>\n",
              "      <td>2</td>\n",
              "      <td>78</td>\n",
              "      <td>1800.0</td>\n",
              "      <td>800.0</td>\n",
              "      <td>40.0</td>\n",
              "    </tr>\n",
              "    <tr>\n",
              "      <th>32957</th>\n",
              "      <td>Apartamento</td>\n",
              "      <td>São Francisco Xavier</td>\n",
              "      <td>2</td>\n",
              "      <td>1</td>\n",
              "      <td>0</td>\n",
              "      <td>48</td>\n",
              "      <td>1400.0</td>\n",
              "      <td>509.0</td>\n",
              "      <td>37.0</td>\n",
              "    </tr>\n",
              "    <tr>\n",
              "      <th>32958</th>\n",
              "      <td>Apartamento</td>\n",
              "      <td>Leblon</td>\n",
              "      <td>2</td>\n",
              "      <td>0</td>\n",
              "      <td>0</td>\n",
              "      <td>70</td>\n",
              "      <td>3000.0</td>\n",
              "      <td>760.0</td>\n",
              "      <td>NaN</td>\n",
              "    </tr>\n",
              "    <tr>\n",
              "      <th>32959</th>\n",
              "      <td>Conjunto Comercial/Sala</td>\n",
              "      <td>Centro</td>\n",
              "      <td>0</td>\n",
              "      <td>0</td>\n",
              "      <td>0</td>\n",
              "      <td>250</td>\n",
              "      <td>6500.0</td>\n",
              "      <td>4206.0</td>\n",
              "      <td>1109.0</td>\n",
              "    </tr>\n",
              "  </tbody>\n",
              "</table>\n",
              "<p>32960 rows × 9 columns</p>\n",
              "</div>"
            ],
            "text/plain": [
              "                          Tipo                Bairro  Quartos  Vagas  Suites  \\\n",
              "0                    Quitinete            Copacabana        1      0       0   \n",
              "1                         Casa       Jardim Botânico        2      0       1   \n",
              "2      Conjunto Comercial/Sala       Barra da Tijuca        0      4       0   \n",
              "3                  Apartamento                Centro        1      0       0   \n",
              "4                  Apartamento          Higienópolis        1      0       0   \n",
              "...                        ...                   ...      ...    ...     ...   \n",
              "32955                Quitinete                Centro        0      0       0   \n",
              "32956              Apartamento           Jacarepaguá        3      1       2   \n",
              "32957              Apartamento  São Francisco Xavier        2      1       0   \n",
              "32958              Apartamento                Leblon        2      0       0   \n",
              "32959  Conjunto Comercial/Sala                Centro        0      0       0   \n",
              "\n",
              "       Area   Valor  Condominio    IPTU  \n",
              "0        40  1700.0       500.0    60.0  \n",
              "1       100  7000.0         NaN     NaN  \n",
              "2       150  5200.0      4020.0  1111.0  \n",
              "3        15   800.0       390.0    20.0  \n",
              "4        48   800.0       230.0     NaN  \n",
              "...     ...     ...         ...     ...  \n",
              "32955    27   800.0       350.0    25.0  \n",
              "32956    78  1800.0       800.0    40.0  \n",
              "32957    48  1400.0       509.0    37.0  \n",
              "32958    70  3000.0       760.0     NaN  \n",
              "32959   250  6500.0      4206.0  1109.0  \n",
              "\n",
              "[32960 rows x 9 columns]"
            ]
          },
          "execution_count": 4,
          "metadata": {},
          "output_type": "execute_result"
        }
      ],
      "source": [
        "dados = pd.read_csv(url, sep=';')\n",
        "dados"
      ]
    },
    {
      "cell_type": "code",
      "execution_count": 5,
      "metadata": {
        "colab": {
          "base_uri": "https://localhost:8080/",
          "height": 363
        },
        "id": "KaWMKbLmWlZj",
        "outputId": "8303c8ef-e140-4dbe-c677-f8416a24d5ee"
      },
      "outputs": [
        {
          "data": {
            "text/html": [
              "<div>\n",
              "<style scoped>\n",
              "    .dataframe tbody tr th:only-of-type {\n",
              "        vertical-align: middle;\n",
              "    }\n",
              "\n",
              "    .dataframe tbody tr th {\n",
              "        vertical-align: top;\n",
              "    }\n",
              "\n",
              "    .dataframe thead th {\n",
              "        text-align: right;\n",
              "    }\n",
              "</style>\n",
              "<table border=\"1\" class=\"dataframe\">\n",
              "  <thead>\n",
              "    <tr style=\"text-align: right;\">\n",
              "      <th></th>\n",
              "      <th>Tipo</th>\n",
              "      <th>Bairro</th>\n",
              "      <th>Quartos</th>\n",
              "      <th>Vagas</th>\n",
              "      <th>Suites</th>\n",
              "      <th>Area</th>\n",
              "      <th>Valor</th>\n",
              "      <th>Condominio</th>\n",
              "      <th>IPTU</th>\n",
              "    </tr>\n",
              "  </thead>\n",
              "  <tbody>\n",
              "    <tr>\n",
              "      <th>0</th>\n",
              "      <td>Quitinete</td>\n",
              "      <td>Copacabana</td>\n",
              "      <td>1</td>\n",
              "      <td>0</td>\n",
              "      <td>0</td>\n",
              "      <td>40</td>\n",
              "      <td>1700.0</td>\n",
              "      <td>500.0</td>\n",
              "      <td>60.0</td>\n",
              "    </tr>\n",
              "    <tr>\n",
              "      <th>1</th>\n",
              "      <td>Casa</td>\n",
              "      <td>Jardim Botânico</td>\n",
              "      <td>2</td>\n",
              "      <td>0</td>\n",
              "      <td>1</td>\n",
              "      <td>100</td>\n",
              "      <td>7000.0</td>\n",
              "      <td>NaN</td>\n",
              "      <td>NaN</td>\n",
              "    </tr>\n",
              "    <tr>\n",
              "      <th>2</th>\n",
              "      <td>Conjunto Comercial/Sala</td>\n",
              "      <td>Barra da Tijuca</td>\n",
              "      <td>0</td>\n",
              "      <td>4</td>\n",
              "      <td>0</td>\n",
              "      <td>150</td>\n",
              "      <td>5200.0</td>\n",
              "      <td>4020.0</td>\n",
              "      <td>1111.0</td>\n",
              "    </tr>\n",
              "    <tr>\n",
              "      <th>3</th>\n",
              "      <td>Apartamento</td>\n",
              "      <td>Centro</td>\n",
              "      <td>1</td>\n",
              "      <td>0</td>\n",
              "      <td>0</td>\n",
              "      <td>15</td>\n",
              "      <td>800.0</td>\n",
              "      <td>390.0</td>\n",
              "      <td>20.0</td>\n",
              "    </tr>\n",
              "    <tr>\n",
              "      <th>4</th>\n",
              "      <td>Apartamento</td>\n",
              "      <td>Higienópolis</td>\n",
              "      <td>1</td>\n",
              "      <td>0</td>\n",
              "      <td>0</td>\n",
              "      <td>48</td>\n",
              "      <td>800.0</td>\n",
              "      <td>230.0</td>\n",
              "      <td>NaN</td>\n",
              "    </tr>\n",
              "    <tr>\n",
              "      <th>5</th>\n",
              "      <td>Apartamento</td>\n",
              "      <td>Vista Alegre</td>\n",
              "      <td>3</td>\n",
              "      <td>1</td>\n",
              "      <td>0</td>\n",
              "      <td>70</td>\n",
              "      <td>1200.0</td>\n",
              "      <td>NaN</td>\n",
              "      <td>NaN</td>\n",
              "    </tr>\n",
              "    <tr>\n",
              "      <th>6</th>\n",
              "      <td>Apartamento</td>\n",
              "      <td>Cachambi</td>\n",
              "      <td>2</td>\n",
              "      <td>0</td>\n",
              "      <td>0</td>\n",
              "      <td>50</td>\n",
              "      <td>1300.0</td>\n",
              "      <td>301.0</td>\n",
              "      <td>17.0</td>\n",
              "    </tr>\n",
              "    <tr>\n",
              "      <th>7</th>\n",
              "      <td>Casa de Condomínio</td>\n",
              "      <td>Barra da Tijuca</td>\n",
              "      <td>5</td>\n",
              "      <td>4</td>\n",
              "      <td>5</td>\n",
              "      <td>750</td>\n",
              "      <td>22000.0</td>\n",
              "      <td>NaN</td>\n",
              "      <td>NaN</td>\n",
              "    </tr>\n",
              "    <tr>\n",
              "      <th>8</th>\n",
              "      <td>Casa de Condomínio</td>\n",
              "      <td>Ramos</td>\n",
              "      <td>2</td>\n",
              "      <td>2</td>\n",
              "      <td>0</td>\n",
              "      <td>65</td>\n",
              "      <td>1000.0</td>\n",
              "      <td>NaN</td>\n",
              "      <td>NaN</td>\n",
              "    </tr>\n",
              "    <tr>\n",
              "      <th>9</th>\n",
              "      <td>Conjunto Comercial/Sala</td>\n",
              "      <td>Centro</td>\n",
              "      <td>0</td>\n",
              "      <td>3</td>\n",
              "      <td>0</td>\n",
              "      <td>695</td>\n",
              "      <td>35000.0</td>\n",
              "      <td>19193.0</td>\n",
              "      <td>3030.0</td>\n",
              "    </tr>\n",
              "  </tbody>\n",
              "</table>\n",
              "</div>"
            ],
            "text/plain": [
              "                      Tipo           Bairro  Quartos  Vagas  Suites  Area  \\\n",
              "0                Quitinete       Copacabana        1      0       0    40   \n",
              "1                     Casa  Jardim Botânico        2      0       1   100   \n",
              "2  Conjunto Comercial/Sala  Barra da Tijuca        0      4       0   150   \n",
              "3              Apartamento           Centro        1      0       0    15   \n",
              "4              Apartamento     Higienópolis        1      0       0    48   \n",
              "5              Apartamento     Vista Alegre        3      1       0    70   \n",
              "6              Apartamento         Cachambi        2      0       0    50   \n",
              "7       Casa de Condomínio  Barra da Tijuca        5      4       5   750   \n",
              "8       Casa de Condomínio            Ramos        2      2       0    65   \n",
              "9  Conjunto Comercial/Sala           Centro        0      3       0   695   \n",
              "\n",
              "     Valor  Condominio    IPTU  \n",
              "0   1700.0       500.0    60.0  \n",
              "1   7000.0         NaN     NaN  \n",
              "2   5200.0      4020.0  1111.0  \n",
              "3    800.0       390.0    20.0  \n",
              "4    800.0       230.0     NaN  \n",
              "5   1200.0         NaN     NaN  \n",
              "6   1300.0       301.0    17.0  \n",
              "7  22000.0         NaN     NaN  \n",
              "8   1000.0         NaN     NaN  \n",
              "9  35000.0     19193.0  3030.0  "
            ]
          },
          "execution_count": 5,
          "metadata": {},
          "output_type": "execute_result"
        }
      ],
      "source": [
        "dados.head(10)"
      ]
    },
    {
      "cell_type": "code",
      "execution_count": 6,
      "metadata": {
        "colab": {
          "base_uri": "https://localhost:8080/",
          "height": 206
        },
        "id": "cfLu1_AcW1Y1",
        "outputId": "25873cd2-5112-4a22-93e6-9e0e7364c9d0"
      },
      "outputs": [
        {
          "data": {
            "text/html": [
              "<div>\n",
              "<style scoped>\n",
              "    .dataframe tbody tr th:only-of-type {\n",
              "        vertical-align: middle;\n",
              "    }\n",
              "\n",
              "    .dataframe tbody tr th {\n",
              "        vertical-align: top;\n",
              "    }\n",
              "\n",
              "    .dataframe thead th {\n",
              "        text-align: right;\n",
              "    }\n",
              "</style>\n",
              "<table border=\"1\" class=\"dataframe\">\n",
              "  <thead>\n",
              "    <tr style=\"text-align: right;\">\n",
              "      <th></th>\n",
              "      <th>Tipo</th>\n",
              "      <th>Bairro</th>\n",
              "      <th>Quartos</th>\n",
              "      <th>Vagas</th>\n",
              "      <th>Suites</th>\n",
              "      <th>Area</th>\n",
              "      <th>Valor</th>\n",
              "      <th>Condominio</th>\n",
              "      <th>IPTU</th>\n",
              "    </tr>\n",
              "  </thead>\n",
              "  <tbody>\n",
              "    <tr>\n",
              "      <th>32955</th>\n",
              "      <td>Quitinete</td>\n",
              "      <td>Centro</td>\n",
              "      <td>0</td>\n",
              "      <td>0</td>\n",
              "      <td>0</td>\n",
              "      <td>27</td>\n",
              "      <td>800.0</td>\n",
              "      <td>350.0</td>\n",
              "      <td>25.0</td>\n",
              "    </tr>\n",
              "    <tr>\n",
              "      <th>32956</th>\n",
              "      <td>Apartamento</td>\n",
              "      <td>Jacarepaguá</td>\n",
              "      <td>3</td>\n",
              "      <td>1</td>\n",
              "      <td>2</td>\n",
              "      <td>78</td>\n",
              "      <td>1800.0</td>\n",
              "      <td>800.0</td>\n",
              "      <td>40.0</td>\n",
              "    </tr>\n",
              "    <tr>\n",
              "      <th>32957</th>\n",
              "      <td>Apartamento</td>\n",
              "      <td>São Francisco Xavier</td>\n",
              "      <td>2</td>\n",
              "      <td>1</td>\n",
              "      <td>0</td>\n",
              "      <td>48</td>\n",
              "      <td>1400.0</td>\n",
              "      <td>509.0</td>\n",
              "      <td>37.0</td>\n",
              "    </tr>\n",
              "    <tr>\n",
              "      <th>32958</th>\n",
              "      <td>Apartamento</td>\n",
              "      <td>Leblon</td>\n",
              "      <td>2</td>\n",
              "      <td>0</td>\n",
              "      <td>0</td>\n",
              "      <td>70</td>\n",
              "      <td>3000.0</td>\n",
              "      <td>760.0</td>\n",
              "      <td>NaN</td>\n",
              "    </tr>\n",
              "    <tr>\n",
              "      <th>32959</th>\n",
              "      <td>Conjunto Comercial/Sala</td>\n",
              "      <td>Centro</td>\n",
              "      <td>0</td>\n",
              "      <td>0</td>\n",
              "      <td>0</td>\n",
              "      <td>250</td>\n",
              "      <td>6500.0</td>\n",
              "      <td>4206.0</td>\n",
              "      <td>1109.0</td>\n",
              "    </tr>\n",
              "  </tbody>\n",
              "</table>\n",
              "</div>"
            ],
            "text/plain": [
              "                          Tipo                Bairro  Quartos  Vagas  Suites  \\\n",
              "32955                Quitinete                Centro        0      0       0   \n",
              "32956              Apartamento           Jacarepaguá        3      1       2   \n",
              "32957              Apartamento  São Francisco Xavier        2      1       0   \n",
              "32958              Apartamento                Leblon        2      0       0   \n",
              "32959  Conjunto Comercial/Sala                Centro        0      0       0   \n",
              "\n",
              "       Area   Valor  Condominio    IPTU  \n",
              "32955    27   800.0       350.0    25.0  \n",
              "32956    78  1800.0       800.0    40.0  \n",
              "32957    48  1400.0       509.0    37.0  \n",
              "32958    70  3000.0       760.0     NaN  \n",
              "32959   250  6500.0      4206.0  1109.0  "
            ]
          },
          "execution_count": 6,
          "metadata": {},
          "output_type": "execute_result"
        }
      ],
      "source": [
        "dados.tail()"
      ]
    },
    {
      "cell_type": "code",
      "execution_count": 7,
      "metadata": {
        "colab": {
          "base_uri": "https://localhost:8080/"
        },
        "id": "-6wHgCC6W3Dq",
        "outputId": "325bb2cf-4332-44a9-984f-e4e7b4f39e1c"
      },
      "outputs": [
        {
          "data": {
            "text/plain": [
              "pandas.core.frame.DataFrame"
            ]
          },
          "execution_count": 7,
          "metadata": {},
          "output_type": "execute_result"
        }
      ],
      "source": [
        "type(dados)"
      ]
    },
    {
      "cell_type": "markdown",
      "metadata": {
        "id": "rwL6VcT9W6W-"
      },
      "source": [
        "## Características gerais da base de dados"
      ]
    },
    {
      "cell_type": "code",
      "execution_count": 8,
      "metadata": {
        "colab": {
          "base_uri": "https://localhost:8080/"
        },
        "id": "V3RRXTIYW7KV",
        "outputId": "8dfc48c6-be9c-4c54-f51b-f62eff1a9905"
      },
      "outputs": [
        {
          "data": {
            "text/plain": [
              "(32960, 9)"
            ]
          },
          "execution_count": 8,
          "metadata": {},
          "output_type": "execute_result"
        }
      ],
      "source": [
        "dados.shape"
      ]
    },
    {
      "cell_type": "code",
      "execution_count": 9,
      "metadata": {
        "colab": {
          "base_uri": "https://localhost:8080/"
        },
        "id": "55WX-hlnW6wm",
        "outputId": "65e9dd2d-12c6-4a69-b781-bc992f9a6ffa"
      },
      "outputs": [
        {
          "data": {
            "text/plain": [
              "Index(['Tipo', 'Bairro', 'Quartos', 'Vagas', 'Suites', 'Area', 'Valor',\n",
              "       'Condominio', 'IPTU'],\n",
              "      dtype='object')"
            ]
          },
          "execution_count": 9,
          "metadata": {},
          "output_type": "execute_result"
        }
      ],
      "source": [
        "dados.columns"
      ]
    },
    {
      "cell_type": "code",
      "execution_count": 10,
      "metadata": {
        "colab": {
          "base_uri": "https://localhost:8080/"
        },
        "id": "yacj_jwOXESW",
        "outputId": "d2cdb6dd-69c0-4e8c-e34e-7c7b4165dab2"
      },
      "outputs": [
        {
          "name": "stdout",
          "output_type": "stream",
          "text": [
            "<class 'pandas.core.frame.DataFrame'>\n",
            "RangeIndex: 32960 entries, 0 to 32959\n",
            "Data columns (total 9 columns):\n",
            " #   Column      Non-Null Count  Dtype  \n",
            "---  ------      --------------  -----  \n",
            " 0   Tipo        32960 non-null  object \n",
            " 1   Bairro      32960 non-null  object \n",
            " 2   Quartos     32960 non-null  int64  \n",
            " 3   Vagas       32960 non-null  int64  \n",
            " 4   Suites      32960 non-null  int64  \n",
            " 5   Area        32960 non-null  int64  \n",
            " 6   Valor       32943 non-null  float64\n",
            " 7   Condominio  28867 non-null  float64\n",
            " 8   IPTU        22723 non-null  float64\n",
            "dtypes: float64(3), int64(4), object(2)\n",
            "memory usage: 2.3+ MB\n"
          ]
        }
      ],
      "source": [
        "dados.info()"
      ]
    },
    {
      "cell_type": "code",
      "execution_count": 11,
      "metadata": {
        "colab": {
          "base_uri": "https://localhost:8080/"
        },
        "id": "Mh5HqrORXEMu",
        "outputId": "19ddf61a-24bf-4a35-e8c6-19490e1212bb"
      },
      "outputs": [
        {
          "data": {
            "text/plain": [
              "0                      Quitinete\n",
              "1                           Casa\n",
              "2        Conjunto Comercial/Sala\n",
              "3                    Apartamento\n",
              "4                    Apartamento\n",
              "                  ...           \n",
              "32955                  Quitinete\n",
              "32956                Apartamento\n",
              "32957                Apartamento\n",
              "32958                Apartamento\n",
              "32959    Conjunto Comercial/Sala\n",
              "Name: Tipo, Length: 32960, dtype: object"
            ]
          },
          "execution_count": 11,
          "metadata": {},
          "output_type": "execute_result"
        }
      ],
      "source": [
        "dados['Tipo']"
      ]
    },
    {
      "cell_type": "code",
      "execution_count": 12,
      "metadata": {
        "colab": {
          "base_uri": "https://localhost:8080/",
          "height": 423
        },
        "id": "ZmygOLCMXIyB",
        "outputId": "c426dfe8-f99b-4d7b-d98b-ea2ee49dbccf"
      },
      "outputs": [
        {
          "data": {
            "text/html": [
              "<div>\n",
              "<style scoped>\n",
              "    .dataframe tbody tr th:only-of-type {\n",
              "        vertical-align: middle;\n",
              "    }\n",
              "\n",
              "    .dataframe tbody tr th {\n",
              "        vertical-align: top;\n",
              "    }\n",
              "\n",
              "    .dataframe thead th {\n",
              "        text-align: right;\n",
              "    }\n",
              "</style>\n",
              "<table border=\"1\" class=\"dataframe\">\n",
              "  <thead>\n",
              "    <tr style=\"text-align: right;\">\n",
              "      <th></th>\n",
              "      <th>Quartos</th>\n",
              "      <th>Valor</th>\n",
              "    </tr>\n",
              "  </thead>\n",
              "  <tbody>\n",
              "    <tr>\n",
              "      <th>0</th>\n",
              "      <td>1</td>\n",
              "      <td>1700.0</td>\n",
              "    </tr>\n",
              "    <tr>\n",
              "      <th>1</th>\n",
              "      <td>2</td>\n",
              "      <td>7000.0</td>\n",
              "    </tr>\n",
              "    <tr>\n",
              "      <th>2</th>\n",
              "      <td>0</td>\n",
              "      <td>5200.0</td>\n",
              "    </tr>\n",
              "    <tr>\n",
              "      <th>3</th>\n",
              "      <td>1</td>\n",
              "      <td>800.0</td>\n",
              "    </tr>\n",
              "    <tr>\n",
              "      <th>4</th>\n",
              "      <td>1</td>\n",
              "      <td>800.0</td>\n",
              "    </tr>\n",
              "    <tr>\n",
              "      <th>...</th>\n",
              "      <td>...</td>\n",
              "      <td>...</td>\n",
              "    </tr>\n",
              "    <tr>\n",
              "      <th>32955</th>\n",
              "      <td>0</td>\n",
              "      <td>800.0</td>\n",
              "    </tr>\n",
              "    <tr>\n",
              "      <th>32956</th>\n",
              "      <td>3</td>\n",
              "      <td>1800.0</td>\n",
              "    </tr>\n",
              "    <tr>\n",
              "      <th>32957</th>\n",
              "      <td>2</td>\n",
              "      <td>1400.0</td>\n",
              "    </tr>\n",
              "    <tr>\n",
              "      <th>32958</th>\n",
              "      <td>2</td>\n",
              "      <td>3000.0</td>\n",
              "    </tr>\n",
              "    <tr>\n",
              "      <th>32959</th>\n",
              "      <td>0</td>\n",
              "      <td>6500.0</td>\n",
              "    </tr>\n",
              "  </tbody>\n",
              "</table>\n",
              "<p>32960 rows × 2 columns</p>\n",
              "</div>"
            ],
            "text/plain": [
              "       Quartos   Valor\n",
              "0            1  1700.0\n",
              "1            2  7000.0\n",
              "2            0  5200.0\n",
              "3            1   800.0\n",
              "4            1   800.0\n",
              "...        ...     ...\n",
              "32955        0   800.0\n",
              "32956        3  1800.0\n",
              "32957        2  1400.0\n",
              "32958        2  3000.0\n",
              "32959        0  6500.0\n",
              "\n",
              "[32960 rows x 2 columns]"
            ]
          },
          "execution_count": 12,
          "metadata": {},
          "output_type": "execute_result"
        }
      ],
      "source": [
        "dados[['Quartos', 'Valor']]"
      ]
    },
    {
      "cell_type": "markdown",
      "metadata": {
        "id": "cwVMOIMpWWfM"
      },
      "source": [
        "# Análise exploratória de dados"
      ]
    },
    {
      "cell_type": "markdown",
      "metadata": {
        "id": "rnsDqFNDYV9-"
      },
      "source": [
        "## Qual o valor médio de aluguel por tipo de imóvel?"
      ]
    },
    {
      "cell_type": "code",
      "execution_count": 13,
      "metadata": {
        "id": "WRsE4GdoHZbg"
      },
      "outputs": [
        {
          "data": {
            "text/plain": [
              "np.float64(12952.659715265761)"
            ]
          },
          "execution_count": 13,
          "metadata": {},
          "output_type": "execute_result"
        }
      ],
      "source": [
        "dados['Valor'].mean()"
      ]
    },
    {
      "cell_type": "code",
      "execution_count": 14,
      "metadata": {
        "id": "1CDTCoKvSZiy"
      },
      "outputs": [
        {
          "data": {
            "text/plain": [
              "<pandas.core.groupby.generic.DataFrameGroupBy object at 0x000001F5EDFB1E80>"
            ]
          },
          "execution_count": 14,
          "metadata": {},
          "output_type": "execute_result"
        }
      ],
      "source": [
        "dados.groupby('Tipo')"
      ]
    },
    {
      "cell_type": "code",
      "execution_count": 15,
      "metadata": {
        "id": "7No8Z_W_YXJ1"
      },
      "outputs": [
        {
          "data": {
            "text/html": [
              "<div>\n",
              "<style scoped>\n",
              "    .dataframe tbody tr th:only-of-type {\n",
              "        vertical-align: middle;\n",
              "    }\n",
              "\n",
              "    .dataframe tbody tr th {\n",
              "        vertical-align: top;\n",
              "    }\n",
              "\n",
              "    .dataframe thead th {\n",
              "        text-align: right;\n",
              "    }\n",
              "</style>\n",
              "<table border=\"1\" class=\"dataframe\">\n",
              "  <thead>\n",
              "    <tr style=\"text-align: right;\">\n",
              "      <th></th>\n",
              "      <th>Quartos</th>\n",
              "      <th>Vagas</th>\n",
              "      <th>Suites</th>\n",
              "      <th>Area</th>\n",
              "      <th>Valor</th>\n",
              "      <th>Condominio</th>\n",
              "      <th>IPTU</th>\n",
              "    </tr>\n",
              "    <tr>\n",
              "      <th>Tipo</th>\n",
              "      <th></th>\n",
              "      <th></th>\n",
              "      <th></th>\n",
              "      <th></th>\n",
              "      <th></th>\n",
              "      <th></th>\n",
              "      <th></th>\n",
              "    </tr>\n",
              "  </thead>\n",
              "  <tbody>\n",
              "    <tr>\n",
              "      <th>Apartamento</th>\n",
              "      <td>2.481569</td>\n",
              "      <td>1.232388</td>\n",
              "      <td>0.875998</td>\n",
              "      <td>119.790498</td>\n",
              "      <td>4744.614648</td>\n",
              "      <td>1722.653697</td>\n",
              "      <td>686.170413</td>\n",
              "    </tr>\n",
              "    <tr>\n",
              "      <th>Box/Garagem</th>\n",
              "      <td>0.060976</td>\n",
              "      <td>1.304878</td>\n",
              "      <td>0.000000</td>\n",
              "      <td>17.524390</td>\n",
              "      <td>1899.756098</td>\n",
              "      <td>305.450000</td>\n",
              "      <td>125.846154</td>\n",
              "    </tr>\n",
              "    <tr>\n",
              "      <th>Casa</th>\n",
              "      <td>3.133402</td>\n",
              "      <td>1.795243</td>\n",
              "      <td>1.258532</td>\n",
              "      <td>250.578077</td>\n",
              "      <td>6793.454922</td>\n",
              "      <td>931.280952</td>\n",
              "      <td>1582.506394</td>\n",
              "    </tr>\n",
              "    <tr>\n",
              "      <th>Casa Comercial</th>\n",
              "      <td>1.562264</td>\n",
              "      <td>2.203774</td>\n",
              "      <td>0.260377</td>\n",
              "      <td>372.241509</td>\n",
              "      <td>14478.264151</td>\n",
              "      <td>1935.709677</td>\n",
              "      <td>1707.386740</td>\n",
              "    </tr>\n",
              "    <tr>\n",
              "      <th>Casa de Condomínio</th>\n",
              "      <td>4.007028</td>\n",
              "      <td>3.101406</td>\n",
              "      <td>2.864458</td>\n",
              "      <td>456.161647</td>\n",
              "      <td>11952.061245</td>\n",
              "      <td>1342.025527</td>\n",
              "      <td>3252.517730</td>\n",
              "    </tr>\n",
              "    <tr>\n",
              "      <th>Casa de Vila</th>\n",
              "      <td>1.927711</td>\n",
              "      <td>0.389558</td>\n",
              "      <td>0.228916</td>\n",
              "      <td>78.469880</td>\n",
              "      <td>1574.369478</td>\n",
              "      <td>138.768421</td>\n",
              "      <td>183.878788</td>\n",
              "    </tr>\n",
              "    <tr>\n",
              "      <th>Chácara</th>\n",
              "      <td>3.000000</td>\n",
              "      <td>0.000000</td>\n",
              "      <td>0.000000</td>\n",
              "      <td>0.000000</td>\n",
              "      <td>4900.000000</td>\n",
              "      <td>NaN</td>\n",
              "      <td>NaN</td>\n",
              "    </tr>\n",
              "    <tr>\n",
              "      <th>Conjunto Comercial/Sala</th>\n",
              "      <td>0.040939</td>\n",
              "      <td>2.516801</td>\n",
              "      <td>0.010858</td>\n",
              "      <td>214.472487</td>\n",
              "      <td>14715.045521</td>\n",
              "      <td>4512.218100</td>\n",
              "      <td>1399.596571</td>\n",
              "    </tr>\n",
              "    <tr>\n",
              "      <th>Flat</th>\n",
              "      <td>1.415966</td>\n",
              "      <td>0.962185</td>\n",
              "      <td>0.754202</td>\n",
              "      <td>65.483193</td>\n",
              "      <td>4546.189076</td>\n",
              "      <td>2027.720554</td>\n",
              "      <td>493.166667</td>\n",
              "    </tr>\n",
              "    <tr>\n",
              "      <th>Galpão/Depósito/Armazém</th>\n",
              "      <td>0.043339</td>\n",
              "      <td>5.587480</td>\n",
              "      <td>0.000000</td>\n",
              "      <td>2514.810594</td>\n",
              "      <td>53407.062600</td>\n",
              "      <td>10560.308824</td>\n",
              "      <td>5050.465241</td>\n",
              "    </tr>\n",
              "    <tr>\n",
              "      <th>Hotel</th>\n",
              "      <td>25.500000</td>\n",
              "      <td>2.500000</td>\n",
              "      <td>12.000000</td>\n",
              "      <td>885.500000</td>\n",
              "      <td>25000.000000</td>\n",
              "      <td>NaN</td>\n",
              "      <td>6202.000000</td>\n",
              "    </tr>\n",
              "    <tr>\n",
              "      <th>Indústria</th>\n",
              "      <td>0.000000</td>\n",
              "      <td>0.000000</td>\n",
              "      <td>0.000000</td>\n",
              "      <td>22.000000</td>\n",
              "      <td>120000.000000</td>\n",
              "      <td>NaN</td>\n",
              "      <td>NaN</td>\n",
              "    </tr>\n",
              "    <tr>\n",
              "      <th>Loft</th>\n",
              "      <td>1.117647</td>\n",
              "      <td>0.666667</td>\n",
              "      <td>0.372549</td>\n",
              "      <td>58.372549</td>\n",
              "      <td>2557.882353</td>\n",
              "      <td>869.239130</td>\n",
              "      <td>238.243243</td>\n",
              "    </tr>\n",
              "    <tr>\n",
              "      <th>Loja Shopping/ Ct Comercial</th>\n",
              "      <td>0.044534</td>\n",
              "      <td>6.874494</td>\n",
              "      <td>0.008097</td>\n",
              "      <td>88.109312</td>\n",
              "      <td>8126.178862</td>\n",
              "      <td>1790.109005</td>\n",
              "      <td>1052.415459</td>\n",
              "    </tr>\n",
              "    <tr>\n",
              "      <th>Loja/Salão</th>\n",
              "      <td>0.010519</td>\n",
              "      <td>1.217391</td>\n",
              "      <td>0.043478</td>\n",
              "      <td>228.852034</td>\n",
              "      <td>13769.646770</td>\n",
              "      <td>2605.601954</td>\n",
              "      <td>2670.331409</td>\n",
              "    </tr>\n",
              "    <tr>\n",
              "      <th>Loteamento/Condomínio</th>\n",
              "      <td>0.000000</td>\n",
              "      <td>0.000000</td>\n",
              "      <td>0.000000</td>\n",
              "      <td>2069.000000</td>\n",
              "      <td>22000.000000</td>\n",
              "      <td>NaN</td>\n",
              "      <td>4885.000000</td>\n",
              "    </tr>\n",
              "    <tr>\n",
              "      <th>Pousada/Chalé</th>\n",
              "      <td>23.000000</td>\n",
              "      <td>0.000000</td>\n",
              "      <td>23.000000</td>\n",
              "      <td>862.000000</td>\n",
              "      <td>1480.000000</td>\n",
              "      <td>295.000000</td>\n",
              "      <td>NaN</td>\n",
              "    </tr>\n",
              "    <tr>\n",
              "      <th>Prédio Inteiro</th>\n",
              "      <td>0.335548</td>\n",
              "      <td>11.199336</td>\n",
              "      <td>0.019934</td>\n",
              "      <td>1773.837209</td>\n",
              "      <td>498637.239203</td>\n",
              "      <td>55066.750000</td>\n",
              "      <td>165480.022472</td>\n",
              "    </tr>\n",
              "    <tr>\n",
              "      <th>Quitinete</th>\n",
              "      <td>0.834928</td>\n",
              "      <td>0.017943</td>\n",
              "      <td>0.037081</td>\n",
              "      <td>28.954545</td>\n",
              "      <td>1246.840909</td>\n",
              "      <td>427.341969</td>\n",
              "      <td>75.790741</td>\n",
              "    </tr>\n",
              "    <tr>\n",
              "      <th>Studio</th>\n",
              "      <td>0.500000</td>\n",
              "      <td>0.250000</td>\n",
              "      <td>0.000000</td>\n",
              "      <td>103.250000</td>\n",
              "      <td>2400.000000</td>\n",
              "      <td>549.000000</td>\n",
              "      <td>151.250000</td>\n",
              "    </tr>\n",
              "    <tr>\n",
              "      <th>Sítio</th>\n",
              "      <td>5.100000</td>\n",
              "      <td>1.000000</td>\n",
              "      <td>3.800000</td>\n",
              "      <td>15217.000000</td>\n",
              "      <td>12499.000000</td>\n",
              "      <td>NaN</td>\n",
              "      <td>5848.800000</td>\n",
              "    </tr>\n",
              "    <tr>\n",
              "      <th>Terreno Padrão</th>\n",
              "      <td>0.042857</td>\n",
              "      <td>0.057143</td>\n",
              "      <td>0.000000</td>\n",
              "      <td>5044.814286</td>\n",
              "      <td>32567.714286</td>\n",
              "      <td>1.000000</td>\n",
              "      <td>5138.170732</td>\n",
              "    </tr>\n",
              "  </tbody>\n",
              "</table>\n",
              "</div>"
            ],
            "text/plain": [
              "                               Quartos      Vagas     Suites          Area  \\\n",
              "Tipo                                                                         \n",
              "Apartamento                   2.481569   1.232388   0.875998    119.790498   \n",
              "Box/Garagem                   0.060976   1.304878   0.000000     17.524390   \n",
              "Casa                          3.133402   1.795243   1.258532    250.578077   \n",
              "Casa Comercial                1.562264   2.203774   0.260377    372.241509   \n",
              "Casa de Condomínio            4.007028   3.101406   2.864458    456.161647   \n",
              "Casa de Vila                  1.927711   0.389558   0.228916     78.469880   \n",
              "Chácara                       3.000000   0.000000   0.000000      0.000000   \n",
              "Conjunto Comercial/Sala       0.040939   2.516801   0.010858    214.472487   \n",
              "Flat                          1.415966   0.962185   0.754202     65.483193   \n",
              "Galpão/Depósito/Armazém       0.043339   5.587480   0.000000   2514.810594   \n",
              "Hotel                        25.500000   2.500000  12.000000    885.500000   \n",
              "Indústria                     0.000000   0.000000   0.000000     22.000000   \n",
              "Loft                          1.117647   0.666667   0.372549     58.372549   \n",
              "Loja Shopping/ Ct Comercial   0.044534   6.874494   0.008097     88.109312   \n",
              "Loja/Salão                    0.010519   1.217391   0.043478    228.852034   \n",
              "Loteamento/Condomínio         0.000000   0.000000   0.000000   2069.000000   \n",
              "Pousada/Chalé                23.000000   0.000000  23.000000    862.000000   \n",
              "Prédio Inteiro                0.335548  11.199336   0.019934   1773.837209   \n",
              "Quitinete                     0.834928   0.017943   0.037081     28.954545   \n",
              "Studio                        0.500000   0.250000   0.000000    103.250000   \n",
              "Sítio                         5.100000   1.000000   3.800000  15217.000000   \n",
              "Terreno Padrão                0.042857   0.057143   0.000000   5044.814286   \n",
              "\n",
              "                                     Valor    Condominio           IPTU  \n",
              "Tipo                                                                     \n",
              "Apartamento                    4744.614648   1722.653697     686.170413  \n",
              "Box/Garagem                    1899.756098    305.450000     125.846154  \n",
              "Casa                           6793.454922    931.280952    1582.506394  \n",
              "Casa Comercial                14478.264151   1935.709677    1707.386740  \n",
              "Casa de Condomínio            11952.061245   1342.025527    3252.517730  \n",
              "Casa de Vila                   1574.369478    138.768421     183.878788  \n",
              "Chácara                        4900.000000           NaN            NaN  \n",
              "Conjunto Comercial/Sala       14715.045521   4512.218100    1399.596571  \n",
              "Flat                           4546.189076   2027.720554     493.166667  \n",
              "Galpão/Depósito/Armazém       53407.062600  10560.308824    5050.465241  \n",
              "Hotel                         25000.000000           NaN    6202.000000  \n",
              "Indústria                    120000.000000           NaN            NaN  \n",
              "Loft                           2557.882353    869.239130     238.243243  \n",
              "Loja Shopping/ Ct Comercial    8126.178862   1790.109005    1052.415459  \n",
              "Loja/Salão                    13769.646770   2605.601954    2670.331409  \n",
              "Loteamento/Condomínio         22000.000000           NaN    4885.000000  \n",
              "Pousada/Chalé                  1480.000000    295.000000            NaN  \n",
              "Prédio Inteiro               498637.239203  55066.750000  165480.022472  \n",
              "Quitinete                      1246.840909    427.341969      75.790741  \n",
              "Studio                         2400.000000    549.000000     151.250000  \n",
              "Sítio                         12499.000000           NaN    5848.800000  \n",
              "Terreno Padrão                32567.714286      1.000000    5138.170732  "
            ]
          },
          "execution_count": 15,
          "metadata": {},
          "output_type": "execute_result"
        }
      ],
      "source": [
        "dados.groupby('Tipo').mean(numeric_only=True)"
      ]
    },
    {
      "cell_type": "code",
      "execution_count": 16,
      "metadata": {
        "id": "xwNUoofAYXFU"
      },
      "outputs": [
        {
          "data": {
            "text/plain": [
              "Tipo\n",
              "Apartamento                      4744.614648\n",
              "Box/Garagem                      1899.756098\n",
              "Casa                             6793.454922\n",
              "Casa Comercial                  14478.264151\n",
              "Casa de Condomínio              11952.061245\n",
              "Casa de Vila                     1574.369478\n",
              "Chácara                          4900.000000\n",
              "Conjunto Comercial/Sala         14715.045521\n",
              "Flat                             4546.189076\n",
              "Galpão/Depósito/Armazém         53407.062600\n",
              "Hotel                           25000.000000\n",
              "Indústria                      120000.000000\n",
              "Loft                             2557.882353\n",
              "Loja Shopping/ Ct Comercial      8126.178862\n",
              "Loja/Salão                      13769.646770\n",
              "Loteamento/Condomínio           22000.000000\n",
              "Pousada/Chalé                    1480.000000\n",
              "Prédio Inteiro                 498637.239203\n",
              "Quitinete                        1246.840909\n",
              "Studio                           2400.000000\n",
              "Sítio                           12499.000000\n",
              "Terreno Padrão                  32567.714286\n",
              "Name: Valor, dtype: float64"
            ]
          },
          "execution_count": 16,
          "metadata": {},
          "output_type": "execute_result"
        }
      ],
      "source": [
        "dados.groupby('Tipo')['Valor'].mean()"
      ]
    },
    {
      "cell_type": "code",
      "execution_count": 17,
      "metadata": {
        "id": "wc-pASG0YXBt"
      },
      "outputs": [
        {
          "data": {
            "text/html": [
              "<div>\n",
              "<style scoped>\n",
              "    .dataframe tbody tr th:only-of-type {\n",
              "        vertical-align: middle;\n",
              "    }\n",
              "\n",
              "    .dataframe tbody tr th {\n",
              "        vertical-align: top;\n",
              "    }\n",
              "\n",
              "    .dataframe thead th {\n",
              "        text-align: right;\n",
              "    }\n",
              "</style>\n",
              "<table border=\"1\" class=\"dataframe\">\n",
              "  <thead>\n",
              "    <tr style=\"text-align: right;\">\n",
              "      <th></th>\n",
              "      <th>Valor</th>\n",
              "    </tr>\n",
              "    <tr>\n",
              "      <th>Tipo</th>\n",
              "      <th></th>\n",
              "    </tr>\n",
              "  </thead>\n",
              "  <tbody>\n",
              "    <tr>\n",
              "      <th>Quitinete</th>\n",
              "      <td>1246.840909</td>\n",
              "    </tr>\n",
              "    <tr>\n",
              "      <th>Pousada/Chalé</th>\n",
              "      <td>1480.000000</td>\n",
              "    </tr>\n",
              "    <tr>\n",
              "      <th>Casa de Vila</th>\n",
              "      <td>1574.369478</td>\n",
              "    </tr>\n",
              "    <tr>\n",
              "      <th>Box/Garagem</th>\n",
              "      <td>1899.756098</td>\n",
              "    </tr>\n",
              "    <tr>\n",
              "      <th>Studio</th>\n",
              "      <td>2400.000000</td>\n",
              "    </tr>\n",
              "    <tr>\n",
              "      <th>Loft</th>\n",
              "      <td>2557.882353</td>\n",
              "    </tr>\n",
              "    <tr>\n",
              "      <th>Flat</th>\n",
              "      <td>4546.189076</td>\n",
              "    </tr>\n",
              "    <tr>\n",
              "      <th>Apartamento</th>\n",
              "      <td>4744.614648</td>\n",
              "    </tr>\n",
              "    <tr>\n",
              "      <th>Chácara</th>\n",
              "      <td>4900.000000</td>\n",
              "    </tr>\n",
              "    <tr>\n",
              "      <th>Casa</th>\n",
              "      <td>6793.454922</td>\n",
              "    </tr>\n",
              "    <tr>\n",
              "      <th>Loja Shopping/ Ct Comercial</th>\n",
              "      <td>8126.178862</td>\n",
              "    </tr>\n",
              "    <tr>\n",
              "      <th>Casa de Condomínio</th>\n",
              "      <td>11952.061245</td>\n",
              "    </tr>\n",
              "    <tr>\n",
              "      <th>Sítio</th>\n",
              "      <td>12499.000000</td>\n",
              "    </tr>\n",
              "    <tr>\n",
              "      <th>Loja/Salão</th>\n",
              "      <td>13769.646770</td>\n",
              "    </tr>\n",
              "    <tr>\n",
              "      <th>Casa Comercial</th>\n",
              "      <td>14478.264151</td>\n",
              "    </tr>\n",
              "    <tr>\n",
              "      <th>Conjunto Comercial/Sala</th>\n",
              "      <td>14715.045521</td>\n",
              "    </tr>\n",
              "    <tr>\n",
              "      <th>Loteamento/Condomínio</th>\n",
              "      <td>22000.000000</td>\n",
              "    </tr>\n",
              "    <tr>\n",
              "      <th>Hotel</th>\n",
              "      <td>25000.000000</td>\n",
              "    </tr>\n",
              "    <tr>\n",
              "      <th>Terreno Padrão</th>\n",
              "      <td>32567.714286</td>\n",
              "    </tr>\n",
              "    <tr>\n",
              "      <th>Galpão/Depósito/Armazém</th>\n",
              "      <td>53407.062600</td>\n",
              "    </tr>\n",
              "    <tr>\n",
              "      <th>Indústria</th>\n",
              "      <td>120000.000000</td>\n",
              "    </tr>\n",
              "    <tr>\n",
              "      <th>Prédio Inteiro</th>\n",
              "      <td>498637.239203</td>\n",
              "    </tr>\n",
              "  </tbody>\n",
              "</table>\n",
              "</div>"
            ],
            "text/plain": [
              "                                     Valor\n",
              "Tipo                                      \n",
              "Quitinete                      1246.840909\n",
              "Pousada/Chalé                  1480.000000\n",
              "Casa de Vila                   1574.369478\n",
              "Box/Garagem                    1899.756098\n",
              "Studio                         2400.000000\n",
              "Loft                           2557.882353\n",
              "Flat                           4546.189076\n",
              "Apartamento                    4744.614648\n",
              "Chácara                        4900.000000\n",
              "Casa                           6793.454922\n",
              "Loja Shopping/ Ct Comercial    8126.178862\n",
              "Casa de Condomínio            11952.061245\n",
              "Sítio                         12499.000000\n",
              "Loja/Salão                    13769.646770\n",
              "Casa Comercial                14478.264151\n",
              "Conjunto Comercial/Sala       14715.045521\n",
              "Loteamento/Condomínio         22000.000000\n",
              "Hotel                         25000.000000\n",
              "Terreno Padrão                32567.714286\n",
              "Galpão/Depósito/Armazém       53407.062600\n",
              "Indústria                    120000.000000\n",
              "Prédio Inteiro               498637.239203"
            ]
          },
          "execution_count": 17,
          "metadata": {},
          "output_type": "execute_result"
        }
      ],
      "source": [
        "dados.groupby('Tipo')[['Valor']].mean().sort_values('Valor')"
      ]
    },
    {
      "cell_type": "code",
      "execution_count": 18,
      "metadata": {},
      "outputs": [
        {
          "data": {
            "image/png": "[encoded data removed]",
            "text/plain": [
              "<Figure size 1400x1000 with 1 Axes>"
            ]
          },
          "metadata": {},
          "output_type": "display_data"
        }
      ],
      "source": [
        "df_preco_tipo = dados.groupby('Tipo')[['Valor']].mean().sort_values('Valor')\n",
        "\n",
        "df_preco_tipo.plot(kind='barh', figsize=(14, 10), color ='purple');"
      ]
    },
    {
      "cell_type": "markdown",
      "metadata": {
        "id": "c2rdhKbgZMpT"
      },
      "source": [
        "## Removendo os imóveis comerciais"
      ]
    },
    {
      "cell_type": "code",
      "execution_count": 19,
      "metadata": {
        "id": "JELgjo5dZIwe"
      },
      "outputs": [
        {
          "name": "stdout",
          "output_type": "stream",
          "text": [
            "Quitinete\n",
            "Casa\n",
            "Conjunto Comercial/Sala\n",
            "Apartamento\n",
            "Casa de Condomínio\n",
            "Prédio Inteiro\n",
            "Flat\n",
            "Loja/Salão\n",
            "Galpão/Depósito/Armazém\n",
            "Casa Comercial\n",
            "Casa de Vila\n",
            "Terreno Padrão\n",
            "Box/Garagem\n",
            "Loft\n",
            "Loja Shopping/ Ct Comercial\n",
            "Chácara\n",
            "Loteamento/Condomínio\n",
            "Sítio\n",
            "Pousada/Chalé\n",
            "Studio\n",
            "Hotel\n",
            "Indústria\n"
          ]
        }
      ],
      "source": [
        "unico = dados.Tipo.unique()\n",
        "for i in unico:\n",
        "    print(i) "
      ]
    },
    {
      "cell_type": "code",
      "execution_count": 20,
      "metadata": {
        "id": "rDVKB-xtZUU9"
      },
      "outputs": [],
      "source": [
        "imoveis_comerciais = ['Conjunto Comercial/Sala', \n",
        "                      'Prédio Inteiro', 'Loja/Salão', \n",
        "                      'Galpão/Depósito/Armazém', \n",
        "                      'Casa Comercial', 'Terreno Padrão',\n",
        "                      'Loja Shopping/ Ct Comercial',\n",
        "                      'Box/Garagem', 'Chácara',\n",
        "                      'Loteamento/Condomínio', 'Sítio',\n",
        "                      'Pousada/Chalé', 'Hotel', 'Indústria']"
      ]
    },
    {
      "cell_type": "code",
      "execution_count": 21,
      "metadata": {
        "id": "GK9p8CEK4CtU"
      },
      "outputs": [
        {
          "data": {
            "text/html": [
              "<div>\n",
              "<style scoped>\n",
              "    .dataframe tbody tr th:only-of-type {\n",
              "        vertical-align: middle;\n",
              "    }\n",
              "\n",
              "    .dataframe tbody tr th {\n",
              "        vertical-align: top;\n",
              "    }\n",
              "\n",
              "    .dataframe thead th {\n",
              "        text-align: right;\n",
              "    }\n",
              "</style>\n",
              "<table border=\"1\" class=\"dataframe\">\n",
              "  <thead>\n",
              "    <tr style=\"text-align: right;\">\n",
              "      <th></th>\n",
              "      <th>Tipo</th>\n",
              "      <th>Bairro</th>\n",
              "      <th>Quartos</th>\n",
              "      <th>Vagas</th>\n",
              "      <th>Suites</th>\n",
              "      <th>Area</th>\n",
              "      <th>Valor</th>\n",
              "      <th>Condominio</th>\n",
              "      <th>IPTU</th>\n",
              "    </tr>\n",
              "  </thead>\n",
              "  <tbody>\n",
              "    <tr>\n",
              "      <th>2</th>\n",
              "      <td>Conjunto Comercial/Sala</td>\n",
              "      <td>Barra da Tijuca</td>\n",
              "      <td>0</td>\n",
              "      <td>4</td>\n",
              "      <td>0</td>\n",
              "      <td>150</td>\n",
              "      <td>5200.0</td>\n",
              "      <td>4020.0</td>\n",
              "      <td>1111.0</td>\n",
              "    </tr>\n",
              "    <tr>\n",
              "      <th>9</th>\n",
              "      <td>Conjunto Comercial/Sala</td>\n",
              "      <td>Centro</td>\n",
              "      <td>0</td>\n",
              "      <td>3</td>\n",
              "      <td>0</td>\n",
              "      <td>695</td>\n",
              "      <td>35000.0</td>\n",
              "      <td>19193.0</td>\n",
              "      <td>3030.0</td>\n",
              "    </tr>\n",
              "    <tr>\n",
              "      <th>16</th>\n",
              "      <td>Prédio Inteiro</td>\n",
              "      <td>Botafogo</td>\n",
              "      <td>0</td>\n",
              "      <td>0</td>\n",
              "      <td>0</td>\n",
              "      <td>536</td>\n",
              "      <td>28000.0</td>\n",
              "      <td>NaN</td>\n",
              "      <td>3563.0</td>\n",
              "    </tr>\n",
              "    <tr>\n",
              "      <th>26</th>\n",
              "      <td>Conjunto Comercial/Sala</td>\n",
              "      <td>São Cristóvão</td>\n",
              "      <td>0</td>\n",
              "      <td>1</td>\n",
              "      <td>0</td>\n",
              "      <td>25</td>\n",
              "      <td>1100.0</td>\n",
              "      <td>600.0</td>\n",
              "      <td>NaN</td>\n",
              "    </tr>\n",
              "    <tr>\n",
              "      <th>29</th>\n",
              "      <td>Loja/Salão</td>\n",
              "      <td>Campo Grande</td>\n",
              "      <td>0</td>\n",
              "      <td>1</td>\n",
              "      <td>0</td>\n",
              "      <td>35</td>\n",
              "      <td>1300.0</td>\n",
              "      <td>950.0</td>\n",
              "      <td>NaN</td>\n",
              "    </tr>\n",
              "    <tr>\n",
              "      <th>...</th>\n",
              "      <td>...</td>\n",
              "      <td>...</td>\n",
              "      <td>...</td>\n",
              "      <td>...</td>\n",
              "      <td>...</td>\n",
              "      <td>...</td>\n",
              "      <td>...</td>\n",
              "      <td>...</td>\n",
              "      <td>...</td>\n",
              "    </tr>\n",
              "    <tr>\n",
              "      <th>32942</th>\n",
              "      <td>Conjunto Comercial/Sala</td>\n",
              "      <td>Barra da Tijuca</td>\n",
              "      <td>0</td>\n",
              "      <td>1</td>\n",
              "      <td>0</td>\n",
              "      <td>55</td>\n",
              "      <td>2000.0</td>\n",
              "      <td>1096.0</td>\n",
              "      <td>NaN</td>\n",
              "    </tr>\n",
              "    <tr>\n",
              "      <th>32946</th>\n",
              "      <td>Conjunto Comercial/Sala</td>\n",
              "      <td>Centro</td>\n",
              "      <td>0</td>\n",
              "      <td>0</td>\n",
              "      <td>0</td>\n",
              "      <td>140</td>\n",
              "      <td>4000.0</td>\n",
              "      <td>1412.0</td>\n",
              "      <td>496.0</td>\n",
              "    </tr>\n",
              "    <tr>\n",
              "      <th>32948</th>\n",
              "      <td>Conjunto Comercial/Sala</td>\n",
              "      <td>Centro</td>\n",
              "      <td>0</td>\n",
              "      <td>0</td>\n",
              "      <td>0</td>\n",
              "      <td>32</td>\n",
              "      <td>600.0</td>\n",
              "      <td>1035.0</td>\n",
              "      <td>83.0</td>\n",
              "    </tr>\n",
              "    <tr>\n",
              "      <th>32954</th>\n",
              "      <td>Box/Garagem</td>\n",
              "      <td>Centro</td>\n",
              "      <td>0</td>\n",
              "      <td>0</td>\n",
              "      <td>0</td>\n",
              "      <td>755</td>\n",
              "      <td>14000.0</td>\n",
              "      <td>NaN</td>\n",
              "      <td>NaN</td>\n",
              "    </tr>\n",
              "    <tr>\n",
              "      <th>32959</th>\n",
              "      <td>Conjunto Comercial/Sala</td>\n",
              "      <td>Centro</td>\n",
              "      <td>0</td>\n",
              "      <td>0</td>\n",
              "      <td>0</td>\n",
              "      <td>250</td>\n",
              "      <td>6500.0</td>\n",
              "      <td>4206.0</td>\n",
              "      <td>1109.0</td>\n",
              "    </tr>\n",
              "  </tbody>\n",
              "</table>\n",
              "<p>9849 rows × 9 columns</p>\n",
              "</div>"
            ],
            "text/plain": [
              "                          Tipo           Bairro  Quartos  Vagas  Suites  Area  \\\n",
              "2      Conjunto Comercial/Sala  Barra da Tijuca        0      4       0   150   \n",
              "9      Conjunto Comercial/Sala           Centro        0      3       0   695   \n",
              "16              Prédio Inteiro         Botafogo        0      0       0   536   \n",
              "26     Conjunto Comercial/Sala    São Cristóvão        0      1       0    25   \n",
              "29                  Loja/Salão     Campo Grande        0      1       0    35   \n",
              "...                        ...              ...      ...    ...     ...   ...   \n",
              "32942  Conjunto Comercial/Sala  Barra da Tijuca        0      1       0    55   \n",
              "32946  Conjunto Comercial/Sala           Centro        0      0       0   140   \n",
              "32948  Conjunto Comercial/Sala           Centro        0      0       0    32   \n",
              "32954              Box/Garagem           Centro        0      0       0   755   \n",
              "32959  Conjunto Comercial/Sala           Centro        0      0       0   250   \n",
              "\n",
              "         Valor  Condominio    IPTU  \n",
              "2       5200.0      4020.0  1111.0  \n",
              "9      35000.0     19193.0  3030.0  \n",
              "16     28000.0         NaN  3563.0  \n",
              "26      1100.0       600.0     NaN  \n",
              "29      1300.0       950.0     NaN  \n",
              "...        ...         ...     ...  \n",
              "32942   2000.0      1096.0     NaN  \n",
              "32946   4000.0      1412.0   496.0  \n",
              "32948    600.0      1035.0    83.0  \n",
              "32954  14000.0         NaN     NaN  \n",
              "32959   6500.0      4206.0  1109.0  \n",
              "\n",
              "[9849 rows x 9 columns]"
            ]
          },
          "execution_count": 21,
          "metadata": {},
          "output_type": "execute_result"
        }
      ],
      "source": [
        "dados.query('@imoveis_comerciais in Tipo')"
      ]
    },
    {
      "cell_type": "code",
      "execution_count": 22,
      "metadata": {
        "id": "v7dZPR5c4Oo2"
      },
      "outputs": [
        {
          "data": {
            "text/html": [
              "<div>\n",
              "<style scoped>\n",
              "    .dataframe tbody tr th:only-of-type {\n",
              "        vertical-align: middle;\n",
              "    }\n",
              "\n",
              "    .dataframe tbody tr th {\n",
              "        vertical-align: top;\n",
              "    }\n",
              "\n",
              "    .dataframe thead th {\n",
              "        text-align: right;\n",
              "    }\n",
              "</style>\n",
              "<table border=\"1\" class=\"dataframe\">\n",
              "  <thead>\n",
              "    <tr style=\"text-align: right;\">\n",
              "      <th></th>\n",
              "      <th>Tipo</th>\n",
              "      <th>Bairro</th>\n",
              "      <th>Quartos</th>\n",
              "      <th>Vagas</th>\n",
              "      <th>Suites</th>\n",
              "      <th>Area</th>\n",
              "      <th>Valor</th>\n",
              "      <th>Condominio</th>\n",
              "      <th>IPTU</th>\n",
              "    </tr>\n",
              "  </thead>\n",
              "  <tbody>\n",
              "    <tr>\n",
              "      <th>0</th>\n",
              "      <td>Quitinete</td>\n",
              "      <td>Copacabana</td>\n",
              "      <td>1</td>\n",
              "      <td>0</td>\n",
              "      <td>0</td>\n",
              "      <td>40</td>\n",
              "      <td>1700.0</td>\n",
              "      <td>500.0</td>\n",
              "      <td>60.0</td>\n",
              "    </tr>\n",
              "    <tr>\n",
              "      <th>1</th>\n",
              "      <td>Casa</td>\n",
              "      <td>Jardim Botânico</td>\n",
              "      <td>2</td>\n",
              "      <td>0</td>\n",
              "      <td>1</td>\n",
              "      <td>100</td>\n",
              "      <td>7000.0</td>\n",
              "      <td>NaN</td>\n",
              "      <td>NaN</td>\n",
              "    </tr>\n",
              "    <tr>\n",
              "      <th>3</th>\n",
              "      <td>Apartamento</td>\n",
              "      <td>Centro</td>\n",
              "      <td>1</td>\n",
              "      <td>0</td>\n",
              "      <td>0</td>\n",
              "      <td>15</td>\n",
              "      <td>800.0</td>\n",
              "      <td>390.0</td>\n",
              "      <td>20.0</td>\n",
              "    </tr>\n",
              "    <tr>\n",
              "      <th>4</th>\n",
              "      <td>Apartamento</td>\n",
              "      <td>Higienópolis</td>\n",
              "      <td>1</td>\n",
              "      <td>0</td>\n",
              "      <td>0</td>\n",
              "      <td>48</td>\n",
              "      <td>800.0</td>\n",
              "      <td>230.0</td>\n",
              "      <td>NaN</td>\n",
              "    </tr>\n",
              "    <tr>\n",
              "      <th>5</th>\n",
              "      <td>Apartamento</td>\n",
              "      <td>Vista Alegre</td>\n",
              "      <td>3</td>\n",
              "      <td>1</td>\n",
              "      <td>0</td>\n",
              "      <td>70</td>\n",
              "      <td>1200.0</td>\n",
              "      <td>NaN</td>\n",
              "      <td>NaN</td>\n",
              "    </tr>\n",
              "    <tr>\n",
              "      <th>...</th>\n",
              "      <td>...</td>\n",
              "      <td>...</td>\n",
              "      <td>...</td>\n",
              "      <td>...</td>\n",
              "      <td>...</td>\n",
              "      <td>...</td>\n",
              "      <td>...</td>\n",
              "      <td>...</td>\n",
              "      <td>...</td>\n",
              "    </tr>\n",
              "    <tr>\n",
              "      <th>32953</th>\n",
              "      <td>Apartamento</td>\n",
              "      <td>Méier</td>\n",
              "      <td>2</td>\n",
              "      <td>0</td>\n",
              "      <td>0</td>\n",
              "      <td>70</td>\n",
              "      <td>900.0</td>\n",
              "      <td>490.0</td>\n",
              "      <td>48.0</td>\n",
              "    </tr>\n",
              "    <tr>\n",
              "      <th>32955</th>\n",
              "      <td>Quitinete</td>\n",
              "      <td>Centro</td>\n",
              "      <td>0</td>\n",
              "      <td>0</td>\n",
              "      <td>0</td>\n",
              "      <td>27</td>\n",
              "      <td>800.0</td>\n",
              "      <td>350.0</td>\n",
              "      <td>25.0</td>\n",
              "    </tr>\n",
              "    <tr>\n",
              "      <th>32956</th>\n",
              "      <td>Apartamento</td>\n",
              "      <td>Jacarepaguá</td>\n",
              "      <td>3</td>\n",
              "      <td>1</td>\n",
              "      <td>2</td>\n",
              "      <td>78</td>\n",
              "      <td>1800.0</td>\n",
              "      <td>800.0</td>\n",
              "      <td>40.0</td>\n",
              "    </tr>\n",
              "    <tr>\n",
              "      <th>32957</th>\n",
              "      <td>Apartamento</td>\n",
              "      <td>São Francisco Xavier</td>\n",
              "      <td>2</td>\n",
              "      <td>1</td>\n",
              "      <td>0</td>\n",
              "      <td>48</td>\n",
              "      <td>1400.0</td>\n",
              "      <td>509.0</td>\n",
              "      <td>37.0</td>\n",
              "    </tr>\n",
              "    <tr>\n",
              "      <th>32958</th>\n",
              "      <td>Apartamento</td>\n",
              "      <td>Leblon</td>\n",
              "      <td>2</td>\n",
              "      <td>0</td>\n",
              "      <td>0</td>\n",
              "      <td>70</td>\n",
              "      <td>3000.0</td>\n",
              "      <td>760.0</td>\n",
              "      <td>NaN</td>\n",
              "    </tr>\n",
              "  </tbody>\n",
              "</table>\n",
              "<p>23111 rows × 9 columns</p>\n",
              "</div>"
            ],
            "text/plain": [
              "              Tipo                Bairro  Quartos  Vagas  Suites  Area  \\\n",
              "0        Quitinete            Copacabana        1      0       0    40   \n",
              "1             Casa       Jardim Botânico        2      0       1   100   \n",
              "3      Apartamento                Centro        1      0       0    15   \n",
              "4      Apartamento          Higienópolis        1      0       0    48   \n",
              "5      Apartamento          Vista Alegre        3      1       0    70   \n",
              "...            ...                   ...      ...    ...     ...   ...   \n",
              "32953  Apartamento                 Méier        2      0       0    70   \n",
              "32955    Quitinete                Centro        0      0       0    27   \n",
              "32956  Apartamento           Jacarepaguá        3      1       2    78   \n",
              "32957  Apartamento  São Francisco Xavier        2      1       0    48   \n",
              "32958  Apartamento                Leblon        2      0       0    70   \n",
              "\n",
              "        Valor  Condominio  IPTU  \n",
              "0      1700.0       500.0  60.0  \n",
              "1      7000.0         NaN   NaN  \n",
              "3       800.0       390.0  20.0  \n",
              "4       800.0       230.0   NaN  \n",
              "5      1200.0         NaN   NaN  \n",
              "...       ...         ...   ...  \n",
              "32953   900.0       490.0  48.0  \n",
              "32955   800.0       350.0  25.0  \n",
              "32956  1800.0       800.0  40.0  \n",
              "32957  1400.0       509.0  37.0  \n",
              "32958  3000.0       760.0   NaN  \n",
              "\n",
              "[23111 rows x 9 columns]"
            ]
          },
          "execution_count": 22,
          "metadata": {},
          "output_type": "execute_result"
        }
      ],
      "source": [
        "dados.query('@imoveis_comerciais not in Tipo')"
      ]
    },
    {
      "cell_type": "code",
      "execution_count": 23,
      "metadata": {
        "id": "DrCXtYhi4RcD"
      },
      "outputs": [
        {
          "name": "stdout",
          "output_type": "stream",
          "text": [
            "          Tipo           Bairro  Quartos  Vagas  Suites  Area   Valor  \\\n",
            "0    Quitinete       Copacabana        1      0       0    40  1700.0   \n",
            "1         Casa  Jardim Botânico        2      0       1   100  7000.0   \n",
            "3  Apartamento           Centro        1      0       0    15   800.0   \n",
            "4  Apartamento     Higienópolis        1      0       0    48   800.0   \n",
            "5  Apartamento     Vista Alegre        3      1       0    70  1200.0   \n",
            "\n",
            "   Condominio  IPTU  \n",
            "0       500.0  60.0  \n",
            "1         NaN   NaN  \n",
            "3       390.0  20.0  \n",
            "4       230.0   NaN  \n",
            "5         NaN   NaN  \n"
          ]
        }
      ],
      "source": [
        "df = dados.query('@imoveis_comerciais not in Tipo')\n",
        "print(df.head())"
      ]
    },
    {
      "cell_type": "code",
      "execution_count": 24,
      "metadata": {
        "id": "PsTmoPPh5VGa"
      },
      "outputs": [
        {
          "data": {
            "text/plain": [
              "array(['Quitinete', 'Casa', 'Apartamento', 'Casa de Condomínio', 'Flat',\n",
              "       'Casa de Vila', 'Loft', 'Studio'], dtype=object)"
            ]
          },
          "execution_count": 24,
          "metadata": {},
          "output_type": "execute_result"
        }
      ],
      "source": [
        "df.Tipo.unique()"
      ]
    },
    {
      "cell_type": "code",
      "execution_count": 25,
      "metadata": {
        "id": "ueADvdISZUSe"
      },
      "outputs": [
        {
          "data": {
            "text/plain": [
              "<Axes: ylabel='Tipo'>"
            ]
          },
          "execution_count": 25,
          "metadata": {},
          "output_type": "execute_result"
        },
        {
          "data": {
            "image/png": "[encoded data removed]",
            "text/plain": [
              "<Figure size 1400x1000 with 1 Axes>"
            ]
          },
          "metadata": {},
          "output_type": "display_data"
        }
      ],
      "source": [
        "df_preco_tipo = df.groupby('Tipo')[['Valor']].mean().sort_values('Valor')\n",
        "df_preco_tipo.plot(kind='barh', figsize=(14, 10), color ='purple')"
      ]
    },
    {
      "cell_type": "markdown",
      "metadata": {
        "id": "-wW1PcKCXP_8"
      },
      "source": [
        "## Qual o percentual de cada tipo de imóvel na nossa base de dados?"
      ]
    },
    {
      "cell_type": "code",
      "execution_count": 26,
      "metadata": {
        "id": "LFn-BeGNXa2k"
      },
      "outputs": [],
      "source": [
        "df_percentual_tipo = df['Tipo'].value_counts(normalize=True).to_frame().sort_values('proportion')"
      ]
    },
    {
      "cell_type": "code",
      "execution_count": 27,
      "metadata": {
        "id": "qpjKJkjmXa0A"
      },
      "outputs": [],
      "source": [
        "df_percentual_tipo = df['Tipo'].value_counts(normalize=True).to_frame().sort_values('proportion')"
      ]
    },
    {
      "cell_type": "code",
      "execution_count": 28,
      "metadata": {
        "id": "XMWQmHhbXaxG"
      },
      "outputs": [
        {
          "data": {
            "text/plain": [
              "Tipo\n",
              "Apartamento           19532\n",
              "Casa de Condomínio      996\n",
              "Casa                    967\n",
              "Quitinete               836\n",
              "Flat                    476\n",
              "Casa de Vila            249\n",
              "Loft                     51\n",
              "Studio                    4\n",
              "Name: count, dtype: int64"
            ]
          },
          "execution_count": 28,
          "metadata": {},
          "output_type": "execute_result"
        }
      ],
      "source": [
        "df.Tipo.value_counts()"
      ]
    },
    {
      "cell_type": "code",
      "execution_count": 33,
      "metadata": {
        "id": "PXr5xrBvXasw"
      },
      "outputs": [
        {
          "data": {
            "text/plain": [
              "Tipo\n",
              "Studio                0.000173\n",
              "Loft                  0.002207\n",
              "Casa de Vila          0.010774\n",
              "Flat                  0.020596\n",
              "Quitinete             0.036173\n",
              "Casa                  0.041842\n",
              "Casa de Condomínio    0.043096\n",
              "Apartamento           0.845139\n",
              "Name: proportion, dtype: float64"
            ]
          },
          "execution_count": 33,
          "metadata": {},
          "output_type": "execute_result"
        }
      ],
      "source": [
        "df.Tipo.value_counts(normalize=True).sort_values()"
      ]
    },
    {
      "cell_type": "code",
      "execution_count": 37,
      "metadata": {
        "id": "38RX1mLhXaqK"
      },
      "outputs": [],
      "source": [
        "df_percentual_tipo = df['Tipo'].value_counts(normalize=True).to_frame().sort_values('Tipo')"
      ]
    },
    {
      "cell_type": "code",
      "execution_count": 42,
      "metadata": {},
      "outputs": [
        {
          "data": {
            "text/plain": [
              "<Axes: xlabel='Tipos', ylabel='Percentual'>"
            ]
          },
          "execution_count": 42,
          "metadata": {},
          "output_type": "execute_result"
        },
        {
          "data": {
            "image/png": "[encoded data removed]",
            "text/plain": [
              "<Figure size 1400x1000 with 1 Axes>"
            ]
          },
          "metadata": {},
          "output_type": "display_data"
        }
      ],
      "source": [
        "df_percentual_tipo = df['Tipo'].value_counts(normalize=True).to_frame().sort_values('Tipo')\n",
        "\n",
        "df_percentual_tipo.plot(kind='bar', figsize=(14, 10), color ='purple', edgecolor='black',\n",
        "                        xlabel = 'Tipos', ylabel = 'Percentual')"
      ]
    },
    {
      "cell_type": "markdown",
      "metadata": {
        "id": "2TJSa7Nr59qr"
      },
      "source": [
        "### **Selecionando apenas os imóveis do tipo apartamento**"
      ]
    },
    {
      "cell_type": "code",
      "execution_count": 52,
      "metadata": {
        "id": "HZ7AhVhl6kXH"
      },
      "outputs": [
        {
          "data": {
            "text/html": [
              "<div>\n",
              "<style scoped>\n",
              "    .dataframe tbody tr th:only-of-type {\n",
              "        vertical-align: middle;\n",
              "    }\n",
              "\n",
              "    .dataframe tbody tr th {\n",
              "        vertical-align: top;\n",
              "    }\n",
              "\n",
              "    .dataframe thead th {\n",
              "        text-align: right;\n",
              "    }\n",
              "</style>\n",
              "<table border=\"1\" class=\"dataframe\">\n",
              "  <thead>\n",
              "    <tr style=\"text-align: right;\">\n",
              "      <th></th>\n",
              "      <th>Tipo</th>\n",
              "      <th>Bairro</th>\n",
              "      <th>Quartos</th>\n",
              "      <th>Vagas</th>\n",
              "      <th>Suites</th>\n",
              "      <th>Area</th>\n",
              "      <th>Valor</th>\n",
              "      <th>Condominio</th>\n",
              "      <th>IPTU</th>\n",
              "    </tr>\n",
              "  </thead>\n",
              "  <tbody>\n",
              "    <tr>\n",
              "      <th>3</th>\n",
              "      <td>Apartamento</td>\n",
              "      <td>Centro</td>\n",
              "      <td>1</td>\n",
              "      <td>0</td>\n",
              "      <td>0</td>\n",
              "      <td>15</td>\n",
              "      <td>800.0</td>\n",
              "      <td>390.0</td>\n",
              "      <td>20.0</td>\n",
              "    </tr>\n",
              "    <tr>\n",
              "      <th>4</th>\n",
              "      <td>Apartamento</td>\n",
              "      <td>Higienópolis</td>\n",
              "      <td>1</td>\n",
              "      <td>0</td>\n",
              "      <td>0</td>\n",
              "      <td>48</td>\n",
              "      <td>800.0</td>\n",
              "      <td>230.0</td>\n",
              "      <td>NaN</td>\n",
              "    </tr>\n",
              "    <tr>\n",
              "      <th>5</th>\n",
              "      <td>Apartamento</td>\n",
              "      <td>Vista Alegre</td>\n",
              "      <td>3</td>\n",
              "      <td>1</td>\n",
              "      <td>0</td>\n",
              "      <td>70</td>\n",
              "      <td>1200.0</td>\n",
              "      <td>NaN</td>\n",
              "      <td>NaN</td>\n",
              "    </tr>\n",
              "    <tr>\n",
              "      <th>6</th>\n",
              "      <td>Apartamento</td>\n",
              "      <td>Cachambi</td>\n",
              "      <td>2</td>\n",
              "      <td>0</td>\n",
              "      <td>0</td>\n",
              "      <td>50</td>\n",
              "      <td>1300.0</td>\n",
              "      <td>301.0</td>\n",
              "      <td>17.0</td>\n",
              "    </tr>\n",
              "    <tr>\n",
              "      <th>10</th>\n",
              "      <td>Apartamento</td>\n",
              "      <td>Centro</td>\n",
              "      <td>1</td>\n",
              "      <td>0</td>\n",
              "      <td>0</td>\n",
              "      <td>36</td>\n",
              "      <td>1200.0</td>\n",
              "      <td>NaN</td>\n",
              "      <td>NaN</td>\n",
              "    </tr>\n",
              "    <tr>\n",
              "      <th>...</th>\n",
              "      <td>...</td>\n",
              "      <td>...</td>\n",
              "      <td>...</td>\n",
              "      <td>...</td>\n",
              "      <td>...</td>\n",
              "      <td>...</td>\n",
              "      <td>...</td>\n",
              "      <td>...</td>\n",
              "      <td>...</td>\n",
              "    </tr>\n",
              "    <tr>\n",
              "      <th>32951</th>\n",
              "      <td>Apartamento</td>\n",
              "      <td>Vila Valqueire</td>\n",
              "      <td>2</td>\n",
              "      <td>0</td>\n",
              "      <td>0</td>\n",
              "      <td>52</td>\n",
              "      <td>1000.0</td>\n",
              "      <td>550.0</td>\n",
              "      <td>NaN</td>\n",
              "    </tr>\n",
              "    <tr>\n",
              "      <th>32953</th>\n",
              "      <td>Apartamento</td>\n",
              "      <td>Méier</td>\n",
              "      <td>2</td>\n",
              "      <td>0</td>\n",
              "      <td>0</td>\n",
              "      <td>70</td>\n",
              "      <td>900.0</td>\n",
              "      <td>490.0</td>\n",
              "      <td>48.0</td>\n",
              "    </tr>\n",
              "    <tr>\n",
              "      <th>32956</th>\n",
              "      <td>Apartamento</td>\n",
              "      <td>Jacarepaguá</td>\n",
              "      <td>3</td>\n",
              "      <td>1</td>\n",
              "      <td>2</td>\n",
              "      <td>78</td>\n",
              "      <td>1800.0</td>\n",
              "      <td>800.0</td>\n",
              "      <td>40.0</td>\n",
              "    </tr>\n",
              "    <tr>\n",
              "      <th>32957</th>\n",
              "      <td>Apartamento</td>\n",
              "      <td>São Francisco Xavier</td>\n",
              "      <td>2</td>\n",
              "      <td>1</td>\n",
              "      <td>0</td>\n",
              "      <td>48</td>\n",
              "      <td>1400.0</td>\n",
              "      <td>509.0</td>\n",
              "      <td>37.0</td>\n",
              "    </tr>\n",
              "    <tr>\n",
              "      <th>32958</th>\n",
              "      <td>Apartamento</td>\n",
              "      <td>Leblon</td>\n",
              "      <td>2</td>\n",
              "      <td>0</td>\n",
              "      <td>0</td>\n",
              "      <td>70</td>\n",
              "      <td>3000.0</td>\n",
              "      <td>760.0</td>\n",
              "      <td>NaN</td>\n",
              "    </tr>\n",
              "  </tbody>\n",
              "</table>\n",
              "<p>19532 rows × 9 columns</p>\n",
              "</div>"
            ],
            "text/plain": [
              "              Tipo                Bairro  Quartos  Vagas  Suites  Area  \\\n",
              "3      Apartamento                Centro        1      0       0    15   \n",
              "4      Apartamento          Higienópolis        1      0       0    48   \n",
              "5      Apartamento          Vista Alegre        3      1       0    70   \n",
              "6      Apartamento              Cachambi        2      0       0    50   \n",
              "10     Apartamento                Centro        1      0       0    36   \n",
              "...            ...                   ...      ...    ...     ...   ...   \n",
              "32951  Apartamento        Vila Valqueire        2      0       0    52   \n",
              "32953  Apartamento                 Méier        2      0       0    70   \n",
              "32956  Apartamento           Jacarepaguá        3      1       2    78   \n",
              "32957  Apartamento  São Francisco Xavier        2      1       0    48   \n",
              "32958  Apartamento                Leblon        2      0       0    70   \n",
              "\n",
              "        Valor  Condominio  IPTU  \n",
              "3       800.0       390.0  20.0  \n",
              "4       800.0       230.0   NaN  \n",
              "5      1200.0         NaN   NaN  \n",
              "6      1300.0       301.0  17.0  \n",
              "10     1200.0         NaN   NaN  \n",
              "...       ...         ...   ...  \n",
              "32951  1000.0       550.0   NaN  \n",
              "32953   900.0       490.0  48.0  \n",
              "32956  1800.0       800.0  40.0  \n",
              "32957  1400.0       509.0  37.0  \n",
              "32958  3000.0       760.0   NaN  \n",
              "\n",
              "[19532 rows x 9 columns]"
            ]
          },
          "execution_count": 52,
          "metadata": {},
          "output_type": "execute_result"
        }
      ],
      "source": [
        "df.query('Tipo == \"Apartamento\"')"
      ]
    },
    {
      "cell_type": "code",
      "execution_count": 54,
      "metadata": {
        "id": "0CtEDNjF6xKH"
      },
      "outputs": [
        {
          "data": {
            "text/html": [
              "<div>\n",
              "<style scoped>\n",
              "    .dataframe tbody tr th:only-of-type {\n",
              "        vertical-align: middle;\n",
              "    }\n",
              "\n",
              "    .dataframe tbody tr th {\n",
              "        vertical-align: top;\n",
              "    }\n",
              "\n",
              "    .dataframe thead th {\n",
              "        text-align: right;\n",
              "    }\n",
              "</style>\n",
              "<table border=\"1\" class=\"dataframe\">\n",
              "  <thead>\n",
              "    <tr style=\"text-align: right;\">\n",
              "      <th></th>\n",
              "      <th>Tipo</th>\n",
              "      <th>Bairro</th>\n",
              "      <th>Quartos</th>\n",
              "      <th>Vagas</th>\n",
              "      <th>Suites</th>\n",
              "      <th>Area</th>\n",
              "      <th>Valor</th>\n",
              "      <th>Condominio</th>\n",
              "      <th>IPTU</th>\n",
              "    </tr>\n",
              "  </thead>\n",
              "  <tbody>\n",
              "    <tr>\n",
              "      <th>3</th>\n",
              "      <td>Apartamento</td>\n",
              "      <td>Centro</td>\n",
              "      <td>1</td>\n",
              "      <td>0</td>\n",
              "      <td>0</td>\n",
              "      <td>15</td>\n",
              "      <td>800.0</td>\n",
              "      <td>390.0</td>\n",
              "      <td>20.0</td>\n",
              "    </tr>\n",
              "    <tr>\n",
              "      <th>4</th>\n",
              "      <td>Apartamento</td>\n",
              "      <td>Higienópolis</td>\n",
              "      <td>1</td>\n",
              "      <td>0</td>\n",
              "      <td>0</td>\n",
              "      <td>48</td>\n",
              "      <td>800.0</td>\n",
              "      <td>230.0</td>\n",
              "      <td>NaN</td>\n",
              "    </tr>\n",
              "    <tr>\n",
              "      <th>5</th>\n",
              "      <td>Apartamento</td>\n",
              "      <td>Vista Alegre</td>\n",
              "      <td>3</td>\n",
              "      <td>1</td>\n",
              "      <td>0</td>\n",
              "      <td>70</td>\n",
              "      <td>1200.0</td>\n",
              "      <td>NaN</td>\n",
              "      <td>NaN</td>\n",
              "    </tr>\n",
              "    <tr>\n",
              "      <th>6</th>\n",
              "      <td>Apartamento</td>\n",
              "      <td>Cachambi</td>\n",
              "      <td>2</td>\n",
              "      <td>0</td>\n",
              "      <td>0</td>\n",
              "      <td>50</td>\n",
              "      <td>1300.0</td>\n",
              "      <td>301.0</td>\n",
              "      <td>17.0</td>\n",
              "    </tr>\n",
              "    <tr>\n",
              "      <th>10</th>\n",
              "      <td>Apartamento</td>\n",
              "      <td>Centro</td>\n",
              "      <td>1</td>\n",
              "      <td>0</td>\n",
              "      <td>0</td>\n",
              "      <td>36</td>\n",
              "      <td>1200.0</td>\n",
              "      <td>NaN</td>\n",
              "      <td>NaN</td>\n",
              "    </tr>\n",
              "  </tbody>\n",
              "</table>\n",
              "</div>"
            ],
            "text/plain": [
              "           Tipo        Bairro  Quartos  Vagas  Suites  Area   Valor  \\\n",
              "3   Apartamento        Centro        1      0       0    15   800.0   \n",
              "4   Apartamento  Higienópolis        1      0       0    48   800.0   \n",
              "5   Apartamento  Vista Alegre        3      1       0    70  1200.0   \n",
              "6   Apartamento      Cachambi        2      0       0    50  1300.0   \n",
              "10  Apartamento        Centro        1      0       0    36  1200.0   \n",
              "\n",
              "    Condominio  IPTU  \n",
              "3        390.0  20.0  \n",
              "4        230.0   NaN  \n",
              "5          NaN   NaN  \n",
              "6        301.0  17.0  \n",
              "10         NaN   NaN  "
            ]
          },
          "execution_count": 54,
          "metadata": {},
          "output_type": "execute_result"
        }
      ],
      "source": [
        "df = df.query('Tipo == \"Apartamento\"')\n",
        "df.head()"
      ]
    },
    {
      "cell_type": "markdown",
      "metadata": {
        "id": "Qicz5ljuWYIG"
      },
      "source": [
        "# Tratando e filtrando os dados"
      ]
    },
    {
      "cell_type": "markdown",
      "metadata": {
        "id": "sx6e737KaaWV"
      },
      "source": [
        "## Lidando com dados nulos"
      ]
    },
    {
      "cell_type": "code",
      "execution_count": null,
      "metadata": {
        "id": "XYFrVbLlWX0j"
      },
      "outputs": [],
      "source": []
    },
    {
      "cell_type": "code",
      "execution_count": null,
      "metadata": {
        "id": "vtgPgHGnWYTZ"
      },
      "outputs": [],
      "source": []
    },
    {
      "cell_type": "code",
      "execution_count": null,
      "metadata": {
        "id": "Mw2m96vCaZvE"
      },
      "outputs": [],
      "source": []
    },
    {
      "cell_type": "code",
      "execution_count": null,
      "metadata": {
        "id": "KRF0dAyBaZq7"
      },
      "outputs": [],
      "source": []
    },
    {
      "cell_type": "code",
      "execution_count": null,
      "metadata": {
        "id": "Plaat1OsbJ-5"
      },
      "outputs": [],
      "source": []
    },
    {
      "cell_type": "code",
      "execution_count": null,
      "metadata": {
        "id": "wYReiMYibLZ1"
      },
      "outputs": [],
      "source": []
    },
    {
      "cell_type": "markdown",
      "metadata": {
        "id": "B_OC_jS8cL0n"
      },
      "source": [
        "## Removendo registros"
      ]
    },
    {
      "cell_type": "code",
      "execution_count": null,
      "metadata": {
        "id": "H955G70zcKwX"
      },
      "outputs": [],
      "source": []
    },
    {
      "cell_type": "code",
      "execution_count": null,
      "metadata": {
        "id": "7M_YtGLgxd0k"
      },
      "outputs": [],
      "source": []
    },
    {
      "cell_type": "code",
      "execution_count": null,
      "metadata": {
        "id": "R28sDOakx0dX"
      },
      "outputs": [],
      "source": []
    },
    {
      "cell_type": "code",
      "execution_count": null,
      "metadata": {
        "id": "p4UIflVTcKtN"
      },
      "outputs": [],
      "source": []
    },
    {
      "cell_type": "code",
      "execution_count": null,
      "metadata": {
        "id": "-hydAdP2e4m4"
      },
      "outputs": [],
      "source": []
    },
    {
      "cell_type": "code",
      "execution_count": null,
      "metadata": {
        "id": "jLJ8MM7byGHq"
      },
      "outputs": [],
      "source": []
    },
    {
      "cell_type": "code",
      "execution_count": null,
      "metadata": {
        "id": "Roc3lFaEe6lZ"
      },
      "outputs": [],
      "source": []
    },
    {
      "cell_type": "code",
      "execution_count": null,
      "metadata": {
        "id": "ksSN-IzN8Z7i"
      },
      "outputs": [],
      "source": []
    },
    {
      "cell_type": "code",
      "execution_count": null,
      "metadata": {
        "id": "XohBafvw8dsX"
      },
      "outputs": [],
      "source": []
    },
    {
      "cell_type": "markdown",
      "metadata": {
        "id": "khQPzyksg5Hx"
      },
      "source": [
        "## Filtros"
      ]
    },
    {
      "cell_type": "markdown",
      "metadata": {
        "id": "ruP5z4iUy0HA"
      },
      "source": [
        "### **1. Apartamentos que possuem `1 quarto` e `aluguel menor que 1200`**\n",
        "\n"
      ]
    },
    {
      "cell_type": "code",
      "execution_count": null,
      "metadata": {
        "id": "qTimHdpn-UjL"
      },
      "outputs": [],
      "source": []
    },
    {
      "cell_type": "code",
      "execution_count": null,
      "metadata": {
        "id": "_HAkpI9EeMPv"
      },
      "outputs": [],
      "source": []
    },
    {
      "cell_type": "code",
      "execution_count": null,
      "metadata": {
        "id": "i_uf0kP-0Jcv"
      },
      "outputs": [],
      "source": []
    },
    {
      "cell_type": "code",
      "execution_count": null,
      "metadata": {
        "id": "9iZXXwkE0JaL"
      },
      "outputs": [],
      "source": []
    },
    {
      "cell_type": "code",
      "execution_count": null,
      "metadata": {
        "id": "hTtHjRF271SQ"
      },
      "outputs": [],
      "source": []
    },
    {
      "cell_type": "markdown",
      "metadata": {
        "id": "cFeUf691y0oy"
      },
      "source": [
        "### **2. `Apartamentos` que possuem pelo menos `2 quartos`, `aluguel menor que 3000` e `area maior que 70`**"
      ]
    },
    {
      "cell_type": "code",
      "execution_count": null,
      "metadata": {
        "id": "nt0alj_leMeZ"
      },
      "outputs": [],
      "source": []
    },
    {
      "cell_type": "code",
      "execution_count": null,
      "metadata": {
        "id": "5b30hBhj76LA"
      },
      "outputs": [],
      "source": []
    },
    {
      "cell_type": "markdown",
      "metadata": {
        "id": "X44FZQVd8Bdy"
      },
      "source": [
        "## Salvando os dados"
      ]
    },
    {
      "cell_type": "code",
      "execution_count": null,
      "metadata": {
        "id": "KrvHtvZm9BXQ"
      },
      "outputs": [],
      "source": []
    },
    {
      "cell_type": "code",
      "execution_count": null,
      "metadata": {
        "id": "3MkTUyhj-G4L"
      },
      "outputs": [],
      "source": []
    },
    {
      "cell_type": "code",
      "execution_count": null,
      "metadata": {
        "id": "PuNhu13f96o0"
      },
      "outputs": [],
      "source": []
    },
    {
      "cell_type": "code",
      "execution_count": null,
      "metadata": {
        "id": "JlTd_yEP-F6B"
      },
      "outputs": [],
      "source": []
    },
    {
      "cell_type": "code",
      "execution_count": null,
      "metadata": {
        "id": "qtrF3cN3-PHn"
      },
      "outputs": [],
      "source": []
    },
    {
      "cell_type": "code",
      "execution_count": null,
      "metadata": {
        "id": "ldKDP26a-Rk1"
      },
      "outputs": [],
      "source": []
    },
    {
      "cell_type": "code",
      "execution_count": null,
      "metadata": {
        "id": "Y5e2jaBR-UmV"
      },
      "outputs": [],
      "source": []
    },
    {
      "cell_type": "code",
      "execution_count": null,
      "metadata": {
        "id": "x02MX4-bc6uR"
      },
      "outputs": [],
      "source": []
    },
    {
      "cell_type": "markdown",
      "metadata": {
        "id": "e6eJTZfKWXEs"
      },
      "source": [
        "# Manipulando os dados"
      ]
    },
    {
      "cell_type": "markdown",
      "metadata": {
        "id": "3i_NaXfjadEI"
      },
      "source": [
        "## Criando colunas numéricas"
      ]
    },
    {
      "cell_type": "code",
      "execution_count": null,
      "metadata": {
        "id": "49JAtiMED73t"
      },
      "outputs": [],
      "source": []
    },
    {
      "cell_type": "code",
      "execution_count": null,
      "metadata": {
        "id": "rBejF2_badiG"
      },
      "outputs": [],
      "source": []
    },
    {
      "cell_type": "code",
      "execution_count": null,
      "metadata": {
        "id": "66yfztw3ad2P"
      },
      "outputs": [],
      "source": []
    },
    {
      "cell_type": "markdown",
      "metadata": {
        "id": "TZtb57m2bjzR"
      },
      "source": [
        "## Criando colunas categóricas"
      ]
    },
    {
      "cell_type": "code",
      "execution_count": null,
      "metadata": {
        "id": "tb4crkqWJO3u"
      },
      "outputs": [],
      "source": []
    },
    {
      "cell_type": "code",
      "execution_count": null,
      "metadata": {
        "id": "gmfpWCBENjGx"
      },
      "outputs": [],
      "source": []
    },
    {
      "cell_type": "code",
      "execution_count": null,
      "metadata": {
        "id": "Z-27rFc7NSwq"
      },
      "outputs": [],
      "source": []
    },
    {
      "cell_type": "code",
      "execution_count": null,
      "metadata": {
        "id": "QSLfaWHlbkgD"
      },
      "outputs": [],
      "source": []
    },
    {
      "cell_type": "code",
      "execution_count": null,
      "metadata": {
        "id": "oAYh5rVAbkZp"
      },
      "outputs": [],
      "source": []
    }
  ],
  "metadata": {
    "colab": {
      "provenance": []
    },
    "kernelspec": {
      "display_name": "Python 3",
      "name": "python3"
    },
    "language_info": {
      "codemirror_mode": {
        "name": "ipython",
        "version": 3
      },
      "file_extension": ".py",
      "mimetype": "text/x-python",
      "name": "python",
      "nbconvert_exporter": "python",
      "pygments_lexer": "ipython3",
      "version": "3.13.1"
    }
  },
  "nbformat": 4,
  "nbformat_minor": 0
}
